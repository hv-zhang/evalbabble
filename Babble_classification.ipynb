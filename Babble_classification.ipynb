{
  "cells": [
    {
      "cell_type": "markdown",
      "source": [
        "# (DON'T RUN) Automated generation of training data"
      ],
      "metadata": {
        "id": "CoCQnzyngrdi"
      }
    },
    {
      "cell_type": "code",
      "source": [
        "import torch\n",
        "import torch.nn as nn\n",
        "import torch.nn.functional as F\n",
        "import torch.optim as optim\n",
        "import torchaudio\n",
        "import sys\n",
        "import matplotlib.pyplot as plt\n",
        "import IPython.display as ipd\n",
        "import requests\n",
        "from torch.utils.data import Dataset, DataLoader\n",
        "from pathlib import Path\n",
        "from google.colab import drive\n",
        "drive.mount('/content/gdrive/')\n",
        "from tqdm import tqdm\n",
        "import os\n",
        "import pandas as pd\n",
        "device = torch.device(\"cuda\" if torch.cuda.is_available() else \"cpu\")\n",
        "print(device)"
      ],
      "metadata": {
        "id": "HPADCW_lhbd_",
        "colab": {
          "base_uri": "https://localhost:8080/"
        },
        "outputId": "bbf5a4ef-f4af-4a9e-d54c-9b3524c6a1d7"
      },
      "execution_count": null,
      "outputs": [
        {
          "output_type": "stream",
          "name": "stdout",
          "text": [
            "Mounted at /content/gdrive/\n",
            "cpu\n"
          ]
        }
      ]
    },
    {
      "cell_type": "code",
      "source": [
        "#sample_rate of the Playback dataset (from BABY Lab): 48000 (found out with torch.audio)\n",
        "curr_dir =  \"/content/gdrive/MyDrive/Evaluationofbabbling_ZhangEdelman/data/\"\n",
        "sample_rate = 48000\n",
        "reference = pd.read_csv(curr_dir+str(\"Playback_infraphonology.csv\"))\n",
        "reference = reference[(reference[\"cat\"]==\"QRV\")|(reference[\"cat\"]==\"FRV\")|(reference[\"cat\"]==\"MSQR\")|\n",
        "                      (reference[\"cat\"]==\"MSFR\")|(reference[\"cat\"]==\"CS\")]\n",
        "\n",
        "current_subject = -9999\n",
        "for i, row in reference.iterrows():\n",
        "  sub = row[\"sub\"]\n",
        "  if sub != current_subject:\n",
        "    print(sub)\n",
        "    current_subject = sub\n",
        "    waveform, sample_rate = torchaudio.load(curr_dir +\"Playback audio from BABY Lab\"+\n",
        "                                            \"/PB S\" + str(sub) + \".wav\")\n",
        "\n",
        "  start = row[\"onset\"]\n",
        "  end  = row[\"offset\"]\n",
        "  clip = waveform[0:1, int(start*sample_rate):int(end*sample_rate)]\n",
        "  label = row[\"cat\"]\n",
        "  torchaudio.save(curr_dir + label+\"/PB S\" +str(sub)+\"_\"+str(i)+\"_\"+label+\".wav\", clip, sample_rate)"
      ],
      "metadata": {
        "id": "5wFd89EVgOmF",
        "colab": {
          "base_uri": "https://localhost:8080/"
        },
        "outputId": "719a5cbc-68f7-43cd-a6e5-f82401631dd3"
      },
      "execution_count": null,
      "outputs": [
        {
          "output_type": "stream",
          "name": "stdout",
          "text": [
            "1\n",
            "5\n",
            "7\n",
            "8\n",
            "9\n",
            "10\n",
            "11\n",
            "12\n",
            "13\n",
            "17\n",
            "18\n",
            "19\n",
            "22\n",
            "23\n",
            "25\n",
            "26\n",
            "27\n",
            "28\n",
            "29\n",
            "30\n",
            "31\n",
            "33\n",
            "34\n",
            "36\n",
            "37\n",
            "38\n",
            "39\n",
            "40\n",
            "41\n",
            "42\n",
            "43\n",
            "44\n",
            "45\n",
            "46\n",
            "47\n",
            "48\n",
            "50\n",
            "51\n",
            "52\n",
            "53\n",
            "55\n",
            "56\n",
            "58\n",
            "59\n",
            "60\n",
            "62\n",
            "64\n",
            "65\n",
            "67\n",
            "68\n",
            "69\n",
            "71\n",
            "73\n",
            "74\n",
            "75\n",
            "76\n",
            "77\n"
          ]
        }
      ]
    },
    {
      "cell_type": "markdown",
      "metadata": {
        "id": "C4e9onfbMkXm"
      },
      "source": [
        "\n",
        "# Babble Classification with torchaudio\n"
      ]
    },
    {
      "cell_type": "code",
      "execution_count": 1,
      "metadata": {
        "id": "DQRzhy0tMkXo",
        "colab": {
          "base_uri": "https://localhost:8080/"
        },
        "outputId": "75dee88a-4522-4b1c-ac2a-0791981695c2"
      },
      "outputs": [
        {
          "output_type": "stream",
          "name": "stdout",
          "text": [
            "Mounted at /content/gdrive/\n",
            "cpu\n"
          ]
        }
      ],
      "source": [
        "# CPU:\n",
        "# !pip install pydub torch==1.7.0+cpu torchvision==0.8.1+cpu torchaudio==0.7.0 -f https://download.pytorch.org/whl/torch_stable.html\n",
        "# GPU:\n",
        "# !pip install pydub torch==1.7.0+cu101 torchvision==0.8.1+cu101 torchaudio==0.7.0 -f https://download.pytorch.org/whl/torch_stable.html\n",
        "\n",
        "import torch\n",
        "import torch.nn as nn\n",
        "import torch.nn.functional as F\n",
        "import torch.optim as optim\n",
        "import torchaudio\n",
        "import sys\n",
        "import matplotlib.pyplot as plt\n",
        "import IPython.display as ipd\n",
        "import requests\n",
        "from torch.utils.data import Dataset, DataLoader\n",
        "from pathlib import Path\n",
        "from google.colab import drive\n",
        "drive.mount('/content/gdrive/')\n",
        "from tqdm import tqdm\n",
        "import os\n",
        "device = torch.device(\"cuda\" if torch.cuda.is_available() else \"cpu\")\n",
        "print(device)"
      ]
    },
    {
      "cell_type": "markdown",
      "metadata": {
        "id": "p5O9FBLCYT5T"
      },
      "source": [
        "# Load data\n"
      ]
    },
    {
      "cell_type": "code",
      "execution_count": 2,
      "metadata": {
        "id": "9drztFwcjiUc"
      },
      "outputs": [],
      "source": [
        "def load_audio_files(path: str, label:str):\n",
        "    dataset = []\n",
        "    walker = sorted(str(p) for p in Path(path).glob(f'*.wav'))\n",
        "    for i, file_path in enumerate(walker):\n",
        "        path, filename = os.path.split(file_path)\n",
        "        #print(\"File_path\", file_path)\n",
        "        waveform, sample_rate = torchaudio.load(file_path)\n",
        "        dataset.append([waveform, sample_rate, label])\n",
        "    return dataset"
      ]
    },
    {
      "cell_type": "code",
      "execution_count": 3,
      "metadata": {
        "id": "MdRrdD34pF1W"
      },
      "outputs": [],
      "source": [
        "curr_dir =  \"/content/gdrive/MyDrive/Evaluationofbabbling_ZhangEdelman/data/\"\n",
        "LABELS = [\"QRV\", \"FRV\", \"MSQR\", \"MSFR\", \"CS\"]\n",
        "all_data = []\n",
        "\n",
        "for label in LABELS:\n",
        "  dataset_label = load_audio_files(curr_dir + str(label), label)\n",
        "  all_data.extend(dataset_label)"
      ]
    },
    {
      "cell_type": "markdown",
      "metadata": {
        "id": "e0ajxL32YkBX"
      },
      "source": [
        "# Split into training and testing dataset"
      ]
    },
    {
      "cell_type": "code",
      "execution_count": 4,
      "metadata": {
        "id": "F1il1LxZHpec",
        "colab": {
          "base_uri": "https://localhost:8080/"
        },
        "outputId": "35b5558c-b98e-4b46-9192-296f8568f3a6"
      },
      "outputs": [
        {
          "output_type": "stream",
          "name": "stdout",
          "text": [
            "Training size: 3064\n",
            "Testing size: 766\n"
          ]
        }
      ],
      "source": [
        "train_size = int(0.8 * len(all_data))\n",
        "test_size = len(all_data) - train_size\n",
        "train_dataset, test_dataset = torch.utils.data.random_split(all_data, [train_size, test_size])\n",
        "\n",
        "print(\"Training size:\", len(train_dataset))\n",
        "print(\"Testing size:\",len(test_dataset))"
      ]
    },
    {
      "cell_type": "code",
      "execution_count": 5,
      "metadata": {
        "id": "EYQOAxAeaOKw",
        "colab": {
          "base_uri": "https://localhost:8080/"
        },
        "outputId": "e594329c-acab-4ec1-c2a2-3909d205a501"
      },
      "outputs": [
        {
          "output_type": "stream",
          "name": "stdout",
          "text": [
            "Waveform: tensor([[-0.0006, -0.0008, -0.0004,  ...,  0.0018,  0.0012, -0.0002]])\n",
            "Sample Rate: 48000\n",
            "Label: FRV\n"
          ]
        }
      ],
      "source": [
        "waveform = train_dataset[0][0] # randomly picked an example\n",
        "sample_rate = train_dataset[0][1]\n",
        "print(f'Waveform: {waveform}')\n",
        "print(f'Sample Rate: {sample_rate}')\n",
        "print(f'Label: {train_dataset[0][2]}')\n"
      ]
    },
    {
      "cell_type": "code",
      "execution_count": 6,
      "metadata": {
        "id": "lZ6lGxekMkXs",
        "colab": {
          "base_uri": "https://localhost:8080/"
        },
        "outputId": "1c7f91b5-3529-43fe-94d1-09bae5c44383"
      },
      "outputs": [
        {
          "output_type": "execute_result",
          "data": {
            "text/plain": [
              "['CS', 'FRV', 'MSFR', 'MSQR', 'QRV']"
            ]
          },
          "metadata": {},
          "execution_count": 6
        }
      ],
      "source": [
        "labels = sorted(list(set(datapoint[2] for datapoint in train_dataset)))\n",
        "labels"
      ]
    },
    {
      "cell_type": "code",
      "source": [
        "# Count number of each label\n",
        "label_list = list(datapoint[2] for datapoint in train_dataset)\n",
        "label_counts = dict()\n",
        "for lab in label_list:\n",
        "  if lab in label_counts:\n",
        "    label_counts[lab] += 1\n",
        "  else:\n",
        "    label_counts[lab] = 0\n",
        "print(label_counts)"
      ],
      "metadata": {
        "colab": {
          "base_uri": "https://localhost:8080/"
        },
        "id": "G0cPq9m-a9gq",
        "outputId": "39c336e6-accb-445e-dbf3-c9e8a6d19b1d"
      },
      "execution_count": 7,
      "outputs": [
        {
          "output_type": "stream",
          "name": "stdout",
          "text": [
            "{'FRV': 1042, 'QRV': 1352, 'MSQR': 84, 'CS': 337, 'MSFR': 244}\n"
          ]
        }
      ]
    },
    {
      "cell_type": "markdown",
      "metadata": {
        "id": "Rt00v-SVMkXu"
      },
      "source": [
        "# Formatting the Data\n",
        "\n",
        "\n"
      ]
    },
    {
      "cell_type": "code",
      "execution_count": 8,
      "metadata": {
        "id": "4oDBGJTHMkXv",
        "colab": {
          "base_uri": "https://localhost:8080/",
          "height": 52
        },
        "outputId": "acbd546a-ff1e-482c-e6ea-e0579a15a3f2"
      },
      "outputs": [
        {
          "output_type": "execute_result",
          "data": {
            "text/plain": [
              "<IPython.lib.display.Audio object>"
            ],
            "text/html": [
              "\n",
              "                <audio  controls=\"controls\" >\n",
              "                    <source src=\"data:audio/wav;base64,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\" type=\"audio/wav\" />\n",
              "                    Your browser does not support the audio element.\n",
              "                </audio>\n",
              "              "
            ]
          },
          "metadata": {},
          "execution_count": 8
        }
      ],
      "source": [
        "## For the waveform, we downsample the audio for faster processing without losing too much of the classification power.\n",
        "new_sample_rate = sample_rate #?????? not sure what is the best\n",
        "transform = torchaudio.transforms.Resample(orig_freq=train_dataset[0][1], new_freq=new_sample_rate)\n",
        "transformed = transform(waveform)\n",
        "ipd.Audio(waveform.numpy(), rate=new_sample_rate)"
      ]
    },
    {
      "cell_type": "code",
      "execution_count": 9,
      "metadata": {
        "id": "RCHppnAQMkXv",
        "colab": {
          "base_uri": "https://localhost:8080/"
        },
        "outputId": "64fd96a2-2aea-4485-fb73-91342c963266"
      },
      "outputs": [
        {
          "output_type": "stream",
          "name": "stdout",
          "text": [
            "CS --> tensor(1)\n"
          ]
        }
      ],
      "source": [
        "# This is a function that changes word labels to numbers. NOTE: check if the numbers are treated weiredly\n",
        "\n",
        "def label_to_index(word):\n",
        "  if (word == \"QRV\"):\n",
        "        return torch.tensor(0)\n",
        "  #if (word == \"MSFR\"):\n",
        "        #return torch.tensor(1)\n",
        "  #if (word == \"MSQR\"):\n",
        "        #return torch.tensor(1)\n",
        "  #if (word == \"MSCR\"):\n",
        "        #return torch.tensor(1)\n",
        "  else:\n",
        "        return torch.tensor(1)\n",
        "\n",
        "\n",
        "word_start = label\n",
        "index = label_to_index(word_start)\n",
        "\n",
        "print(word_start, \"-->\", index)"
      ]
    },
    {
      "cell_type": "code",
      "execution_count": 10,
      "metadata": {
        "id": "bXS7LKSQMkXw"
      },
      "outputs": [],
      "source": [
        "def pad_sequence(batch):\n",
        "    # Make all tensor in a batch the same length by padding with zeros NOTE:\n",
        "    batch = [item.t() for item in batch]\n",
        "    batch = torch.nn.utils.rnn.pad_sequence(batch, batch_first=True, padding_value=0.)\n",
        "    return batch.permute(0, 2, 1)\n",
        "\n",
        "\n",
        "def collate_fn(batch):\n",
        "    # A data tuple has the form:\n",
        "    # waveform, sample_rate, label, speaker_id, utterance_number\n",
        "    tensors, targets = [], []\n",
        "    # Gather in lists, and encode labels as indices\n",
        "    for waveform, _, label, *_ in batch:\n",
        "        tensors += [waveform]\n",
        "        targets += [label_to_index(label)]\n",
        "\n",
        "    # Group the list of tensors into a batched tensor\n",
        "    tensors = pad_sequence(tensors)\n",
        "    targets = torch.stack(targets)\n",
        "\n",
        "    return tensors, targets\n",
        "\n",
        "trainloader = torch.utils.data.DataLoader(train_dataset, batch_size= 64,\n",
        "                                            shuffle=True, collate_fn= collate_fn, num_workers=0)\n",
        "testloader = torch.utils.data.DataLoader(test_dataset, batch_size= 64,\n",
        "                                            shuffle=True, collate_fn=collate_fn, num_workers=0)\n",
        "\n"
      ]
    },
    {
      "cell_type": "markdown",
      "metadata": {
        "id": "cME7K6M7MkXx"
      },
      "source": [
        "# Define the Network\n",
        "\n",
        "Usually more advanced transforms are applied to the\n",
        "audio data, however CNNs can be used to accurately process the raw data.\n",
        "The specific architecture is modeled after the M5 network architecture\n",
        "described in [this paper](https://arxiv.org/pdf/1610.00087.pdf)_."
      ]
    },
    {
      "cell_type": "code",
      "execution_count": 11,
      "metadata": {
        "id": "QL0_arXmMkXx",
        "colab": {
          "base_uri": "https://localhost:8080/"
        },
        "outputId": "82b84606-9726-44fa-ab6a-8eb7a2e4a961"
      },
      "outputs": [
        {
          "output_type": "stream",
          "name": "stdout",
          "text": [
            "M5(\n",
            "  (conv1): Conv1d(1, 32, kernel_size=(80,), stride=(16,))\n",
            "  (bn1): BatchNorm1d(32, eps=1e-05, momentum=0.1, affine=True, track_running_stats=True)\n",
            "  (pool1): MaxPool1d(kernel_size=4, stride=4, padding=0, dilation=1, ceil_mode=False)\n",
            "  (conv2): Conv1d(32, 32, kernel_size=(3,), stride=(1,))\n",
            "  (bn2): BatchNorm1d(32, eps=1e-05, momentum=0.1, affine=True, track_running_stats=True)\n",
            "  (pool2): MaxPool1d(kernel_size=4, stride=4, padding=0, dilation=1, ceil_mode=False)\n",
            "  (conv3): Conv1d(32, 64, kernel_size=(3,), stride=(1,))\n",
            "  (bn3): BatchNorm1d(64, eps=1e-05, momentum=0.1, affine=True, track_running_stats=True)\n",
            "  (pool3): MaxPool1d(kernel_size=4, stride=4, padding=0, dilation=1, ceil_mode=False)\n",
            "  (conv4): Conv1d(64, 64, kernel_size=(3,), stride=(1,))\n",
            "  (bn4): BatchNorm1d(64, eps=1e-05, momentum=0.1, affine=True, track_running_stats=True)\n",
            "  (pool4): MaxPool1d(kernel_size=4, stride=4, padding=0, dilation=1, ceil_mode=False)\n",
            "  (fc1): Linear(in_features=64, out_features=35, bias=True)\n",
            ")\n",
            "Number of parameters: 26915\n"
          ]
        }
      ],
      "source": [
        "class M5(nn.Module):\n",
        "    def __init__(self, n_input=1, n_output=35, stride=16, n_channel=32):\n",
        "        super().__init__()\n",
        "        self.conv1 = nn.Conv1d(n_input, n_channel, kernel_size=80, stride=stride)\n",
        "        self.bn1 = nn.BatchNorm1d(n_channel)\n",
        "        self.pool1 = nn.MaxPool1d(4)\n",
        "        self.conv2 = nn.Conv1d(n_channel, n_channel, kernel_size=3)\n",
        "        self.bn2 = nn.BatchNorm1d(n_channel)\n",
        "        self.pool2 = nn.MaxPool1d(4)\n",
        "        self.conv3 = nn.Conv1d(n_channel, 2 * n_channel, kernel_size=3)\n",
        "        self.bn3 = nn.BatchNorm1d(2 * n_channel)\n",
        "        self.pool3 = nn.MaxPool1d(4)\n",
        "        self.conv4 = nn.Conv1d(2 * n_channel, 2 * n_channel, kernel_size=3)\n",
        "        self.bn4 = nn.BatchNorm1d(2 * n_channel)\n",
        "        self.pool4 = nn.MaxPool1d(4)\n",
        "        self.fc1 = nn.Linear(2 * n_channel, n_output)\n",
        "\n",
        "    def forward(self, x):\n",
        "        x = self.conv1(x)\n",
        "        x = F.relu(self.bn1(x))\n",
        "        x = self.pool1(x)\n",
        "        x = self.conv2(x)\n",
        "        x = F.relu(self.bn2(x))\n",
        "        x = self.pool2(x)\n",
        "        x = self.conv3(x)\n",
        "        x = F.relu(self.bn3(x))\n",
        "        x = self.pool3(x)\n",
        "        x = self.conv4(x)\n",
        "        x = F.relu(self.bn4(x))\n",
        "        x = self.pool4(x)\n",
        "        x = F.avg_pool1d(x, x.shape[-1])\n",
        "        x = x.permute(0, 2, 1)\n",
        "        x = self.fc1(x)\n",
        "        return F.log_softmax(x, dim=2)\n",
        "\n",
        "\n",
        "model = M5(n_input = transformed.shape[0], n_output=35) #len(labels)) NOTE - changed\n",
        "model.to(device)\n",
        "print(model)\n",
        "\n",
        "\n",
        "def count_parameters(model):\n",
        "    return sum(p.numel() for p in model.parameters() if p.requires_grad)\n",
        "\n",
        "\n",
        "n = count_parameters(model)\n",
        "print(\"Number of parameters: %s\" % n)"
      ]
    },
    {
      "cell_type": "markdown",
      "metadata": {
        "id": "VDwBHlk3MkXy"
      },
      "source": [
        "We will use the same optimization technique used in the paper, an Adam\n",
        "optimizer with weight decay set to 0.0001. At first, we will train with\n",
        "a learning rate of 0.01, but we will use a ``scheduler`` to decrease it\n",
        "to 0.001 during training after 20 epochs.\n",
        "\n",
        "\n"
      ]
    },
    {
      "cell_type": "code",
      "execution_count": null,
      "metadata": {
        "id": "H1Y_RmJaMkXy"
      },
      "outputs": [],
      "source": [
        "optimizer = optim.Adam(model.parameters(), lr=0.001, weight_decay=0.0001)\n",
        "scheduler = optim.lr_scheduler.StepLR(optimizer, step_size=20, gamma=0.1)  # reduce the learning after 20 epochs by a factor of 10"
      ]
    },
    {
      "cell_type": "markdown",
      "metadata": {
        "id": "k8bPj-Pp9Las"
      },
      "source": [
        "# (DON'T RUN) Load SpeechCommands dataset for pre-training"
      ]
    },
    {
      "cell_type": "code",
      "execution_count": null,
      "metadata": {
        "id": "8nOAoV339Kh4"
      },
      "outputs": [],
      "source": [
        "from torchaudio.datasets import SPEECHCOMMANDS\n",
        "import os\n",
        "\n",
        "class SubsetSC(SPEECHCOMMANDS):\n",
        "    def __init__(self, subset: str = None):\n",
        "        super().__init__(\"./\", download=True)\n",
        "\n",
        "        def load_list(filename):\n",
        "            filepath = os.path.join(self._path, filename)\n",
        "            with open(filepath) as fileobj:\n",
        "                return [os.path.normpath(os.path.join(self._path, line.strip())) for line in fileobj]\n",
        "\n",
        "        if subset == \"validation\":\n",
        "            self._walker = load_list(\"validation_list.txt\")\n",
        "        elif subset == \"testing\":\n",
        "            self._walker = load_list(\"testing_list.txt\")\n",
        "        elif subset == \"training\":\n",
        "            excludes = load_list(\"validation_list.txt\") + load_list(\"testing_list.txt\")\n",
        "            excludes = set(excludes)\n",
        "            self._walker = [w for w in self._walker if w not in excludes]\n"
      ]
    },
    {
      "cell_type": "code",
      "execution_count": null,
      "metadata": {
        "id": "07iNe9UZ_YhH",
        "colab": {
          "base_uri": "https://localhost:8080/"
        },
        "outputId": "55226bcd-a4dd-4182-8bbb-c2276aa0af7f"
      },
      "outputs": [
        {
          "output_type": "stream",
          "name": "stderr",
          "text": [
            "100%|██████████| 2.26G/2.26G [01:20<00:00, 30.3MB/s]\n"
          ]
        }
      ],
      "source": [
        "# Create training and testing split of the data. We do not use validation in this tutorial.\n",
        "sc_train_set = SubsetSC(\"training\")\n",
        "sc_test_set = SubsetSC(\"testing\")"
      ]
    },
    {
      "cell_type": "code",
      "execution_count": null,
      "metadata": {
        "id": "CT8Mq5jz9ixl",
        "colab": {
          "base_uri": "https://localhost:8080/"
        },
        "outputId": "9da34557-e5cd-48be-ae63-c3b2ff770a46"
      },
      "outputs": [
        {
          "output_type": "execute_result",
          "data": {
            "text/plain": [
              "['backward',\n",
              " 'bed',\n",
              " 'bird',\n",
              " 'cat',\n",
              " 'dog',\n",
              " 'down',\n",
              " 'eight',\n",
              " 'five',\n",
              " 'follow',\n",
              " 'forward',\n",
              " 'four',\n",
              " 'go',\n",
              " 'happy',\n",
              " 'house',\n",
              " 'learn',\n",
              " 'left',\n",
              " 'marvin',\n",
              " 'nine',\n",
              " 'no',\n",
              " 'off',\n",
              " 'on',\n",
              " 'one',\n",
              " 'right',\n",
              " 'seven',\n",
              " 'sheila',\n",
              " 'six',\n",
              " 'stop',\n",
              " 'three',\n",
              " 'tree',\n",
              " 'two',\n",
              " 'up',\n",
              " 'visual',\n",
              " 'wow',\n",
              " 'yes',\n",
              " 'zero']"
            ]
          },
          "metadata": {},
          "execution_count": 15
        }
      ],
      "source": [
        "sc_labels = sorted(list(set(datapoint[2] for datapoint in sc_train_set)))\n",
        "sc_labels"
      ]
    },
    {
      "cell_type": "code",
      "execution_count": null,
      "metadata": {
        "id": "TyTQQxrYB_Yz"
      },
      "outputs": [],
      "source": [
        "new_sample_rate = 8000\n",
        "transform = torchaudio.transforms.Resample(orig_freq=sample_rate, new_freq=new_sample_rate)\n",
        "#transformed = transform(waveform)"
      ]
    },
    {
      "cell_type": "code",
      "execution_count": null,
      "metadata": {
        "id": "mxAJNpJ1-i4x",
        "colab": {
          "base_uri": "https://localhost:8080/"
        },
        "outputId": "34479049-8278-4072-94e3-b3be60a40ff0"
      },
      "outputs": [
        {
          "output_type": "stream",
          "name": "stdout",
          "text": [
            "yes --> tensor(33) --> yes\n"
          ]
        }
      ],
      "source": [
        "def sc_label_to_index(word):\n",
        "    # Return the position of the word in labels\n",
        "    return torch.tensor(sc_labels.index(word))\n",
        "\n",
        "\n",
        "def index_to_sc_label(index):\n",
        "    # Return the word corresponding to the index in labels\n",
        "    # This is the inverse of label_to_index\n",
        "    return sc_labels[index]\n",
        "\n",
        "\n",
        "word_start = \"yes\"\n",
        "index = sc_label_to_index(word_start)\n",
        "word_recovered = index_to_sc_label(index)\n",
        "\n",
        "print(word_start, \"-->\", index, \"-->\", word_recovered)"
      ]
    },
    {
      "cell_type": "code",
      "execution_count": null,
      "metadata": {
        "id": "HhPPUI40-wno"
      },
      "outputs": [],
      "source": [
        "def sc_collate_fn(batch):\n",
        "    # A data tuple has the form:\n",
        "    # waveform, sample_rate, label, speaker_id, utterance_number\n",
        "    tensors, targets = [], []\n",
        "    # Gather in lists, and encode labels as indices\n",
        "    for waveform, _, label, *_ in batch:\n",
        "        tensors += [waveform]\n",
        "        targets += [sc_label_to_index(label)]\n",
        "\n",
        "    # Group the list of tensors into a batched tensor\n",
        "    tensors = pad_sequence(tensors)\n",
        "    targets = torch.stack(targets)\n",
        "\n",
        "    return tensors, targets\n",
        "\n",
        "\n",
        "batch_size = 64\n",
        "\n",
        "if device == \"cuda\":\n",
        "    num_workers = 1\n",
        "    pin_memory = True\n",
        "else:\n",
        "    num_workers = 0\n",
        "    pin_memory = False\n",
        "\n",
        "sc_train_loader = torch.utils.data.DataLoader(\n",
        "    sc_train_set,\n",
        "    batch_size=batch_size,\n",
        "    shuffle=True,\n",
        "    collate_fn=sc_collate_fn,\n",
        "    num_workers=num_workers,\n",
        "    pin_memory=pin_memory,\n",
        ")\n",
        "sc_test_loader = torch.utils.data.DataLoader(\n",
        "    sc_test_set,\n",
        "    batch_size=batch_size,\n",
        "    shuffle=False,\n",
        "    drop_last=False,\n",
        "    collate_fn=sc_collate_fn,\n",
        "    num_workers=num_workers,\n",
        "    pin_memory=pin_memory,\n",
        ")"
      ]
    },
    {
      "cell_type": "markdown",
      "metadata": {
        "id": "5rroiB9JORbX"
      },
      "source": [
        "# (DON'T RUN) Pretrain on SpeechCommands dataset"
      ]
    },
    {
      "cell_type": "code",
      "execution_count": null,
      "metadata": {
        "id": "0BAUXq_x_3JR"
      },
      "outputs": [],
      "source": [
        "def sc_train(model, epoch, log_interval):\n",
        "    model.train()\n",
        "    for batch_idx, (data, target) in enumerate(sc_train_loader):\n",
        "\n",
        "        data = data.to(device)\n",
        "        target = target.to(device)\n",
        "\n",
        "        # apply transform and model on whole batch directly on device\n",
        "        data = transform(data)\n",
        "        output = model(data)\n",
        "\n",
        "        # negative log-likelihood for a tensor of size (batch x 1 x n_output)\n",
        "        #print(\"Data\", data.shape, \"output\", output.shape, \"target\", target.shape)\n",
        "        #print(\"First 20 outputs\", output[0:20])\n",
        "        #print(\"First 20 labels\", target[0:20])\n",
        "\n",
        "        loss = F.nll_loss(output.squeeze(), target)\n",
        "\n",
        "        optimizer.zero_grad()\n",
        "        loss.backward()\n",
        "        optimizer.step()\n",
        "\n",
        "        # print training stats\n",
        "        if batch_idx % log_interval == 0:\n",
        "            print(f\"Train Epoch: {epoch} [{batch_idx * len(data)}/{len(sc_train_loader.dataset)} ({100. * batch_idx / len(sc_train_loader):.0f}%)]\\tLoss: {loss.item():.6f}\")\n",
        "\n",
        "        # update progress bar\n",
        "        pbar.update(pbar_update)\n",
        "        # record loss\n",
        "        losses.append(loss.item())"
      ]
    },
    {
      "cell_type": "code",
      "execution_count": null,
      "metadata": {
        "id": "KL0O91lNAAW6"
      },
      "outputs": [],
      "source": [
        "def number_of_correct(pred, target):\n",
        "    # count number of correct predictions\n",
        "    return pred.squeeze().eq(target).sum().item()\n",
        "\n",
        "\n",
        "def get_likely_index(tensor):\n",
        "    # find most likely label index for each element in the batch\n",
        "    return tensor.argmax(dim=-1)\n",
        "\n",
        "\n",
        "def sc_test(model, epoch):\n",
        "    model.eval()\n",
        "    correct = 0\n",
        "    for data, target in sc_test_loader:\n",
        "\n",
        "        data = data.to(device)\n",
        "        target = target.to(device)\n",
        "\n",
        "        # apply transform and model on whole batch directly on device\n",
        "        data = transform(data)\n",
        "        output = model(data)\n",
        "\n",
        "        pred = get_likely_index(output)\n",
        "        correct += number_of_correct(pred, target)\n",
        "\n",
        "        # update progress bar\n",
        "        pbar.update(pbar_update)\n",
        "\n",
        "    print(f\"\\nTest Epoch: {epoch}\\tAccuracy: {correct}/{len(sc_test_loader.dataset)} ({100. * correct / len(sc_test_loader.dataset):.0f}%)\\n\")"
      ]
    },
    {
      "cell_type": "code",
      "execution_count": null,
      "metadata": {
        "id": "auslQyuMALK8",
        "colab": {
          "base_uri": "https://localhost:8080/",
          "height": 1000
        },
        "outputId": "a4d78e2c-8f75-4421-c20d-603a98f147ca"
      },
      "outputs": [
        {
          "output_type": "stream",
          "name": "stderr",
          "text": [
            "  0%|          | 0.0006675567423230974/30 [00:00<10:29:58, 1259.98s/it]"
          ]
        },
        {
          "output_type": "stream",
          "name": "stdout",
          "text": [
            "Train Epoch: 1 [0/84843 (0%)]\tLoss: 3.880428\n"
          ]
        },
        {
          "output_type": "stream",
          "name": "stderr",
          "text": [
            "  0%|          | 0.014018691588785041/30 [00:09<5:29:28, 659.26s/it]"
          ]
        },
        {
          "output_type": "stream",
          "name": "stdout",
          "text": [
            "Train Epoch: 1 [1280/84843 (2%)]\tLoss: 3.509680\n"
          ]
        },
        {
          "output_type": "stream",
          "name": "stderr",
          "text": [
            "  0%|          | 0.02736982643524701/30 [00:15<4:08:38, 497.73s/it]"
          ]
        },
        {
          "output_type": "stream",
          "name": "stdout",
          "text": [
            "Train Epoch: 1 [2560/84843 (3%)]\tLoss: 3.476959\n"
          ]
        },
        {
          "output_type": "stream",
          "name": "stderr",
          "text": [
            "  0%|          | 0.040720961281708976/30 [00:24<4:50:55, 582.64s/it]"
          ]
        },
        {
          "output_type": "stream",
          "name": "stdout",
          "text": [
            "Train Epoch: 1 [3840/84843 (5%)]\tLoss: 3.564333\n"
          ]
        },
        {
          "output_type": "stream",
          "name": "stderr",
          "text": [
            "  0%|          | 0.054072096128170946/30 [00:30<4:10:24, 501.72s/it]"
          ]
        },
        {
          "output_type": "stream",
          "name": "stdout",
          "text": [
            "Train Epoch: 1 [5120/84843 (6%)]\tLoss: 3.356050\n"
          ]
        },
        {
          "output_type": "stream",
          "name": "stderr",
          "text": [
            "  0%|          | 0.06742323097463286/30 [00:38<4:32:06, 545.43s/it]"
          ]
        },
        {
          "output_type": "stream",
          "name": "stdout",
          "text": [
            "Train Epoch: 1 [6400/84843 (8%)]\tLoss: 3.328532\n"
          ]
        },
        {
          "output_type": "stream",
          "name": "stderr",
          "text": [
            "  0%|          | 0.08077436582109469/30 [00:45<4:16:14, 513.85s/it]"
          ]
        },
        {
          "output_type": "stream",
          "name": "stdout",
          "text": [
            "Train Epoch: 1 [7680/84843 (9%)]\tLoss: 3.344597\n"
          ]
        },
        {
          "output_type": "stream",
          "name": "stderr",
          "text": [
            "  0%|          | 0.09412550066755652/30 [00:54<4:18:10, 517.98s/it]"
          ]
        },
        {
          "output_type": "stream",
          "name": "stdout",
          "text": [
            "Train Epoch: 1 [8960/84843 (11%)]\tLoss: 3.278199\n"
          ]
        },
        {
          "output_type": "stream",
          "name": "stderr",
          "text": [
            "  0%|          | 0.10747663551401836/30 [01:00<4:12:44, 507.32s/it]"
          ]
        },
        {
          "output_type": "stream",
          "name": "stdout",
          "text": [
            "Train Epoch: 1 [10240/84843 (12%)]\tLoss: 3.331918\n"
          ]
        },
        {
          "output_type": "stream",
          "name": "stderr",
          "text": [
            "  0%|          | 0.12082777036048019/30 [01:09<4:11:18, 504.64s/it]"
          ]
        },
        {
          "output_type": "stream",
          "name": "stdout",
          "text": [
            "Train Epoch: 1 [11520/84843 (14%)]\tLoss: 3.212881\n"
          ]
        },
        {
          "output_type": "stream",
          "name": "stderr",
          "text": [
            "  0%|          | 0.1341789052069422/30 [01:15<4:12:56, 508.16s/it]"
          ]
        },
        {
          "output_type": "stream",
          "name": "stdout",
          "text": [
            "Train Epoch: 1 [12800/84843 (15%)]\tLoss: 3.142138\n"
          ]
        },
        {
          "output_type": "stream",
          "name": "stderr",
          "text": [
            "  0%|          | 0.1475300400534043/30 [01:23<4:10:41, 503.85s/it]"
          ]
        },
        {
          "output_type": "stream",
          "name": "stdout",
          "text": [
            "Train Epoch: 1 [14080/84843 (17%)]\tLoss: 3.111425\n"
          ]
        },
        {
          "output_type": "stream",
          "name": "stderr",
          "text": [
            "  1%|          | 0.16088117489986642/30 [01:30<4:54:40, 592.54s/it]"
          ]
        },
        {
          "output_type": "stream",
          "name": "stdout",
          "text": [
            "Train Epoch: 1 [15360/84843 (18%)]\tLoss: 3.112502\n"
          ]
        },
        {
          "output_type": "stream",
          "name": "stderr",
          "text": [
            "  1%|          | 0.17423230974632853/30 [01:38<4:16:20, 515.69s/it]"
          ]
        },
        {
          "output_type": "stream",
          "name": "stdout",
          "text": [
            "Train Epoch: 1 [16640/84843 (20%)]\tLoss: 2.962594\n"
          ]
        },
        {
          "output_type": "stream",
          "name": "stderr",
          "text": [
            "  1%|          | 0.18758344459279064/30 [01:46<5:45:38, 695.63s/it]"
          ]
        },
        {
          "output_type": "stream",
          "name": "stdout",
          "text": [
            "Train Epoch: 1 [17920/84843 (21%)]\tLoss: 3.084830\n"
          ]
        },
        {
          "output_type": "stream",
          "name": "stderr",
          "text": [
            "  1%|          | 0.20093457943925275/30 [01:53<4:05:18, 493.92s/it]"
          ]
        },
        {
          "output_type": "stream",
          "name": "stdout",
          "text": [
            "Train Epoch: 1 [19200/84843 (23%)]\tLoss: 2.998472\n"
          ]
        },
        {
          "output_type": "stream",
          "name": "stderr",
          "text": [
            "  1%|          | 0.21428571428571486/30 [02:01<5:56:14, 717.63s/it]"
          ]
        },
        {
          "output_type": "stream",
          "name": "stdout",
          "text": [
            "Train Epoch: 1 [20480/84843 (24%)]\tLoss: 2.903859\n"
          ]
        },
        {
          "output_type": "stream",
          "name": "stderr",
          "text": [
            "  1%|          | 0.22763684913217697/30 [02:08<4:06:56, 497.65s/it]"
          ]
        },
        {
          "output_type": "stream",
          "name": "stdout",
          "text": [
            "Train Epoch: 1 [21760/84843 (26%)]\tLoss: 3.006727\n"
          ]
        },
        {
          "output_type": "stream",
          "name": "stderr",
          "text": [
            "  1%|          | 0.24098798397863908/30 [02:16<6:12:17, 750.61s/it]"
          ]
        },
        {
          "output_type": "stream",
          "name": "stdout",
          "text": [
            "Train Epoch: 1 [23040/84843 (27%)]\tLoss: 2.755685\n"
          ]
        },
        {
          "output_type": "stream",
          "name": "stderr",
          "text": [
            "  1%|          | 0.2543391188251012/30 [02:23<4:07:53, 500.01s/it]"
          ]
        },
        {
          "output_type": "stream",
          "name": "stdout",
          "text": [
            "Train Epoch: 1 [24320/84843 (29%)]\tLoss: 2.985411\n"
          ]
        },
        {
          "output_type": "stream",
          "name": "stderr",
          "text": [
            "  1%|          | 0.2676902536715633/30 [02:31<6:08:32, 743.71s/it]"
          ]
        },
        {
          "output_type": "stream",
          "name": "stdout",
          "text": [
            "Train Epoch: 1 [25600/84843 (30%)]\tLoss: 3.068812\n"
          ]
        },
        {
          "output_type": "stream",
          "name": "stderr",
          "text": [
            "  1%|          | 0.2810413885180254/30 [02:38<4:08:07, 500.95s/it]"
          ]
        },
        {
          "output_type": "stream",
          "name": "stdout",
          "text": [
            "Train Epoch: 1 [26880/84843 (32%)]\tLoss: 2.742853\n"
          ]
        },
        {
          "output_type": "stream",
          "name": "stderr",
          "text": [
            "  1%|          | 0.2943925233644875/30 [02:46<5:18:08, 642.60s/it]"
          ]
        },
        {
          "output_type": "stream",
          "name": "stdout",
          "text": [
            "Train Epoch: 1 [28160/84843 (33%)]\tLoss: 2.747314\n"
          ]
        },
        {
          "output_type": "stream",
          "name": "stderr",
          "text": [
            "  1%|          | 0.3077436582109496/30 [02:53<4:13:31, 512.30s/it]"
          ]
        },
        {
          "output_type": "stream",
          "name": "stdout",
          "text": [
            "Train Epoch: 1 [29440/84843 (35%)]\tLoss: 3.004841\n"
          ]
        },
        {
          "output_type": "stream",
          "name": "stderr",
          "text": [
            "  1%|          | 0.32109479305741173/30 [03:01<4:43:34, 573.30s/it]"
          ]
        },
        {
          "output_type": "stream",
          "name": "stdout",
          "text": [
            "Train Epoch: 1 [30720/84843 (36%)]\tLoss: 2.967080\n"
          ]
        },
        {
          "output_type": "stream",
          "name": "stderr",
          "text": [
            "  1%|          | 0.33444592790387384/30 [03:08<4:03:57, 493.42s/it]"
          ]
        },
        {
          "output_type": "stream",
          "name": "stdout",
          "text": [
            "Train Epoch: 1 [32000/84843 (38%)]\tLoss: 2.896763\n"
          ]
        },
        {
          "output_type": "stream",
          "name": "stderr",
          "text": [
            "  1%|          | 0.34779706275033595/30 [03:16<4:22:28, 531.11s/it]"
          ]
        },
        {
          "output_type": "stream",
          "name": "stdout",
          "text": [
            "Train Epoch: 1 [33280/84843 (39%)]\tLoss: 2.860185\n"
          ]
        },
        {
          "output_type": "stream",
          "name": "stderr",
          "text": [
            "  1%|          | 0.36114819759679806/30 [03:23<4:02:53, 491.69s/it]"
          ]
        },
        {
          "output_type": "stream",
          "name": "stdout",
          "text": [
            "Train Epoch: 1 [34560/84843 (41%)]\tLoss: 2.708623\n"
          ]
        },
        {
          "output_type": "stream",
          "name": "stderr",
          "text": [
            "  1%|          | 0.37449933244326017/30 [03:31<4:16:15, 519.01s/it]"
          ]
        },
        {
          "output_type": "stream",
          "name": "stdout",
          "text": [
            "Train Epoch: 1 [35840/84843 (42%)]\tLoss: 2.738792\n"
          ]
        },
        {
          "output_type": "stream",
          "name": "stderr",
          "text": [
            "  1%|▏         | 0.3878504672897223/30 [03:38<4:00:14, 486.77s/it]"
          ]
        },
        {
          "output_type": "stream",
          "name": "stdout",
          "text": [
            "Train Epoch: 1 [37120/84843 (44%)]\tLoss: 2.518094\n"
          ]
        },
        {
          "output_type": "stream",
          "name": "stderr",
          "text": [
            "  1%|▏         | 0.4012016021361844/30 [03:46<4:05:23, 497.43s/it]"
          ]
        },
        {
          "output_type": "stream",
          "name": "stdout",
          "text": [
            "Train Epoch: 1 [38400/84843 (45%)]\tLoss: 2.529174\n"
          ]
        },
        {
          "output_type": "stream",
          "name": "stderr",
          "text": [
            "  1%|▏         | 0.4145527369826465/30 [03:52<4:05:35, 498.08s/it]"
          ]
        },
        {
          "output_type": "stream",
          "name": "stdout",
          "text": [
            "Train Epoch: 1 [39680/84843 (47%)]\tLoss: 2.573653\n"
          ]
        },
        {
          "output_type": "stream",
          "name": "stderr",
          "text": [
            "  1%|▏         | 0.4279038718291086/30 [04:00<4:02:10, 491.36s/it]"
          ]
        },
        {
          "output_type": "stream",
          "name": "stdout",
          "text": [
            "Train Epoch: 1 [40960/84843 (48%)]\tLoss: 2.534355\n"
          ]
        },
        {
          "output_type": "stream",
          "name": "stderr",
          "text": [
            "  1%|▏         | 0.4412550066755707/30 [04:07<4:08:12, 503.81s/it]"
          ]
        },
        {
          "output_type": "stream",
          "name": "stdout",
          "text": [
            "Train Epoch: 1 [42240/84843 (50%)]\tLoss: 2.401248\n"
          ]
        },
        {
          "output_type": "stream",
          "name": "stderr",
          "text": [
            "  2%|▏         | 0.4546061415220328/30 [04:15<4:05:59, 499.56s/it]"
          ]
        },
        {
          "output_type": "stream",
          "name": "stdout",
          "text": [
            "Train Epoch: 1 [43520/84843 (51%)]\tLoss: 2.847237\n"
          ]
        },
        {
          "output_type": "stream",
          "name": "stderr",
          "text": [
            "  2%|▏         | 0.46795727636849493/30 [04:22<4:34:39, 558.03s/it]"
          ]
        },
        {
          "output_type": "stream",
          "name": "stdout",
          "text": [
            "Train Epoch: 1 [44800/84843 (53%)]\tLoss: 2.420414\n"
          ]
        },
        {
          "output_type": "stream",
          "name": "stderr",
          "text": [
            "  2%|▏         | 0.48130841121495704/30 [04:30<4:08:30, 505.12s/it]"
          ]
        },
        {
          "output_type": "stream",
          "name": "stdout",
          "text": [
            "Train Epoch: 1 [46080/84843 (54%)]\tLoss: 2.683483\n"
          ]
        },
        {
          "output_type": "stream",
          "name": "stderr",
          "text": [
            "  2%|▏         | 0.49465954606141915/30 [04:40<7:00:26, 854.98s/it]"
          ]
        },
        {
          "output_type": "stream",
          "name": "stdout",
          "text": [
            "Train Epoch: 1 [47360/84843 (56%)]\tLoss: 2.896051\n"
          ]
        },
        {
          "output_type": "stream",
          "name": "stderr",
          "text": [
            "  2%|▏         | 0.5080106809078813/30 [04:48<5:08:31, 627.68s/it]"
          ]
        },
        {
          "output_type": "stream",
          "name": "stdout",
          "text": [
            "Train Epoch: 1 [48640/84843 (57%)]\tLoss: 2.850389\n"
          ]
        },
        {
          "output_type": "stream",
          "name": "stderr",
          "text": [
            "  2%|▏         | 0.5213618157543434/30 [04:58<4:52:41, 595.75s/it]"
          ]
        },
        {
          "output_type": "stream",
          "name": "stdout",
          "text": [
            "Train Epoch: 1 [49920/84843 (59%)]\tLoss: 2.586205\n"
          ]
        },
        {
          "output_type": "stream",
          "name": "stderr",
          "text": [
            "  2%|▏         | 0.5347129506008055/30 [05:06<6:03:45, 740.72s/it]"
          ]
        },
        {
          "output_type": "stream",
          "name": "stdout",
          "text": [
            "Train Epoch: 1 [51200/84843 (60%)]\tLoss: 2.325507\n"
          ]
        },
        {
          "output_type": "stream",
          "name": "stderr",
          "text": [
            "  2%|▏         | 0.5480640854472676/30 [05:15<5:06:56, 625.29s/it]"
          ]
        },
        {
          "output_type": "stream",
          "name": "stdout",
          "text": [
            "Train Epoch: 1 [52480/84843 (62%)]\tLoss: 2.770028\n"
          ]
        },
        {
          "output_type": "stream",
          "name": "stderr",
          "text": [
            "  2%|▏         | 0.5614152202937297/30 [05:24<5:31:39, 675.97s/it]"
          ]
        },
        {
          "output_type": "stream",
          "name": "stdout",
          "text": [
            "Train Epoch: 1 [53760/84843 (63%)]\tLoss: 2.791756\n"
          ]
        },
        {
          "output_type": "stream",
          "name": "stderr",
          "text": [
            "  2%|▏         | 0.5747663551401918/30 [05:32<4:57:09, 605.91s/it]"
          ]
        },
        {
          "output_type": "stream",
          "name": "stdout",
          "text": [
            "Train Epoch: 1 [55040/84843 (65%)]\tLoss: 2.378645\n"
          ]
        },
        {
          "output_type": "stream",
          "name": "stderr",
          "text": [
            "  2%|▏         | 0.5881174899866539/30 [05:41<4:57:51, 607.63s/it]"
          ]
        },
        {
          "output_type": "stream",
          "name": "stdout",
          "text": [
            "Train Epoch: 1 [56320/84843 (66%)]\tLoss: 2.530136\n"
          ]
        },
        {
          "output_type": "stream",
          "name": "stderr",
          "text": [
            "  2%|▏         | 0.601468624833116/30 [05:50<6:29:35, 795.11s/it] "
          ]
        },
        {
          "output_type": "stream",
          "name": "stdout",
          "text": [
            "Train Epoch: 1 [57600/84843 (68%)]\tLoss: 2.403168\n"
          ]
        },
        {
          "output_type": "stream",
          "name": "stderr",
          "text": [
            "  2%|▏         | 0.6148197596795781/30 [05:58<4:42:14, 576.29s/it]"
          ]
        },
        {
          "output_type": "stream",
          "name": "stdout",
          "text": [
            "Train Epoch: 1 [58880/84843 (69%)]\tLoss: 2.446732\n"
          ]
        },
        {
          "output_type": "stream",
          "name": "stderr",
          "text": [
            "  2%|▏         | 0.6281708945260402/30 [06:07<5:05:43, 624.53s/it]"
          ]
        },
        {
          "output_type": "stream",
          "name": "stdout",
          "text": [
            "Train Epoch: 1 [60160/84843 (71%)]\tLoss: 2.459119\n"
          ]
        },
        {
          "output_type": "stream",
          "name": "stderr",
          "text": [
            "  2%|▏         | 0.6415220293725024/30 [06:15<4:45:57, 584.40s/it]"
          ]
        },
        {
          "output_type": "stream",
          "name": "stdout",
          "text": [
            "Train Epoch: 1 [61440/84843 (72%)]\tLoss: 2.541035\n"
          ]
        },
        {
          "output_type": "stream",
          "name": "stderr",
          "text": [
            "  2%|▏         | 0.6548731642189645/30 [06:23<4:45:59, 584.73s/it]"
          ]
        },
        {
          "output_type": "stream",
          "name": "stdout",
          "text": [
            "Train Epoch: 1 [62720/84843 (74%)]\tLoss: 2.380856\n"
          ]
        },
        {
          "output_type": "stream",
          "name": "stderr",
          "text": [
            "  2%|▏         | 0.6682242990654266/30 [06:32<6:16:27, 770.05s/it]"
          ]
        },
        {
          "output_type": "stream",
          "name": "stdout",
          "text": [
            "Train Epoch: 1 [64000/84843 (75%)]\tLoss: 2.520194\n"
          ]
        },
        {
          "output_type": "stream",
          "name": "stderr",
          "text": [
            "  2%|▏         | 0.6815754339118887/30 [06:40<4:38:54, 570.80s/it]"
          ]
        },
        {
          "output_type": "stream",
          "name": "stdout",
          "text": [
            "Train Epoch: 1 [65280/84843 (77%)]\tLoss: 2.703603\n"
          ]
        },
        {
          "output_type": "stream",
          "name": "stderr",
          "text": [
            "  2%|▏         | 0.6949265687583508/30 [06:49<5:13:12, 641.29s/it]"
          ]
        },
        {
          "output_type": "stream",
          "name": "stdout",
          "text": [
            "Train Epoch: 1 [66560/84843 (78%)]\tLoss: 2.336985\n"
          ]
        },
        {
          "output_type": "stream",
          "name": "stderr",
          "text": [
            "  2%|▏         | 0.7082777036048129/30 [06:56<4:28:11, 549.36s/it]"
          ]
        },
        {
          "output_type": "stream",
          "name": "stdout",
          "text": [
            "Train Epoch: 1 [67840/84843 (80%)]\tLoss: 2.430506\n"
          ]
        },
        {
          "output_type": "stream",
          "name": "stderr",
          "text": [
            "  2%|▏         | 0.721628838451275/30 [07:05<4:38:37, 570.97s/it] "
          ]
        },
        {
          "output_type": "stream",
          "name": "stdout",
          "text": [
            "Train Epoch: 1 [69120/84843 (81%)]\tLoss: 2.499174\n"
          ]
        },
        {
          "output_type": "stream",
          "name": "stderr",
          "text": [
            "  2%|▏         | 0.7349799732977371/30 [07:13<5:45:44, 708.84s/it]"
          ]
        },
        {
          "output_type": "stream",
          "name": "stdout",
          "text": [
            "Train Epoch: 1 [70400/84843 (83%)]\tLoss: 2.665173\n"
          ]
        },
        {
          "output_type": "stream",
          "name": "stderr",
          "text": [
            "  2%|▏         | 0.7483311081441992/30 [07:21<4:33:06, 560.18s/it]"
          ]
        },
        {
          "output_type": "stream",
          "name": "stdout",
          "text": [
            "Train Epoch: 1 [71680/84843 (84%)]\tLoss: 2.384377\n"
          ]
        },
        {
          "output_type": "stream",
          "name": "stderr",
          "text": [
            "  3%|▎         | 0.7616822429906613/30 [07:30<6:16:13, 772.05s/it]"
          ]
        },
        {
          "output_type": "stream",
          "name": "stdout",
          "text": [
            "Train Epoch: 1 [72960/84843 (86%)]\tLoss: 2.437494\n"
          ]
        },
        {
          "output_type": "stream",
          "name": "stderr",
          "text": [
            "  3%|▎         | 0.7750333778371234/30 [07:38<4:27:46, 549.75s/it]"
          ]
        },
        {
          "output_type": "stream",
          "name": "stdout",
          "text": [
            "Train Epoch: 1 [74240/84843 (87%)]\tLoss: 2.052510\n"
          ]
        },
        {
          "output_type": "stream",
          "name": "stderr",
          "text": [
            "  3%|▎         | 0.7883845126835856/30 [07:46<4:53:42, 603.28s/it]"
          ]
        },
        {
          "output_type": "stream",
          "name": "stdout",
          "text": [
            "Train Epoch: 1 [75520/84843 (89%)]\tLoss: 2.301900\n"
          ]
        },
        {
          "output_type": "stream",
          "name": "stderr",
          "text": [
            "  3%|▎         | 0.8017356475300477/30 [07:53<4:16:58, 528.05s/it]"
          ]
        },
        {
          "output_type": "stream",
          "name": "stdout",
          "text": [
            "Train Epoch: 1 [76800/84843 (90%)]\tLoss: 2.217212\n"
          ]
        },
        {
          "output_type": "stream",
          "name": "stderr",
          "text": [
            "  3%|▎         | 0.8150867823765098/30 [08:02<4:25:28, 545.78s/it]"
          ]
        },
        {
          "output_type": "stream",
          "name": "stdout",
          "text": [
            "Train Epoch: 1 [78080/84843 (92%)]\tLoss: 2.488463\n"
          ]
        },
        {
          "output_type": "stream",
          "name": "stderr",
          "text": [
            "  3%|▎         | 0.8284379172229719/30 [08:09<4:57:26, 611.78s/it]"
          ]
        },
        {
          "output_type": "stream",
          "name": "stdout",
          "text": [
            "Train Epoch: 1 [79360/84843 (94%)]\tLoss: 2.126381\n"
          ]
        },
        {
          "output_type": "stream",
          "name": "stderr",
          "text": [
            "  3%|▎         | 0.841789052069434/30 [08:18<4:25:27, 546.26s/it] "
          ]
        },
        {
          "output_type": "stream",
          "name": "stdout",
          "text": [
            "Train Epoch: 1 [80640/84843 (95%)]\tLoss: 2.152904\n"
          ]
        },
        {
          "output_type": "stream",
          "name": "stderr",
          "text": [
            "  3%|▎         | 0.8551401869158961/30 [08:26<6:19:38, 781.56s/it]"
          ]
        },
        {
          "output_type": "stream",
          "name": "stdout",
          "text": [
            "Train Epoch: 1 [81920/84843 (97%)]\tLoss: 2.146829\n"
          ]
        },
        {
          "output_type": "stream",
          "name": "stderr",
          "text": [
            "  3%|▎         | 0.8684913217623582/30 [08:34<4:24:26, 544.67s/it]"
          ]
        },
        {
          "output_type": "stream",
          "name": "stdout",
          "text": [
            "Train Epoch: 1 [83200/84843 (98%)]\tLoss: 2.314306\n"
          ]
        },
        {
          "output_type": "stream",
          "name": "stderr",
          "text": [
            "  3%|▎         | 0.8818424566088203/30 [08:42<5:15:18, 649.70s/it]"
          ]
        },
        {
          "output_type": "stream",
          "name": "stdout",
          "text": [
            "Train Epoch: 1 [84480/84843 (100%)]\tLoss: 2.009779\n"
          ]
        },
        {
          "output_type": "stream",
          "name": "stderr",
          "text": [
            "  3%|▎         | 1.00000000000001/30 [09:51<5:32:08, 687.20s/it]  "
          ]
        },
        {
          "output_type": "stream",
          "name": "stdout",
          "text": [
            "\n",
            "Test Epoch: 1\tAccuracy: 3872/11005 (35%)\n",
            "\n"
          ]
        },
        {
          "output_type": "stream",
          "name": "stderr",
          "text": [
            "\r  3%|▎         | 1.000667556742333/30 [09:51<5:44:32, 712.86s/it]"
          ]
        },
        {
          "output_type": "stream",
          "name": "stdout",
          "text": [
            "Train Epoch: 2 [0/84843 (0%)]\tLoss: 1.893854\n"
          ]
        },
        {
          "output_type": "stream",
          "name": "stderr",
          "text": [
            "  3%|▎         | 1.0140186915887952/30 [09:58<4:00:49, 498.48s/it]"
          ]
        },
        {
          "output_type": "stream",
          "name": "stdout",
          "text": [
            "Train Epoch: 2 [1280/84843 (2%)]\tLoss: 2.354387\n"
          ]
        },
        {
          "output_type": "stream",
          "name": "stderr",
          "text": [
            "  3%|▎         | 1.0273698264352573/30 [10:06<5:52:48, 730.65s/it]"
          ]
        },
        {
          "output_type": "stream",
          "name": "stdout",
          "text": [
            "Train Epoch: 2 [2560/84843 (3%)]\tLoss: 2.251279\n"
          ]
        },
        {
          "output_type": "stream",
          "name": "stderr",
          "text": [
            "  3%|▎         | 1.0407209612817194/30 [10:13<3:55:37, 488.18s/it]"
          ]
        },
        {
          "output_type": "stream",
          "name": "stdout",
          "text": [
            "Train Epoch: 2 [3840/84843 (5%)]\tLoss: 2.132982\n"
          ]
        },
        {
          "output_type": "stream",
          "name": "stderr",
          "text": [
            "  4%|▎         | 1.0540720961281815/30 [10:21<5:54:41, 735.23s/it]"
          ]
        },
        {
          "output_type": "stream",
          "name": "stdout",
          "text": [
            "Train Epoch: 2 [5120/84843 (6%)]\tLoss: 2.305794\n"
          ]
        },
        {
          "output_type": "stream",
          "name": "stderr",
          "text": [
            "  4%|▎         | 1.0674232309746436/30 [10:27<4:01:27, 500.73s/it]"
          ]
        },
        {
          "output_type": "stream",
          "name": "stdout",
          "text": [
            "Train Epoch: 2 [6400/84843 (8%)]\tLoss: 2.064251\n"
          ]
        },
        {
          "output_type": "stream",
          "name": "stderr",
          "text": [
            "  4%|▎         | 1.0807743658211058/30 [10:35<5:51:58, 730.27s/it]"
          ]
        },
        {
          "output_type": "stream",
          "name": "stdout",
          "text": [
            "Train Epoch: 2 [7680/84843 (9%)]\tLoss: 2.290687\n"
          ]
        },
        {
          "output_type": "stream",
          "name": "stderr",
          "text": [
            "  4%|▎         | 1.0941255006675679/30 [10:42<3:56:49, 491.58s/it]"
          ]
        },
        {
          "output_type": "stream",
          "name": "stdout",
          "text": [
            "Train Epoch: 2 [8960/84843 (11%)]\tLoss: 2.232713\n"
          ]
        },
        {
          "output_type": "stream",
          "name": "stderr",
          "text": [
            "  4%|▎         | 1.10747663551403/30 [10:50<5:11:42, 647.31s/it]  "
          ]
        },
        {
          "output_type": "stream",
          "name": "stdout",
          "text": [
            "Train Epoch: 2 [10240/84843 (12%)]\tLoss: 2.315701\n"
          ]
        },
        {
          "output_type": "stream",
          "name": "stderr",
          "text": [
            "  4%|▎         | 1.120827770360492/30 [10:57<3:53:06, 484.30s/it]"
          ]
        },
        {
          "output_type": "stream",
          "name": "stdout",
          "text": [
            "Train Epoch: 2 [11520/84843 (14%)]\tLoss: 2.299747\n"
          ]
        },
        {
          "output_type": "stream",
          "name": "stderr",
          "text": [
            "  4%|▍         | 1.1341789052069542/30 [11:05<4:30:54, 563.10s/it]"
          ]
        },
        {
          "output_type": "stream",
          "name": "stdout",
          "text": [
            "Train Epoch: 2 [12800/84843 (15%)]\tLoss: 2.184224\n"
          ]
        },
        {
          "output_type": "stream",
          "name": "stderr",
          "text": [
            "  4%|▍         | 1.1475300400534163/30 [11:12<4:00:18, 499.72s/it]"
          ]
        },
        {
          "output_type": "stream",
          "name": "stdout",
          "text": [
            "Train Epoch: 2 [14080/84843 (17%)]\tLoss: 2.359050\n"
          ]
        },
        {
          "output_type": "stream",
          "name": "stderr",
          "text": [
            "  4%|▍         | 1.1608811748998784/30 [11:21<6:01:15, 751.61s/it]"
          ]
        },
        {
          "output_type": "stream",
          "name": "stdout",
          "text": [
            "Train Epoch: 2 [15360/84843 (18%)]\tLoss: 2.407159\n"
          ]
        },
        {
          "output_type": "stream",
          "name": "stderr",
          "text": [
            "  4%|▍         | 1.1742323097463405/30 [11:29<4:08:27, 517.17s/it]"
          ]
        },
        {
          "output_type": "stream",
          "name": "stdout",
          "text": [
            "Train Epoch: 2 [16640/84843 (20%)]\tLoss: 2.069480\n"
          ]
        },
        {
          "output_type": "stream",
          "name": "stderr",
          "text": [
            "  4%|▍         | 1.1875834445928026/30 [11:37<4:09:32, 519.67s/it]"
          ]
        },
        {
          "output_type": "stream",
          "name": "stdout",
          "text": [
            "Train Epoch: 2 [17920/84843 (21%)]\tLoss: 2.410793\n"
          ]
        },
        {
          "output_type": "stream",
          "name": "stderr",
          "text": [
            "  4%|▍         | 1.2009345794392647/30 [11:44<5:11:51, 649.73s/it]"
          ]
        },
        {
          "output_type": "stream",
          "name": "stdout",
          "text": [
            "Train Epoch: 2 [19200/84843 (23%)]\tLoss: 2.380645\n"
          ]
        },
        {
          "output_type": "stream",
          "name": "stderr",
          "text": [
            "  4%|▍         | 1.2142857142857268/30 [11:52<4:06:51, 514.54s/it]"
          ]
        },
        {
          "output_type": "stream",
          "name": "stdout",
          "text": [
            "Train Epoch: 2 [20480/84843 (24%)]\tLoss: 2.288499\n"
          ]
        },
        {
          "output_type": "stream",
          "name": "stderr",
          "text": [
            "  4%|▍         | 1.227636849132189/30 [11:59<5:45:13, 719.90s/it] "
          ]
        },
        {
          "output_type": "stream",
          "name": "stdout",
          "text": [
            "Train Epoch: 2 [21760/84843 (26%)]\tLoss: 2.327952\n"
          ]
        },
        {
          "output_type": "stream",
          "name": "stderr",
          "text": [
            "  4%|▍         | 1.240987983978651/30 [12:07<3:59:11, 499.04s/it]"
          ]
        },
        {
          "output_type": "stream",
          "name": "stdout",
          "text": [
            "Train Epoch: 2 [23040/84843 (27%)]\tLoss: 2.357871\n"
          ]
        },
        {
          "output_type": "stream",
          "name": "stderr",
          "text": [
            "  4%|▍         | 1.2543391188251132/30 [12:14<5:48:35, 727.60s/it]"
          ]
        },
        {
          "output_type": "stream",
          "name": "stdout",
          "text": [
            "Train Epoch: 2 [24320/84843 (29%)]\tLoss: 2.282496\n"
          ]
        },
        {
          "output_type": "stream",
          "name": "stderr",
          "text": [
            "  4%|▍         | 1.2676902536715753/30 [12:22<4:13:32, 529.45s/it]"
          ]
        },
        {
          "output_type": "stream",
          "name": "stdout",
          "text": [
            "Train Epoch: 2 [25600/84843 (30%)]\tLoss: 2.317666\n"
          ]
        },
        {
          "output_type": "stream",
          "name": "stderr",
          "text": [
            "  4%|▍         | 1.2810413885180374/30 [12:30<5:34:55, 699.74s/it]"
          ]
        },
        {
          "output_type": "stream",
          "name": "stdout",
          "text": [
            "Train Epoch: 2 [26880/84843 (32%)]\tLoss: 2.078015\n"
          ]
        },
        {
          "output_type": "stream",
          "name": "stderr",
          "text": [
            "  4%|▍         | 1.2943925233644995/30 [12:37<4:00:57, 503.66s/it]"
          ]
        },
        {
          "output_type": "stream",
          "name": "stdout",
          "text": [
            "Train Epoch: 2 [28160/84843 (33%)]\tLoss: 2.409533\n"
          ]
        },
        {
          "output_type": "stream",
          "name": "stderr",
          "text": [
            "  4%|▍         | 1.3077436582109616/30 [12:45<4:47:32, 601.31s/it]"
          ]
        },
        {
          "output_type": "stream",
          "name": "stdout",
          "text": [
            "Train Epoch: 2 [29440/84843 (35%)]\tLoss: 1.827932\n"
          ]
        },
        {
          "output_type": "stream",
          "name": "stderr",
          "text": [
            "  4%|▍         | 1.3210947930574237/30 [12:52<3:57:41, 497.28s/it]"
          ]
        },
        {
          "output_type": "stream",
          "name": "stdout",
          "text": [
            "Train Epoch: 2 [30720/84843 (36%)]\tLoss: 2.054033\n"
          ]
        },
        {
          "output_type": "stream",
          "name": "stderr",
          "text": [
            "  4%|▍         | 1.3344459279038858/30 [13:00<4:30:03, 565.27s/it]"
          ]
        },
        {
          "output_type": "stream",
          "name": "stdout",
          "text": [
            "Train Epoch: 2 [32000/84843 (38%)]\tLoss: 1.930254\n"
          ]
        },
        {
          "output_type": "stream",
          "name": "stderr",
          "text": [
            "  4%|▍         | 1.347797062750348/30 [13:07<4:02:38, 508.10s/it] "
          ]
        },
        {
          "output_type": "stream",
          "name": "stdout",
          "text": [
            "Train Epoch: 2 [33280/84843 (39%)]\tLoss: 1.783435\n"
          ]
        },
        {
          "output_type": "stream",
          "name": "stderr",
          "text": [
            "  5%|▍         | 1.36114819759681/30 [13:15<4:07:42, 518.95s/it] "
          ]
        },
        {
          "output_type": "stream",
          "name": "stdout",
          "text": [
            "Train Epoch: 2 [34560/84843 (41%)]\tLoss: 2.084430\n"
          ]
        },
        {
          "output_type": "stream",
          "name": "stderr",
          "text": [
            "  5%|▍         | 1.3744993324432722/30 [13:22<4:00:56, 505.04s/it]"
          ]
        },
        {
          "output_type": "stream",
          "name": "stdout",
          "text": [
            "Train Epoch: 2 [35840/84843 (42%)]\tLoss: 1.973835\n"
          ]
        },
        {
          "output_type": "stream",
          "name": "stderr",
          "text": [
            "  5%|▍         | 1.3878504672897343/30 [13:30<4:05:34, 514.98s/it]"
          ]
        },
        {
          "output_type": "stream",
          "name": "stdout",
          "text": [
            "Train Epoch: 2 [37120/84843 (44%)]\tLoss: 2.253937\n"
          ]
        },
        {
          "output_type": "stream",
          "name": "stderr",
          "text": [
            "  5%|▍         | 1.4012016021361964/30 [13:37<4:06:31, 517.22s/it]"
          ]
        },
        {
          "output_type": "stream",
          "name": "stdout",
          "text": [
            "Train Epoch: 2 [38400/84843 (45%)]\tLoss: 2.238745\n"
          ]
        },
        {
          "output_type": "stream",
          "name": "stderr",
          "text": [
            "  5%|▍         | 1.4145527369826585/30 [13:45<4:01:30, 506.92s/it]"
          ]
        },
        {
          "output_type": "stream",
          "name": "stdout",
          "text": [
            "Train Epoch: 2 [39680/84843 (47%)]\tLoss: 2.019504\n"
          ]
        },
        {
          "output_type": "stream",
          "name": "stderr",
          "text": [
            "  5%|▍         | 1.4279038718291206/30 [13:52<3:57:20, 498.41s/it]"
          ]
        },
        {
          "output_type": "stream",
          "name": "stdout",
          "text": [
            "Train Epoch: 2 [40960/84843 (48%)]\tLoss: 1.829632\n"
          ]
        },
        {
          "output_type": "stream",
          "name": "stderr",
          "text": [
            "  5%|▍         | 1.4412550066755827/30 [14:00<4:05:34, 515.93s/it]"
          ]
        },
        {
          "output_type": "stream",
          "name": "stdout",
          "text": [
            "Train Epoch: 2 [42240/84843 (50%)]\tLoss: 2.090079\n"
          ]
        },
        {
          "output_type": "stream",
          "name": "stderr",
          "text": [
            "  5%|▍         | 1.4546061415220448/30 [14:07<4:35:37, 579.33s/it]"
          ]
        },
        {
          "output_type": "stream",
          "name": "stdout",
          "text": [
            "Train Epoch: 2 [43520/84843 (51%)]\tLoss: 1.970077\n"
          ]
        },
        {
          "output_type": "stream",
          "name": "stderr",
          "text": [
            "  5%|▍         | 1.467957276368507/30 [14:15<4:08:57, 523.54s/it] "
          ]
        },
        {
          "output_type": "stream",
          "name": "stdout",
          "text": [
            "Train Epoch: 2 [44800/84843 (53%)]\tLoss: 2.057733\n"
          ]
        },
        {
          "output_type": "stream",
          "name": "stderr",
          "text": [
            "  5%|▍         | 1.481308411214969/30 [14:22<5:18:22, 669.81s/it]"
          ]
        },
        {
          "output_type": "stream",
          "name": "stdout",
          "text": [
            "Train Epoch: 2 [46080/84843 (54%)]\tLoss: 1.992641\n"
          ]
        },
        {
          "output_type": "stream",
          "name": "stderr",
          "text": [
            "  5%|▍         | 1.4946595460614311/30 [14:30<3:57:12, 499.29s/it]"
          ]
        },
        {
          "output_type": "stream",
          "name": "stdout",
          "text": [
            "Train Epoch: 2 [47360/84843 (56%)]\tLoss: 2.286716\n"
          ]
        },
        {
          "output_type": "stream",
          "name": "stderr",
          "text": [
            "  5%|▌         | 1.5080106809078933/30 [14:37<5:33:24, 702.11s/it]"
          ]
        },
        {
          "output_type": "stream",
          "name": "stdout",
          "text": [
            "Train Epoch: 2 [48640/84843 (57%)]\tLoss: 2.164315\n"
          ]
        },
        {
          "output_type": "stream",
          "name": "stderr",
          "text": [
            "  5%|▌         | 1.5213618157543554/30 [14:47<6:44:32, 852.31s/it]"
          ]
        },
        {
          "output_type": "stream",
          "name": "stdout",
          "text": [
            "Train Epoch: 2 [49920/84843 (59%)]\tLoss: 2.223733\n"
          ]
        },
        {
          "output_type": "stream",
          "name": "stderr",
          "text": [
            "  5%|▌         | 1.5347129506008175/30 [14:56<4:11:31, 530.18s/it]"
          ]
        },
        {
          "output_type": "stream",
          "name": "stdout",
          "text": [
            "Train Epoch: 2 [51200/84843 (60%)]\tLoss: 1.883062\n"
          ]
        },
        {
          "output_type": "stream",
          "name": "stderr",
          "text": [
            "  5%|▌         | 1.5480640854472796/30 [15:02<3:53:52, 493.18s/it]"
          ]
        },
        {
          "output_type": "stream",
          "name": "stdout",
          "text": [
            "Train Epoch: 2 [52480/84843 (62%)]\tLoss: 1.863850\n"
          ]
        },
        {
          "output_type": "stream",
          "name": "stderr",
          "text": [
            "  5%|▌         | 1.5614152202937417/30 [15:11<4:05:45, 518.51s/it]"
          ]
        },
        {
          "output_type": "stream",
          "name": "stdout",
          "text": [
            "Train Epoch: 2 [53760/84843 (63%)]\tLoss: 2.032214\n"
          ]
        },
        {
          "output_type": "stream",
          "name": "stderr",
          "text": [
            "  5%|▌         | 1.5747663551402038/30 [15:17<3:58:59, 504.46s/it]"
          ]
        },
        {
          "output_type": "stream",
          "name": "stdout",
          "text": [
            "Train Epoch: 2 [55040/84843 (65%)]\tLoss: 2.118016\n"
          ]
        },
        {
          "output_type": "stream",
          "name": "stderr",
          "text": [
            "  5%|▌         | 1.588117489986666/30 [15:25<4:06:59, 521.60s/it] "
          ]
        },
        {
          "output_type": "stream",
          "name": "stdout",
          "text": [
            "Train Epoch: 2 [56320/84843 (66%)]\tLoss: 1.877197\n"
          ]
        },
        {
          "output_type": "stream",
          "name": "stderr",
          "text": [
            "  5%|▌         | 1.601468624833128/30 [15:32<3:50:19, 486.62s/it]"
          ]
        },
        {
          "output_type": "stream",
          "name": "stdout",
          "text": [
            "Train Epoch: 2 [57600/84843 (68%)]\tLoss: 2.092808\n"
          ]
        },
        {
          "output_type": "stream",
          "name": "stderr",
          "text": [
            "  5%|▌         | 1.6148197596795901/30 [15:40<3:59:06, 505.41s/it]"
          ]
        },
        {
          "output_type": "stream",
          "name": "stdout",
          "text": [
            "Train Epoch: 2 [58880/84843 (69%)]\tLoss: 1.971362\n"
          ]
        },
        {
          "output_type": "stream",
          "name": "stderr",
          "text": [
            "  5%|▌         | 1.6281708945260522/30 [15:47<3:50:19, 487.08s/it]"
          ]
        },
        {
          "output_type": "stream",
          "name": "stdout",
          "text": [
            "Train Epoch: 2 [60160/84843 (71%)]\tLoss: 2.457063\n"
          ]
        },
        {
          "output_type": "stream",
          "name": "stderr",
          "text": [
            "  5%|▌         | 1.6415220293725143/30 [15:55<3:59:59, 507.77s/it]"
          ]
        },
        {
          "output_type": "stream",
          "name": "stdout",
          "text": [
            "Train Epoch: 2 [61440/84843 (72%)]\tLoss: 2.275287\n"
          ]
        },
        {
          "output_type": "stream",
          "name": "stderr",
          "text": [
            "  6%|▌         | 1.6548731642189765/30 [16:02<4:24:53, 560.71s/it]"
          ]
        },
        {
          "output_type": "stream",
          "name": "stdout",
          "text": [
            "Train Epoch: 2 [62720/84843 (74%)]\tLoss: 2.284165\n"
          ]
        },
        {
          "output_type": "stream",
          "name": "stderr",
          "text": [
            "  6%|▌         | 1.6682242990654386/30 [16:10<3:54:31, 496.68s/it]"
          ]
        },
        {
          "output_type": "stream",
          "name": "stdout",
          "text": [
            "Train Epoch: 2 [64000/84843 (75%)]\tLoss: 1.814883\n"
          ]
        },
        {
          "output_type": "stream",
          "name": "stderr",
          "text": [
            "  6%|▌         | 1.6815754339119007/30 [16:17<4:57:14, 629.77s/it]"
          ]
        },
        {
          "output_type": "stream",
          "name": "stdout",
          "text": [
            "Train Epoch: 2 [65280/84843 (77%)]\tLoss: 2.167671\n"
          ]
        },
        {
          "output_type": "stream",
          "name": "stderr",
          "text": [
            "  6%|▌         | 1.6949265687583628/30 [16:24<3:58:39, 505.89s/it]"
          ]
        },
        {
          "output_type": "stream",
          "name": "stdout",
          "text": [
            "Train Epoch: 2 [66560/84843 (78%)]\tLoss: 1.854578\n"
          ]
        },
        {
          "output_type": "stream",
          "name": "stderr",
          "text": [
            "  6%|▌         | 1.708277703604825/30 [16:32<5:23:57, 687.05s/it] "
          ]
        },
        {
          "output_type": "stream",
          "name": "stdout",
          "text": [
            "Train Epoch: 2 [67840/84843 (80%)]\tLoss: 2.129326\n"
          ]
        },
        {
          "output_type": "stream",
          "name": "stderr",
          "text": [
            "  6%|▌         | 1.721628838451287/30 [16:40<4:00:26, 510.14s/it]"
          ]
        },
        {
          "output_type": "stream",
          "name": "stdout",
          "text": [
            "Train Epoch: 2 [69120/84843 (81%)]\tLoss: 2.169878\n"
          ]
        },
        {
          "output_type": "stream",
          "name": "stderr",
          "text": [
            "  6%|▌         | 1.7349799732977491/30 [16:47<5:42:19, 726.68s/it]"
          ]
        },
        {
          "output_type": "stream",
          "name": "stdout",
          "text": [
            "Train Epoch: 2 [70400/84843 (83%)]\tLoss: 1.891744\n"
          ]
        },
        {
          "output_type": "stream",
          "name": "stderr",
          "text": [
            "  6%|▌         | 1.7483311081442112/30 [16:54<4:00:23, 510.53s/it]"
          ]
        },
        {
          "output_type": "stream",
          "name": "stdout",
          "text": [
            "Train Epoch: 2 [71680/84843 (84%)]\tLoss: 2.167366\n"
          ]
        },
        {
          "output_type": "stream",
          "name": "stderr",
          "text": [
            "  6%|▌         | 1.7616822429906733/30 [17:02<5:43:06, 729.02s/it]"
          ]
        },
        {
          "output_type": "stream",
          "name": "stdout",
          "text": [
            "Train Epoch: 2 [72960/84843 (86%)]\tLoss: 2.018637\n"
          ]
        },
        {
          "output_type": "stream",
          "name": "stderr",
          "text": [
            "  6%|▌         | 1.7750333778371354/30 [17:09<3:54:39, 498.84s/it]"
          ]
        },
        {
          "output_type": "stream",
          "name": "stdout",
          "text": [
            "Train Epoch: 2 [74240/84843 (87%)]\tLoss: 2.256239\n"
          ]
        },
        {
          "output_type": "stream",
          "name": "stderr",
          "text": [
            "  6%|▌         | 1.7883845126835975/30 [17:17<5:48:35, 741.38s/it]"
          ]
        },
        {
          "output_type": "stream",
          "name": "stdout",
          "text": [
            "Train Epoch: 2 [75520/84843 (89%)]\tLoss: 2.172046\n"
          ]
        },
        {
          "output_type": "stream",
          "name": "stderr",
          "text": [
            "  6%|▌         | 1.8017356475300597/30 [17:24<3:51:28, 492.52s/it]"
          ]
        },
        {
          "output_type": "stream",
          "name": "stdout",
          "text": [
            "Train Epoch: 2 [76800/84843 (90%)]\tLoss: 1.878314\n"
          ]
        },
        {
          "output_type": "stream",
          "name": "stderr",
          "text": [
            "  6%|▌         | 1.8150867823765218/30 [17:32<5:26:16, 694.56s/it]"
          ]
        },
        {
          "output_type": "stream",
          "name": "stdout",
          "text": [
            "Train Epoch: 2 [78080/84843 (92%)]\tLoss: 2.194306\n"
          ]
        },
        {
          "output_type": "stream",
          "name": "stderr",
          "text": [
            "  6%|▌         | 1.8284379172229839/30 [17:38<3:52:55, 496.10s/it]"
          ]
        },
        {
          "output_type": "stream",
          "name": "stdout",
          "text": [
            "Train Epoch: 2 [79360/84843 (94%)]\tLoss: 1.706320\n"
          ]
        },
        {
          "output_type": "stream",
          "name": "stderr",
          "text": [
            "  6%|▌         | 1.841789052069446/30 [17:47<4:46:51, 611.24s/it] "
          ]
        },
        {
          "output_type": "stream",
          "name": "stdout",
          "text": [
            "Train Epoch: 2 [80640/84843 (95%)]\tLoss: 2.057509\n"
          ]
        },
        {
          "output_type": "stream",
          "name": "stderr",
          "text": [
            "  6%|▌         | 1.855140186915908/30 [17:53<3:58:18, 508.03s/it]"
          ]
        },
        {
          "output_type": "stream",
          "name": "stdout",
          "text": [
            "Train Epoch: 2 [81920/84843 (97%)]\tLoss: 2.318560\n"
          ]
        },
        {
          "output_type": "stream",
          "name": "stderr",
          "text": [
            "  6%|▌         | 1.8684913217623702/30 [18:02<4:27:53, 571.38s/it]"
          ]
        },
        {
          "output_type": "stream",
          "name": "stdout",
          "text": [
            "Train Epoch: 2 [83200/84843 (98%)]\tLoss: 1.888411\n"
          ]
        },
        {
          "output_type": "stream",
          "name": "stderr",
          "text": [
            "  6%|▋         | 1.8818424566088323/30 [18:08<3:51:41, 494.41s/it]"
          ]
        },
        {
          "output_type": "stream",
          "name": "stdout",
          "text": [
            "Train Epoch: 2 [84480/84843 (100%)]\tLoss: 1.876767\n"
          ]
        },
        {
          "output_type": "stream",
          "name": "stderr",
          "text": [
            "  7%|▋         | 2.0000000000000218/30 [19:23<6:52:05, 883.05s/it]"
          ]
        },
        {
          "output_type": "stream",
          "name": "stdout",
          "text": [
            "\n",
            "Test Epoch: 2\tAccuracy: 4584/11005 (42%)\n",
            "\n"
          ]
        },
        {
          "output_type": "stream",
          "name": "stderr",
          "text": [
            "\r  7%|▋         | 2.0006675567423446/30 [19:24<6:44:52, 867.62s/it]"
          ]
        },
        {
          "output_type": "stream",
          "name": "stdout",
          "text": [
            "Train Epoch: 3 [0/84843 (0%)]\tLoss: 2.527426\n"
          ]
        },
        {
          "output_type": "stream",
          "name": "stderr",
          "text": [
            "  7%|▋         | 2.0140186915888023/30 [19:31<3:46:23, 485.35s/it]"
          ]
        },
        {
          "output_type": "stream",
          "name": "stdout",
          "text": [
            "Train Epoch: 3 [1280/84843 (2%)]\tLoss: 2.040114\n"
          ]
        },
        {
          "output_type": "stream",
          "name": "stderr",
          "text": [
            "  7%|▋         | 2.02736982643526/30 [19:38<5:47:29, 745.36s/it] "
          ]
        },
        {
          "output_type": "stream",
          "name": "stdout",
          "text": [
            "Train Epoch: 3 [2560/84843 (3%)]\tLoss: 1.877688\n"
          ]
        },
        {
          "output_type": "stream",
          "name": "stderr",
          "text": [
            "  7%|▋         | 2.0407209612817176/30 [19:46<3:52:50, 499.68s/it]"
          ]
        },
        {
          "output_type": "stream",
          "name": "stdout",
          "text": [
            "Train Epoch: 3 [3840/84843 (5%)]\tLoss: 1.878493\n"
          ]
        },
        {
          "output_type": "stream",
          "name": "stderr",
          "text": [
            "  7%|▋         | 2.0540720961281753/30 [19:53<5:45:02, 740.82s/it]"
          ]
        },
        {
          "output_type": "stream",
          "name": "stdout",
          "text": [
            "Train Epoch: 3 [5120/84843 (6%)]\tLoss: 2.282431\n"
          ]
        },
        {
          "output_type": "stream",
          "name": "stderr",
          "text": [
            "  7%|▋         | 2.067423230974633/30 [20:00<3:50:44, 495.65s/it]"
          ]
        },
        {
          "output_type": "stream",
          "name": "stdout",
          "text": [
            "Train Epoch: 3 [6400/84843 (8%)]\tLoss: 2.257840\n"
          ]
        },
        {
          "output_type": "stream",
          "name": "stderr",
          "text": [
            "  7%|▋         | 2.0807743658210907/30 [20:08<5:42:39, 736.40s/it]"
          ]
        },
        {
          "output_type": "stream",
          "name": "stdout",
          "text": [
            "Train Epoch: 3 [7680/84843 (9%)]\tLoss: 1.625827\n"
          ]
        },
        {
          "output_type": "stream",
          "name": "stderr",
          "text": [
            "  7%|▋         | 2.0941255006675483/30 [20:15<3:46:38, 487.29s/it]"
          ]
        },
        {
          "output_type": "stream",
          "name": "stdout",
          "text": [
            "Train Epoch: 3 [8960/84843 (11%)]\tLoss: 1.841588\n"
          ]
        },
        {
          "output_type": "stream",
          "name": "stderr",
          "text": [
            "  7%|▋         | 2.107476635514006/30 [20:23<5:13:10, 673.67s/it]"
          ]
        },
        {
          "output_type": "stream",
          "name": "stdout",
          "text": [
            "Train Epoch: 3 [10240/84843 (12%)]\tLoss: 2.181947\n"
          ]
        },
        {
          "output_type": "stream",
          "name": "stderr",
          "text": [
            "  7%|▋         | 2.1208277703604637/30 [20:29<3:47:03, 488.65s/it]"
          ]
        },
        {
          "output_type": "stream",
          "name": "stdout",
          "text": [
            "Train Epoch: 3 [11520/84843 (14%)]\tLoss: 2.192902\n"
          ]
        },
        {
          "output_type": "stream",
          "name": "stderr",
          "text": [
            "  7%|▋         | 2.1341789052069213/30 [20:38<4:50:21, 625.20s/it]"
          ]
        },
        {
          "output_type": "stream",
          "name": "stdout",
          "text": [
            "Train Epoch: 3 [12800/84843 (15%)]\tLoss: 2.258814\n"
          ]
        },
        {
          "output_type": "stream",
          "name": "stderr",
          "text": [
            "  7%|▋         | 2.147530040053379/30 [20:44<3:52:19, 500.46s/it]"
          ]
        },
        {
          "output_type": "stream",
          "name": "stdout",
          "text": [
            "Train Epoch: 3 [14080/84843 (17%)]\tLoss: 1.600768\n"
          ]
        },
        {
          "output_type": "stream",
          "name": "stderr",
          "text": [
            "  7%|▋         | 2.1608811748998367/30 [20:52<4:25:05, 571.33s/it]"
          ]
        },
        {
          "output_type": "stream",
          "name": "stdout",
          "text": [
            "Train Epoch: 3 [15360/84843 (18%)]\tLoss: 1.942982\n"
          ]
        },
        {
          "output_type": "stream",
          "name": "stderr",
          "text": [
            "  7%|▋         | 2.1742323097462943/30 [20:59<3:47:10, 489.86s/it]"
          ]
        },
        {
          "output_type": "stream",
          "name": "stdout",
          "text": [
            "Train Epoch: 3 [16640/84843 (20%)]\tLoss: 1.754076\n"
          ]
        },
        {
          "output_type": "stream",
          "name": "stderr",
          "text": [
            "  7%|▋         | 2.187583444592752/30 [21:07<4:10:40, 540.80s/it]"
          ]
        },
        {
          "output_type": "stream",
          "name": "stdout",
          "text": [
            "Train Epoch: 3 [17920/84843 (21%)]\tLoss: 2.103750\n"
          ]
        },
        {
          "output_type": "stream",
          "name": "stderr",
          "text": [
            "  7%|▋         | 2.2009345794392097/30 [21:13<3:46:59, 489.94s/it]"
          ]
        },
        {
          "output_type": "stream",
          "name": "stdout",
          "text": [
            "Train Epoch: 3 [19200/84843 (23%)]\tLoss: 2.081115\n"
          ]
        },
        {
          "output_type": "stream",
          "name": "stderr",
          "text": [
            "  7%|▋         | 2.2142857142856673/30 [21:21<4:08:38, 536.90s/it]"
          ]
        },
        {
          "output_type": "stream",
          "name": "stdout",
          "text": [
            "Train Epoch: 3 [20480/84843 (24%)]\tLoss: 1.938428\n"
          ]
        },
        {
          "output_type": "stream",
          "name": "stderr",
          "text": [
            "  7%|▋         | 2.227636849132125/30 [21:28<3:45:58, 488.20s/it]"
          ]
        },
        {
          "output_type": "stream",
          "name": "stdout",
          "text": [
            "Train Epoch: 3 [21760/84843 (26%)]\tLoss: 2.155268\n"
          ]
        },
        {
          "output_type": "stream",
          "name": "stderr",
          "text": [
            "  7%|▋         | 2.2409879839785827/30 [21:36<4:03:22, 526.04s/it]"
          ]
        },
        {
          "output_type": "stream",
          "name": "stdout",
          "text": [
            "Train Epoch: 3 [23040/84843 (27%)]\tLoss: 2.049729\n"
          ]
        },
        {
          "output_type": "stream",
          "name": "stderr",
          "text": [
            "  8%|▊         | 2.2543391188250403/30 [21:42<3:48:07, 493.34s/it]"
          ]
        },
        {
          "output_type": "stream",
          "name": "stdout",
          "text": [
            "Train Epoch: 3 [24320/84843 (29%)]\tLoss: 2.062293\n"
          ]
        },
        {
          "output_type": "stream",
          "name": "stderr",
          "text": [
            "  8%|▊         | 2.267690253671498/30 [21:50<3:59:11, 517.51s/it]"
          ]
        },
        {
          "output_type": "stream",
          "name": "stdout",
          "text": [
            "Train Epoch: 3 [25600/84843 (30%)]\tLoss: 1.877471\n"
          ]
        },
        {
          "output_type": "stream",
          "name": "stderr",
          "text": [
            "  8%|▊         | 2.2810413885179557/30 [21:57<3:47:25, 492.29s/it]"
          ]
        },
        {
          "output_type": "stream",
          "name": "stdout",
          "text": [
            "Train Epoch: 3 [26880/84843 (32%)]\tLoss: 2.009240\n"
          ]
        },
        {
          "output_type": "stream",
          "name": "stderr",
          "text": [
            "  8%|▊         | 2.2943925233644133/30 [22:05<3:59:30, 518.70s/it]"
          ]
        },
        {
          "output_type": "stream",
          "name": "stdout",
          "text": [
            "Train Epoch: 3 [28160/84843 (33%)]\tLoss: 2.162402\n"
          ]
        },
        {
          "output_type": "stream",
          "name": "stderr",
          "text": [
            "  8%|▊         | 2.307743658210871/30 [22:12<3:53:30, 505.93s/it]"
          ]
        },
        {
          "output_type": "stream",
          "name": "stdout",
          "text": [
            "Train Epoch: 3 [29440/84843 (35%)]\tLoss: 2.247079\n"
          ]
        },
        {
          "output_type": "stream",
          "name": "stderr",
          "text": [
            "  8%|▊         | 2.3210947930573287/30 [22:20<4:00:42, 521.80s/it]"
          ]
        },
        {
          "output_type": "stream",
          "name": "stdout",
          "text": [
            "Train Epoch: 3 [30720/84843 (36%)]\tLoss: 1.672342\n"
          ]
        },
        {
          "output_type": "stream",
          "name": "stderr",
          "text": [
            "  8%|▊         | 2.3344459279037864/30 [22:27<3:46:23, 490.98s/it]"
          ]
        },
        {
          "output_type": "stream",
          "name": "stdout",
          "text": [
            "Train Epoch: 3 [32000/84843 (38%)]\tLoss: 2.207490\n"
          ]
        },
        {
          "output_type": "stream",
          "name": "stderr",
          "text": [
            "  8%|▊         | 2.347797062750244/30 [22:36<4:27:09, 579.68s/it]"
          ]
        },
        {
          "output_type": "stream",
          "name": "stdout",
          "text": [
            "Train Epoch: 3 [33280/84843 (39%)]\tLoss: 1.810241\n"
          ]
        },
        {
          "output_type": "stream",
          "name": "stderr",
          "text": [
            "  8%|▊         | 2.3611481975967017/30 [22:43<4:51:26, 632.67s/it]"
          ]
        },
        {
          "output_type": "stream",
          "name": "stdout",
          "text": [
            "Train Epoch: 3 [34560/84843 (41%)]\tLoss: 1.992338\n"
          ]
        },
        {
          "output_type": "stream",
          "name": "stderr",
          "text": [
            "  8%|▊         | 2.3744993324431594/30 [22:50<3:50:03, 499.67s/it]"
          ]
        },
        {
          "output_type": "stream",
          "name": "stdout",
          "text": [
            "Train Epoch: 3 [35840/84843 (42%)]\tLoss: 1.896639\n"
          ]
        },
        {
          "output_type": "stream",
          "name": "stderr",
          "text": [
            "  8%|▊         | 2.387850467289617/30 [22:57<5:07:17, 667.73s/it]"
          ]
        },
        {
          "output_type": "stream",
          "name": "stdout",
          "text": [
            "Train Epoch: 3 [37120/84843 (44%)]\tLoss: 2.083834\n"
          ]
        },
        {
          "output_type": "stream",
          "name": "stderr",
          "text": [
            "  8%|▊         | 2.4012016021360747/30 [23:05<3:41:41, 481.98s/it]"
          ]
        },
        {
          "output_type": "stream",
          "name": "stdout",
          "text": [
            "Train Epoch: 3 [38400/84843 (45%)]\tLoss: 2.196373\n"
          ]
        },
        {
          "output_type": "stream",
          "name": "stderr",
          "text": [
            "  8%|▊         | 2.4145527369825324/30 [23:12<5:10:39, 675.71s/it]"
          ]
        },
        {
          "output_type": "stream",
          "name": "stdout",
          "text": [
            "Train Epoch: 3 [39680/84843 (47%)]\tLoss: 2.451167\n"
          ]
        },
        {
          "output_type": "stream",
          "name": "stderr",
          "text": [
            "  8%|▊         | 2.42790387182899/30 [23:20<3:50:16, 501.12s/it] "
          ]
        },
        {
          "output_type": "stream",
          "name": "stdout",
          "text": [
            "Train Epoch: 3 [40960/84843 (48%)]\tLoss: 1.965755\n"
          ]
        },
        {
          "output_type": "stream",
          "name": "stderr",
          "text": [
            "  8%|▊         | 2.4412550066754477/30 [23:27<5:31:06, 720.89s/it]"
          ]
        },
        {
          "output_type": "stream",
          "name": "stdout",
          "text": [
            "Train Epoch: 3 [42240/84843 (50%)]\tLoss: 1.928458\n"
          ]
        },
        {
          "output_type": "stream",
          "name": "stderr",
          "text": [
            "  8%|▊         | 2.4546061415219054/30 [23:34<3:46:56, 494.34s/it]"
          ]
        },
        {
          "output_type": "stream",
          "name": "stdout",
          "text": [
            "Train Epoch: 3 [43520/84843 (51%)]\tLoss: 1.939045\n"
          ]
        },
        {
          "output_type": "stream",
          "name": "stderr",
          "text": [
            "  8%|▊         | 2.467957276368363/30 [23:42<5:33:00, 725.73s/it]"
          ]
        },
        {
          "output_type": "stream",
          "name": "stdout",
          "text": [
            "Train Epoch: 3 [44800/84843 (53%)]\tLoss: 2.006584\n"
          ]
        },
        {
          "output_type": "stream",
          "name": "stderr",
          "text": [
            "  8%|▊         | 2.4813084112148207/30 [23:49<3:45:51, 492.44s/it]"
          ]
        },
        {
          "output_type": "stream",
          "name": "stdout",
          "text": [
            "Train Epoch: 3 [46080/84843 (54%)]\tLoss: 1.962004\n"
          ]
        },
        {
          "output_type": "stream",
          "name": "stderr",
          "text": [
            "  8%|▊         | 2.4946595460612784/30 [23:57<5:37:56, 737.18s/it]"
          ]
        },
        {
          "output_type": "stream",
          "name": "stdout",
          "text": [
            "Train Epoch: 3 [47360/84843 (56%)]\tLoss: 1.725220\n"
          ]
        },
        {
          "output_type": "stream",
          "name": "stderr",
          "text": [
            "  8%|▊         | 2.508010680907736/30 [24:04<3:47:02, 495.51s/it]"
          ]
        },
        {
          "output_type": "stream",
          "name": "stdout",
          "text": [
            "Train Epoch: 3 [48640/84843 (57%)]\tLoss: 1.991851\n"
          ]
        },
        {
          "output_type": "stream",
          "name": "stderr",
          "text": [
            "  8%|▊         | 2.5213618157541937/30 [24:12<5:33:13, 727.60s/it]"
          ]
        },
        {
          "output_type": "stream",
          "name": "stdout",
          "text": [
            "Train Epoch: 3 [49920/84843 (59%)]\tLoss: 1.982390\n"
          ]
        },
        {
          "output_type": "stream",
          "name": "stderr",
          "text": [
            "  8%|▊         | 2.5347129506006514/30 [24:19<3:46:15, 494.29s/it]"
          ]
        },
        {
          "output_type": "stream",
          "name": "stdout",
          "text": [
            "Train Epoch: 3 [51200/84843 (60%)]\tLoss: 1.926480\n"
          ]
        },
        {
          "output_type": "stream",
          "name": "stderr",
          "text": [
            "  8%|▊         | 2.548064085447109/30 [24:27<4:54:36, 643.89s/it]"
          ]
        },
        {
          "output_type": "stream",
          "name": "stdout",
          "text": [
            "Train Epoch: 3 [52480/84843 (62%)]\tLoss: 1.715411\n"
          ]
        },
        {
          "output_type": "stream",
          "name": "stderr",
          "text": [
            "  9%|▊         | 2.5614152202935667/30 [24:33<3:44:27, 490.81s/it]"
          ]
        },
        {
          "output_type": "stream",
          "name": "stdout",
          "text": [
            "Train Epoch: 3 [53760/84843 (63%)]\tLoss: 2.034620\n"
          ]
        },
        {
          "output_type": "stream",
          "name": "stderr",
          "text": [
            "  9%|▊         | 2.5747663551400244/30 [24:41<4:26:25, 582.87s/it]"
          ]
        },
        {
          "output_type": "stream",
          "name": "stdout",
          "text": [
            "Train Epoch: 3 [55040/84843 (65%)]\tLoss: 1.871314\n"
          ]
        },
        {
          "output_type": "stream",
          "name": "stderr",
          "text": [
            "  9%|▊         | 2.588117489986482/30 [24:48<3:43:17, 488.76s/it]"
          ]
        },
        {
          "output_type": "stream",
          "name": "stdout",
          "text": [
            "Train Epoch: 3 [56320/84843 (66%)]\tLoss: 2.041295\n"
          ]
        },
        {
          "output_type": "stream",
          "name": "stderr",
          "text": [
            "  9%|▊         | 2.6014686248329397/30 [25:00<7:39:39, 1006.61s/it]"
          ]
        },
        {
          "output_type": "stream",
          "name": "stdout",
          "text": [
            "Train Epoch: 3 [57600/84843 (68%)]\tLoss: 2.042194\n"
          ]
        },
        {
          "output_type": "stream",
          "name": "stderr",
          "text": [
            "  9%|▊         | 2.6148197596793974/30 [25:08<4:27:35, 586.29s/it]"
          ]
        },
        {
          "output_type": "stream",
          "name": "stdout",
          "text": [
            "Train Epoch: 3 [58880/84843 (69%)]\tLoss: 1.830306\n"
          ]
        },
        {
          "output_type": "stream",
          "name": "stderr",
          "text": [
            "  9%|▉         | 2.628170894525855/30 [25:16<4:00:36, 527.41s/it]"
          ]
        },
        {
          "output_type": "stream",
          "name": "stdout",
          "text": [
            "Train Epoch: 3 [60160/84843 (71%)]\tLoss: 1.751097\n"
          ]
        },
        {
          "output_type": "stream",
          "name": "stderr",
          "text": [
            "  9%|▉         | 2.6415220293723127/30 [25:24<5:22:21, 706.97s/it]"
          ]
        },
        {
          "output_type": "stream",
          "name": "stdout",
          "text": [
            "Train Epoch: 3 [61440/84843 (72%)]\tLoss: 2.150719\n"
          ]
        },
        {
          "output_type": "stream",
          "name": "stderr",
          "text": [
            "  9%|▉         | 2.6548731642187704/30 [25:32<3:53:06, 511.49s/it]"
          ]
        },
        {
          "output_type": "stream",
          "name": "stdout",
          "text": [
            "Train Epoch: 3 [62720/84843 (74%)]\tLoss: 2.198094\n"
          ]
        },
        {
          "output_type": "stream",
          "name": "stderr",
          "text": [
            "  9%|▉         | 2.668224299065228/30 [25:40<5:50:23, 769.20s/it]"
          ]
        },
        {
          "output_type": "stream",
          "name": "stdout",
          "text": [
            "Train Epoch: 3 [64000/84843 (75%)]\tLoss: 1.987609\n"
          ]
        },
        {
          "output_type": "stream",
          "name": "stderr",
          "text": [
            "  9%|▉         | 2.6815754339116857/30 [25:47<3:59:45, 526.59s/it]"
          ]
        },
        {
          "output_type": "stream",
          "name": "stdout",
          "text": [
            "Train Epoch: 3 [65280/84843 (77%)]\tLoss: 1.708113\n"
          ]
        },
        {
          "output_type": "stream",
          "name": "stderr",
          "text": [
            "  9%|▉         | 2.6949265687581434/30 [25:55<5:10:26, 682.16s/it]"
          ]
        },
        {
          "output_type": "stream",
          "name": "stdout",
          "text": [
            "Train Epoch: 3 [66560/84843 (78%)]\tLoss: 1.837469\n"
          ]
        },
        {
          "output_type": "stream",
          "name": "stderr",
          "text": [
            "  9%|▉         | 2.708277703604601/30 [26:02<3:51:32, 509.05s/it]"
          ]
        },
        {
          "output_type": "stream",
          "name": "stdout",
          "text": [
            "Train Epoch: 3 [67840/84843 (80%)]\tLoss: 2.116572\n"
          ]
        },
        {
          "output_type": "stream",
          "name": "stderr",
          "text": [
            "  9%|▉         | 2.7216288384510587/30 [26:10<4:26:08, 585.41s/it]"
          ]
        },
        {
          "output_type": "stream",
          "name": "stdout",
          "text": [
            "Train Epoch: 3 [69120/84843 (81%)]\tLoss: 1.675289\n"
          ]
        },
        {
          "output_type": "stream",
          "name": "stderr",
          "text": [
            "  9%|▉         | 2.7349799732975164/30 [26:17<3:58:27, 524.74s/it]"
          ]
        },
        {
          "output_type": "stream",
          "name": "stdout",
          "text": [
            "Train Epoch: 3 [70400/84843 (83%)]\tLoss: 2.021011\n"
          ]
        },
        {
          "output_type": "stream",
          "name": "stderr",
          "text": [
            "  9%|▉         | 2.748331108143974/30 [26:26<3:56:09, 519.96s/it]"
          ]
        },
        {
          "output_type": "stream",
          "name": "stdout",
          "text": [
            "Train Epoch: 3 [71680/84843 (84%)]\tLoss: 1.923010\n"
          ]
        },
        {
          "output_type": "stream",
          "name": "stderr",
          "text": [
            "  9%|▉         | 2.7616822429904317/30 [26:33<3:55:43, 519.26s/it]"
          ]
        },
        {
          "output_type": "stream",
          "name": "stdout",
          "text": [
            "Train Epoch: 3 [72960/84843 (86%)]\tLoss: 2.252961\n"
          ]
        },
        {
          "output_type": "stream",
          "name": "stderr",
          "text": [
            "  9%|▉         | 2.7750333778368894/30 [26:41<3:55:48, 519.70s/it]"
          ]
        },
        {
          "output_type": "stream",
          "name": "stdout",
          "text": [
            "Train Epoch: 3 [74240/84843 (87%)]\tLoss: 1.819352\n"
          ]
        },
        {
          "output_type": "stream",
          "name": "stderr",
          "text": [
            "  9%|▉         | 2.788384512683347/30 [26:48<4:05:20, 540.95s/it]"
          ]
        },
        {
          "output_type": "stream",
          "name": "stdout",
          "text": [
            "Train Epoch: 3 [75520/84843 (89%)]\tLoss: 2.053564\n"
          ]
        },
        {
          "output_type": "stream",
          "name": "stderr",
          "text": [
            "  9%|▉         | 2.8017356475298048/30 [26:56<3:48:42, 504.55s/it]"
          ]
        },
        {
          "output_type": "stream",
          "name": "stdout",
          "text": [
            "Train Epoch: 3 [76800/84843 (90%)]\tLoss: 1.972103\n"
          ]
        },
        {
          "output_type": "stream",
          "name": "stderr",
          "text": [
            "  9%|▉         | 2.8150867823762624/30 [27:03<5:08:16, 680.39s/it]"
          ]
        },
        {
          "output_type": "stream",
          "name": "stdout",
          "text": [
            "Train Epoch: 3 [78080/84843 (92%)]\tLoss: 2.138987\n"
          ]
        },
        {
          "output_type": "stream",
          "name": "stderr",
          "text": [
            "  9%|▉         | 2.82843791722272/30 [27:11<3:51:04, 510.26s/it] "
          ]
        },
        {
          "output_type": "stream",
          "name": "stdout",
          "text": [
            "Train Epoch: 3 [79360/84843 (94%)]\tLoss: 1.895612\n"
          ]
        },
        {
          "output_type": "stream",
          "name": "stderr",
          "text": [
            "  9%|▉         | 2.8417890520691778/30 [27:19<5:35:22, 740.95s/it]"
          ]
        },
        {
          "output_type": "stream",
          "name": "stdout",
          "text": [
            "Train Epoch: 3 [80640/84843 (95%)]\tLoss: 2.279619\n"
          ]
        },
        {
          "output_type": "stream",
          "name": "stderr",
          "text": [
            " 10%|▉         | 2.8551401869156354/30 [27:27<3:55:44, 521.08s/it]"
          ]
        },
        {
          "output_type": "stream",
          "name": "stdout",
          "text": [
            "Train Epoch: 3 [81920/84843 (97%)]\tLoss: 2.035780\n"
          ]
        },
        {
          "output_type": "stream",
          "name": "stderr",
          "text": [
            " 10%|▉         | 2.868491321762093/30 [27:35<5:35:45, 742.52s/it]"
          ]
        },
        {
          "output_type": "stream",
          "name": "stdout",
          "text": [
            "Train Epoch: 3 [83200/84843 (98%)]\tLoss: 1.855633\n"
          ]
        },
        {
          "output_type": "stream",
          "name": "stderr",
          "text": [
            " 10%|▉         | 2.8818424566085508/30 [27:42<3:52:03, 513.43s/it]"
          ]
        },
        {
          "output_type": "stream",
          "name": "stdout",
          "text": [
            "Train Epoch: 3 [84480/84843 (100%)]\tLoss: 2.231204\n"
          ]
        },
        {
          "output_type": "stream",
          "name": "stderr",
          "text": [
            " 10%|▉         | 2.999999999999701/30 [28:45<5:11:10, 691.50s/it] "
          ]
        },
        {
          "output_type": "stream",
          "name": "stdout",
          "text": [
            "\n",
            "Test Epoch: 3\tAccuracy: 4883/11005 (44%)\n",
            "\n"
          ]
        },
        {
          "output_type": "stream",
          "name": "stderr",
          "text": [
            "\r 10%|█         | 3.000667556742024/30 [28:46<5:27:06, 726.91s/it]"
          ]
        },
        {
          "output_type": "stream",
          "name": "stdout",
          "text": [
            "Train Epoch: 4 [0/84843 (0%)]\tLoss: 2.069027\n"
          ]
        },
        {
          "output_type": "stream",
          "name": "stderr",
          "text": [
            " 10%|█         | 3.0140186915884817/30 [28:53<3:50:21, 512.18s/it]"
          ]
        },
        {
          "output_type": "stream",
          "name": "stdout",
          "text": [
            "Train Epoch: 4 [1280/84843 (2%)]\tLoss: 1.935065\n"
          ]
        },
        {
          "output_type": "stream",
          "name": "stderr",
          "text": [
            " 10%|█         | 3.0273698264349393/30 [29:01<5:10:01, 689.66s/it]"
          ]
        },
        {
          "output_type": "stream",
          "name": "stdout",
          "text": [
            "Train Epoch: 4 [2560/84843 (3%)]\tLoss: 2.281443\n"
          ]
        },
        {
          "output_type": "stream",
          "name": "stderr",
          "text": [
            " 10%|█         | 3.040720961281397/30 [29:08<3:47:17, 505.85s/it]"
          ]
        },
        {
          "output_type": "stream",
          "name": "stdout",
          "text": [
            "Train Epoch: 4 [3840/84843 (5%)]\tLoss: 1.690778\n"
          ]
        },
        {
          "output_type": "stream",
          "name": "stderr",
          "text": [
            " 10%|█         | 3.0540720961278547/30 [29:16<4:33:21, 608.68s/it]"
          ]
        },
        {
          "output_type": "stream",
          "name": "stdout",
          "text": [
            "Train Epoch: 4 [5120/84843 (6%)]\tLoss: 2.000125\n"
          ]
        },
        {
          "output_type": "stream",
          "name": "stderr",
          "text": [
            " 10%|█         | 3.0674232309743124/30 [29:23<3:55:14, 524.08s/it]"
          ]
        },
        {
          "output_type": "stream",
          "name": "stdout",
          "text": [
            "Train Epoch: 4 [6400/84843 (8%)]\tLoss: 1.771147\n"
          ]
        },
        {
          "output_type": "stream",
          "name": "stderr",
          "text": [
            " 10%|█         | 3.08077436582077/30 [29:31<4:12:15, 562.24s/it] "
          ]
        },
        {
          "output_type": "stream",
          "name": "stdout",
          "text": [
            "Train Epoch: 4 [7680/84843 (9%)]\tLoss: 2.219339\n"
          ]
        },
        {
          "output_type": "stream",
          "name": "stderr",
          "text": [
            " 10%|█         | 3.0941255006672277/30 [29:38<3:49:59, 512.88s/it]"
          ]
        },
        {
          "output_type": "stream",
          "name": "stdout",
          "text": [
            "Train Epoch: 4 [8960/84843 (11%)]\tLoss: 1.876781\n"
          ]
        },
        {
          "output_type": "stream",
          "name": "stderr",
          "text": [
            " 10%|█         | 3.1074766355136854/30 [29:46<3:54:50, 523.95s/it]"
          ]
        },
        {
          "output_type": "stream",
          "name": "stdout",
          "text": [
            "Train Epoch: 4 [10240/84843 (12%)]\tLoss: 2.132580\n"
          ]
        },
        {
          "output_type": "stream",
          "name": "stderr",
          "text": [
            " 10%|█         | 3.120827770360143/30 [29:53<3:54:50, 524.21s/it]"
          ]
        },
        {
          "output_type": "stream",
          "name": "stdout",
          "text": [
            "Train Epoch: 4 [11520/84843 (14%)]\tLoss: 1.792526\n"
          ]
        },
        {
          "output_type": "stream",
          "name": "stderr",
          "text": [
            " 10%|█         | 3.1341789052066007/30 [30:02<3:53:57, 522.50s/it]"
          ]
        },
        {
          "output_type": "stream",
          "name": "stdout",
          "text": [
            "Train Epoch: 4 [12800/84843 (15%)]\tLoss: 1.868729\n"
          ]
        },
        {
          "output_type": "stream",
          "name": "stderr",
          "text": [
            " 10%|█         | 3.1475300400530584/30 [30:09<4:08:07, 554.42s/it]"
          ]
        },
        {
          "output_type": "stream",
          "name": "stdout",
          "text": [
            "Train Epoch: 4 [14080/84843 (17%)]\tLoss: 2.106252\n"
          ]
        },
        {
          "output_type": "stream",
          "name": "stderr",
          "text": [
            " 11%|█         | 3.160881174899516/30 [30:17<3:50:44, 515.81s/it]"
          ]
        },
        {
          "output_type": "stream",
          "name": "stdout",
          "text": [
            "Train Epoch: 4 [15360/84843 (18%)]\tLoss: 2.026107\n"
          ]
        },
        {
          "output_type": "stream",
          "name": "stderr",
          "text": [
            " 11%|█         | 3.1742323097459737/30 [30:24<5:10:20, 694.11s/it]"
          ]
        },
        {
          "output_type": "stream",
          "name": "stdout",
          "text": [
            "Train Epoch: 4 [16640/84843 (20%)]\tLoss: 2.047832\n"
          ]
        },
        {
          "output_type": "stream",
          "name": "stderr",
          "text": [
            " 11%|█         | 3.1875834445924314/30 [30:32<3:43:28, 500.08s/it]"
          ]
        },
        {
          "output_type": "stream",
          "name": "stdout",
          "text": [
            "Train Epoch: 4 [17920/84843 (21%)]\tLoss: 1.620548\n"
          ]
        },
        {
          "output_type": "stream",
          "name": "stderr",
          "text": [
            " 11%|█         | 3.200934579438889/30 [30:40<5:30:13, 739.35s/it]"
          ]
        },
        {
          "output_type": "stream",
          "name": "stdout",
          "text": [
            "Train Epoch: 4 [19200/84843 (23%)]\tLoss: 1.826099\n"
          ]
        },
        {
          "output_type": "stream",
          "name": "stderr",
          "text": [
            " 11%|█         | 3.2142857142853467/30 [30:47<3:44:56, 503.87s/it]"
          ]
        },
        {
          "output_type": "stream",
          "name": "stdout",
          "text": [
            "Train Epoch: 4 [20480/84843 (24%)]\tLoss: 2.081923\n"
          ]
        },
        {
          "output_type": "stream",
          "name": "stderr",
          "text": [
            " 11%|█         | 3.2276368491318044/30 [30:55<5:32:45, 745.77s/it]"
          ]
        },
        {
          "output_type": "stream",
          "name": "stdout",
          "text": [
            "Train Epoch: 4 [21760/84843 (26%)]\tLoss: 2.143099\n"
          ]
        },
        {
          "output_type": "stream",
          "name": "stderr",
          "text": [
            " 11%|█         | 3.240987983978262/30 [31:02<3:44:16, 502.88s/it]"
          ]
        },
        {
          "output_type": "stream",
          "name": "stdout",
          "text": [
            "Train Epoch: 4 [23040/84843 (27%)]\tLoss: 1.823547\n"
          ]
        },
        {
          "output_type": "stream",
          "name": "stderr",
          "text": [
            " 11%|█         | 3.2543391188247197/30 [31:10<5:18:28, 714.45s/it]"
          ]
        },
        {
          "output_type": "stream",
          "name": "stdout",
          "text": [
            "Train Epoch: 4 [24320/84843 (29%)]\tLoss: 1.964022\n"
          ]
        },
        {
          "output_type": "stream",
          "name": "stderr",
          "text": [
            " 11%|█         | 3.2676902536711774/30 [31:17<3:41:46, 497.77s/it]"
          ]
        },
        {
          "output_type": "stream",
          "name": "stdout",
          "text": [
            "Train Epoch: 4 [25600/84843 (30%)]\tLoss: 1.909341\n"
          ]
        },
        {
          "output_type": "stream",
          "name": "stderr",
          "text": [
            " 11%|█         | 3.281041388517635/30 [31:25<4:36:40, 621.30s/it]"
          ]
        },
        {
          "output_type": "stream",
          "name": "stdout",
          "text": [
            "Train Epoch: 4 [26880/84843 (32%)]\tLoss: 1.874320\n"
          ]
        },
        {
          "output_type": "stream",
          "name": "stderr",
          "text": [
            " 11%|█         | 3.2943925233640927/30 [31:32<3:36:59, 487.53s/it]"
          ]
        },
        {
          "output_type": "stream",
          "name": "stdout",
          "text": [
            "Train Epoch: 4 [28160/84843 (33%)]\tLoss: 2.103622\n"
          ]
        },
        {
          "output_type": "stream",
          "name": "stderr",
          "text": [
            " 11%|█         | 3.3077436582105504/30 [31:40<4:10:48, 563.79s/it]"
          ]
        },
        {
          "output_type": "stream",
          "name": "stdout",
          "text": [
            "Train Epoch: 4 [29440/84843 (35%)]\tLoss: 1.899377\n"
          ]
        },
        {
          "output_type": "stream",
          "name": "stderr",
          "text": [
            " 11%|█         | 3.321094793057008/30 [31:47<3:46:50, 510.15s/it]"
          ]
        },
        {
          "output_type": "stream",
          "name": "stdout",
          "text": [
            "Train Epoch: 4 [30720/84843 (36%)]\tLoss: 1.777692\n"
          ]
        },
        {
          "output_type": "stream",
          "name": "stderr",
          "text": [
            " 11%|█         | 3.3344459279034657/30 [31:55<3:59:20, 538.54s/it]"
          ]
        },
        {
          "output_type": "stream",
          "name": "stdout",
          "text": [
            "Train Epoch: 4 [32000/84843 (38%)]\tLoss: 2.207259\n"
          ]
        },
        {
          "output_type": "stream",
          "name": "stderr",
          "text": [
            " 11%|█         | 3.3477970627499234/30 [32:02<3:42:14, 500.33s/it]"
          ]
        },
        {
          "output_type": "stream",
          "name": "stdout",
          "text": [
            "Train Epoch: 4 [33280/84843 (39%)]\tLoss: 1.847952\n"
          ]
        },
        {
          "output_type": "stream",
          "name": "stderr",
          "text": [
            " 11%|█         | 3.361148197596381/30 [32:10<3:59:13, 538.83s/it]"
          ]
        },
        {
          "output_type": "stream",
          "name": "stdout",
          "text": [
            "Train Epoch: 4 [34560/84843 (41%)]\tLoss: 2.108945\n"
          ]
        },
        {
          "output_type": "stream",
          "name": "stderr",
          "text": [
            " 11%|█         | 3.3744993324428387/30 [32:17<3:45:28, 508.12s/it]"
          ]
        },
        {
          "output_type": "stream",
          "name": "stdout",
          "text": [
            "Train Epoch: 4 [35840/84843 (42%)]\tLoss: 1.726210\n"
          ]
        },
        {
          "output_type": "stream",
          "name": "stderr",
          "text": [
            " 11%|█▏        | 3.3878504672892964/30 [32:25<3:47:57, 513.96s/it]"
          ]
        },
        {
          "output_type": "stream",
          "name": "stdout",
          "text": [
            "Train Epoch: 4 [37120/84843 (44%)]\tLoss: 1.983290\n"
          ]
        },
        {
          "output_type": "stream",
          "name": "stderr",
          "text": [
            " 11%|█▏        | 3.401201602135754/30 [32:32<3:45:26, 508.53s/it]"
          ]
        },
        {
          "output_type": "stream",
          "name": "stdout",
          "text": [
            "Train Epoch: 4 [38400/84843 (45%)]\tLoss: 2.022501\n"
          ]
        },
        {
          "output_type": "stream",
          "name": "stderr",
          "text": [
            " 11%|█▏        | 3.4145527369822117/30 [32:40<3:39:45, 495.97s/it]"
          ]
        },
        {
          "output_type": "stream",
          "name": "stdout",
          "text": [
            "Train Epoch: 4 [39680/84843 (47%)]\tLoss: 2.023204\n"
          ]
        },
        {
          "output_type": "stream",
          "name": "stderr",
          "text": [
            " 11%|█▏        | 3.4279038718286694/30 [32:47<4:09:44, 563.93s/it]"
          ]
        },
        {
          "output_type": "stream",
          "name": "stdout",
          "text": [
            "Train Epoch: 4 [40960/84843 (48%)]\tLoss: 2.153215\n"
          ]
        },
        {
          "output_type": "stream",
          "name": "stderr",
          "text": [
            " 11%|█▏        | 3.441255006675127/30 [32:55<3:42:28, 502.59s/it]"
          ]
        },
        {
          "output_type": "stream",
          "name": "stdout",
          "text": [
            "Train Epoch: 4 [42240/84843 (50%)]\tLoss: 1.731424\n"
          ]
        },
        {
          "output_type": "stream",
          "name": "stderr",
          "text": [
            " 12%|█▏        | 3.4546061415215847/30 [33:02<4:44:27, 642.97s/it]"
          ]
        },
        {
          "output_type": "stream",
          "name": "stdout",
          "text": [
            "Train Epoch: 4 [43520/84843 (51%)]\tLoss: 1.873379\n"
          ]
        },
        {
          "output_type": "stream",
          "name": "stderr",
          "text": [
            " 12%|█▏        | 3.4679572763680424/30 [33:10<3:43:09, 504.64s/it]"
          ]
        },
        {
          "output_type": "stream",
          "name": "stdout",
          "text": [
            "Train Epoch: 4 [44800/84843 (53%)]\tLoss: 1.777484\n"
          ]
        },
        {
          "output_type": "stream",
          "name": "stderr",
          "text": [
            " 12%|█▏        | 3.4813084112145/30 [33:17<5:15:13, 713.22s/it]  "
          ]
        },
        {
          "output_type": "stream",
          "name": "stdout",
          "text": [
            "Train Epoch: 4 [46080/84843 (54%)]\tLoss: 1.694335\n"
          ]
        },
        {
          "output_type": "stream",
          "name": "stderr",
          "text": [
            " 12%|█▏        | 3.4946595460609577/30 [33:25<3:38:14, 494.05s/it]"
          ]
        },
        {
          "output_type": "stream",
          "name": "stdout",
          "text": [
            "Train Epoch: 4 [47360/84843 (56%)]\tLoss: 1.660747\n"
          ]
        },
        {
          "output_type": "stream",
          "name": "stderr",
          "text": [
            " 12%|█▏        | 3.5080106809074154/30 [33:32<5:21:51, 728.97s/it]"
          ]
        },
        {
          "output_type": "stream",
          "name": "stdout",
          "text": [
            "Train Epoch: 4 [48640/84843 (57%)]\tLoss: 1.885213\n"
          ]
        },
        {
          "output_type": "stream",
          "name": "stderr",
          "text": [
            " 12%|█▏        | 3.521361815753873/30 [33:39<3:36:40, 491.00s/it]"
          ]
        },
        {
          "output_type": "stream",
          "name": "stdout",
          "text": [
            "Train Epoch: 4 [49920/84843 (59%)]\tLoss: 1.424328\n"
          ]
        },
        {
          "output_type": "stream",
          "name": "stderr",
          "text": [
            " 12%|█▏        | 3.5347129506003307/30 [33:47<5:25:38, 738.27s/it]"
          ]
        },
        {
          "output_type": "stream",
          "name": "stdout",
          "text": [
            "Train Epoch: 4 [51200/84843 (60%)]\tLoss: 2.031883\n"
          ]
        },
        {
          "output_type": "stream",
          "name": "stderr",
          "text": [
            " 12%|█▏        | 3.5480640854467884/30 [33:54<3:38:57, 496.67s/it]"
          ]
        },
        {
          "output_type": "stream",
          "name": "stdout",
          "text": [
            "Train Epoch: 4 [52480/84843 (62%)]\tLoss: 1.929072\n"
          ]
        },
        {
          "output_type": "stream",
          "name": "stderr",
          "text": [
            " 12%|█▏        | 3.561415220293246/30 [34:02<5:16:53, 719.17s/it]"
          ]
        },
        {
          "output_type": "stream",
          "name": "stdout",
          "text": [
            "Train Epoch: 4 [53760/84843 (63%)]\tLoss: 1.825755\n"
          ]
        },
        {
          "output_type": "stream",
          "name": "stderr",
          "text": [
            " 12%|█▏        | 3.5747663551397038/30 [34:09<3:41:04, 501.96s/it]"
          ]
        },
        {
          "output_type": "stream",
          "name": "stdout",
          "text": [
            "Train Epoch: 4 [55040/84843 (65%)]\tLoss: 2.181788\n"
          ]
        },
        {
          "output_type": "stream",
          "name": "stderr",
          "text": [
            " 12%|█▏        | 3.5881174899861614/30 [34:17<4:29:23, 611.98s/it]"
          ]
        },
        {
          "output_type": "stream",
          "name": "stdout",
          "text": [
            "Train Epoch: 4 [56320/84843 (66%)]\tLoss: 1.930323\n"
          ]
        },
        {
          "output_type": "stream",
          "name": "stderr",
          "text": [
            " 12%|█▏        | 3.601468624832619/30 [34:24<3:37:40, 494.74s/it]"
          ]
        },
        {
          "output_type": "stream",
          "name": "stdout",
          "text": [
            "Train Epoch: 4 [57600/84843 (68%)]\tLoss: 1.639625\n"
          ]
        },
        {
          "output_type": "stream",
          "name": "stderr",
          "text": [
            " 12%|█▏        | 3.6148197596790768/30 [34:32<4:07:48, 563.51s/it]"
          ]
        },
        {
          "output_type": "stream",
          "name": "stdout",
          "text": [
            "Train Epoch: 4 [58880/84843 (69%)]\tLoss: 1.670184\n"
          ]
        },
        {
          "output_type": "stream",
          "name": "stderr",
          "text": [
            " 12%|█▏        | 3.6281708945255344/30 [34:39<3:40:52, 502.54s/it]"
          ]
        },
        {
          "output_type": "stream",
          "name": "stdout",
          "text": [
            "Train Epoch: 4 [60160/84843 (71%)]\tLoss: 1.694163\n"
          ]
        },
        {
          "output_type": "stream",
          "name": "stderr",
          "text": [
            " 12%|█▏        | 3.641522029371992/30 [34:47<3:59:50, 545.95s/it]"
          ]
        },
        {
          "output_type": "stream",
          "name": "stdout",
          "text": [
            "Train Epoch: 4 [61440/84843 (72%)]\tLoss: 1.742738\n"
          ]
        },
        {
          "output_type": "stream",
          "name": "stderr",
          "text": [
            " 12%|█▏        | 3.6548731642184498/30 [34:54<3:37:31, 495.41s/it]"
          ]
        },
        {
          "output_type": "stream",
          "name": "stdout",
          "text": [
            "Train Epoch: 4 [62720/84843 (74%)]\tLoss: 1.855495\n"
          ]
        },
        {
          "output_type": "stream",
          "name": "stderr",
          "text": [
            " 12%|█▏        | 3.6682242990649074/30 [35:02<3:52:34, 529.94s/it]"
          ]
        },
        {
          "output_type": "stream",
          "name": "stdout",
          "text": [
            "Train Epoch: 4 [64000/84843 (75%)]\tLoss: 1.760144\n"
          ]
        },
        {
          "output_type": "stream",
          "name": "stderr",
          "text": [
            " 12%|█▏        | 3.681575433911365/30 [35:14<10:59:38, 1503.85s/it]"
          ]
        },
        {
          "output_type": "stream",
          "name": "stdout",
          "text": [
            "Train Epoch: 4 [65280/84843 (77%)]\tLoss: 2.133269\n"
          ]
        },
        {
          "output_type": "stream",
          "name": "stderr",
          "text": [
            " 12%|█▏        | 3.6949265687578228/30 [35:23<4:27:06, 609.24s/it]"
          ]
        },
        {
          "output_type": "stream",
          "name": "stdout",
          "text": [
            "Train Epoch: 4 [66560/84843 (78%)]\tLoss: 2.184740\n"
          ]
        },
        {
          "output_type": "stream",
          "name": "stderr",
          "text": [
            " 12%|█▏        | 3.7082777036042804/30 [35:33<5:43:00, 782.77s/it]"
          ]
        },
        {
          "output_type": "stream",
          "name": "stdout",
          "text": [
            "Train Epoch: 4 [67840/84843 (80%)]\tLoss: 1.559109\n"
          ]
        },
        {
          "output_type": "stream",
          "name": "stderr",
          "text": [
            " 12%|█▏        | 3.721628838450738/30 [35:41<4:30:06, 616.71s/it] "
          ]
        },
        {
          "output_type": "stream",
          "name": "stdout",
          "text": [
            "Train Epoch: 4 [69120/84843 (81%)]\tLoss: 1.839862\n"
          ]
        },
        {
          "output_type": "stream",
          "name": "stderr",
          "text": [
            " 12%|█▏        | 3.7349799732971958/30 [35:50<4:38:19, 635.79s/it]"
          ]
        },
        {
          "output_type": "stream",
          "name": "stdout",
          "text": [
            "Train Epoch: 4 [70400/84843 (83%)]\tLoss: 2.208824\n"
          ]
        },
        {
          "output_type": "stream",
          "name": "stderr",
          "text": [
            " 12%|█▏        | 3.7483311081436534/30 [35:59<5:56:06, 813.90s/it]"
          ]
        },
        {
          "output_type": "stream",
          "name": "stdout",
          "text": [
            "Train Epoch: 4 [71680/84843 (84%)]\tLoss: 2.318287\n"
          ]
        },
        {
          "output_type": "stream",
          "name": "stderr",
          "text": [
            " 13%|█▎        | 3.761682242990111/30 [36:08<4:32:58, 624.21s/it] "
          ]
        },
        {
          "output_type": "stream",
          "name": "stdout",
          "text": [
            "Train Epoch: 4 [72960/84843 (86%)]\tLoss: 2.001846\n"
          ]
        },
        {
          "output_type": "stream",
          "name": "stderr",
          "text": [
            " 13%|█▎        | 3.775033377836569/30 [36:17<4:45:30, 653.23s/it]"
          ]
        },
        {
          "output_type": "stream",
          "name": "stdout",
          "text": [
            "Train Epoch: 4 [74240/84843 (87%)]\tLoss: 1.923636\n"
          ]
        },
        {
          "output_type": "stream",
          "name": "stderr",
          "text": [
            " 13%|█▎        | 3.7883845126830265/30 [36:26<5:05:54, 700.24s/it]"
          ]
        },
        {
          "output_type": "stream",
          "name": "stdout",
          "text": [
            "Train Epoch: 4 [75520/84843 (89%)]\tLoss: 1.846174\n"
          ]
        },
        {
          "output_type": "stream",
          "name": "stderr",
          "text": [
            " 13%|█▎        | 3.801735647529484/30 [36:35<4:16:14, 586.85s/it] "
          ]
        },
        {
          "output_type": "stream",
          "name": "stdout",
          "text": [
            "Train Epoch: 4 [76800/84843 (90%)]\tLoss: 1.686892\n"
          ]
        },
        {
          "output_type": "stream",
          "name": "stderr",
          "text": [
            " 13%|█▎        | 3.815086782375942/30 [36:44<5:20:49, 735.13s/it]"
          ]
        },
        {
          "output_type": "stream",
          "name": "stdout",
          "text": [
            "Train Epoch: 4 [78080/84843 (92%)]\tLoss: 1.855608\n"
          ]
        },
        {
          "output_type": "stream",
          "name": "stderr",
          "text": [
            " 13%|█▎        | 3.8284379172223995/30 [36:52<4:19:10, 594.17s/it]"
          ]
        },
        {
          "output_type": "stream",
          "name": "stdout",
          "text": [
            "Train Epoch: 4 [79360/84843 (94%)]\tLoss: 1.769764\n"
          ]
        },
        {
          "output_type": "stream",
          "name": "stderr",
          "text": [
            " 13%|█▎        | 3.841789052068857/30 [37:01<4:22:06, 601.21s/it] "
          ]
        },
        {
          "output_type": "stream",
          "name": "stdout",
          "text": [
            "Train Epoch: 4 [80640/84843 (95%)]\tLoss: 1.793128\n"
          ]
        },
        {
          "output_type": "stream",
          "name": "stderr",
          "text": [
            " 13%|█▎        | 3.855140186915315/30 [37:10<5:54:12, 812.86s/it]"
          ]
        },
        {
          "output_type": "stream",
          "name": "stdout",
          "text": [
            "Train Epoch: 4 [81920/84843 (97%)]\tLoss: 1.893112\n"
          ]
        },
        {
          "output_type": "stream",
          "name": "stderr",
          "text": [
            " 13%|█▎        | 3.8684913217617725/30 [37:18<4:23:07, 604.15s/it]"
          ]
        },
        {
          "output_type": "stream",
          "name": "stdout",
          "text": [
            "Train Epoch: 4 [83200/84843 (98%)]\tLoss: 2.119685\n"
          ]
        },
        {
          "output_type": "stream",
          "name": "stderr",
          "text": [
            " 13%|█▎        | 3.88184245660823/30 [37:28<4:26:23, 611.98s/it]  "
          ]
        },
        {
          "output_type": "stream",
          "name": "stdout",
          "text": [
            "Train Epoch: 4 [84480/84843 (100%)]\tLoss: 1.713940\n"
          ]
        },
        {
          "output_type": "stream",
          "name": "stderr",
          "text": [
            " 13%|█▎        | 3.9999999999993805/30 [38:31<3:22:38, 467.65s/it]"
          ]
        },
        {
          "output_type": "stream",
          "name": "stdout",
          "text": [
            "\n",
            "Test Epoch: 4\tAccuracy: 5056/11005 (46%)\n",
            "\n"
          ]
        },
        {
          "output_type": "stream",
          "name": "stderr",
          "text": [
            "\r 13%|█▎        | 4.000667556741703/30 [38:31<3:32:42, 490.88s/it] "
          ]
        },
        {
          "output_type": "stream",
          "name": "stdout",
          "text": [
            "Train Epoch: 5 [0/84843 (0%)]\tLoss: 1.892369\n"
          ]
        },
        {
          "output_type": "stream",
          "name": "stderr",
          "text": [
            " 13%|█▎        | 4.01401869158817/30 [38:40<4:01:06, 556.71s/it] "
          ]
        },
        {
          "output_type": "stream",
          "name": "stdout",
          "text": [
            "Train Epoch: 5 [1280/84843 (2%)]\tLoss: 1.592674\n"
          ]
        },
        {
          "output_type": "stream",
          "name": "stderr",
          "text": [
            " 13%|█▎        | 4.0273698264346365/30 [38:47<3:47:34, 525.75s/it]"
          ]
        },
        {
          "output_type": "stream",
          "name": "stdout",
          "text": [
            "Train Epoch: 5 [2560/84843 (3%)]\tLoss: 1.802413\n"
          ]
        },
        {
          "output_type": "stream",
          "name": "stderr",
          "text": [
            " 13%|█▎        | 4.040720961281103/30 [38:55<3:52:18, 536.92s/it]"
          ]
        },
        {
          "output_type": "stream",
          "name": "stdout",
          "text": [
            "Train Epoch: 5 [3840/84843 (5%)]\tLoss: 1.892297\n"
          ]
        },
        {
          "output_type": "stream",
          "name": "stderr",
          "text": [
            " 14%|█▎        | 4.05407209612757/30 [39:03<4:18:11, 597.07s/it] "
          ]
        },
        {
          "output_type": "stream",
          "name": "stdout",
          "text": [
            "Train Epoch: 5 [5120/84843 (6%)]\tLoss: 1.498885\n"
          ]
        },
        {
          "output_type": "stream",
          "name": "stderr",
          "text": [
            " 14%|█▎        | 4.067423230974036/30 [39:11<3:54:50, 543.36s/it]"
          ]
        },
        {
          "output_type": "stream",
          "name": "stdout",
          "text": [
            "Train Epoch: 5 [6400/84843 (8%)]\tLoss: 1.715363\n"
          ]
        },
        {
          "output_type": "stream",
          "name": "stderr",
          "text": [
            " 14%|█▎        | 4.080774365820503/30 [39:19<5:09:53, 717.36s/it]"
          ]
        },
        {
          "output_type": "stream",
          "name": "stdout",
          "text": [
            "Train Epoch: 5 [7680/84843 (9%)]\tLoss: 1.966399\n"
          ]
        },
        {
          "output_type": "stream",
          "name": "stderr",
          "text": [
            " 14%|█▎        | 4.094125500666969/30 [39:26<3:43:01, 516.56s/it]"
          ]
        },
        {
          "output_type": "stream",
          "name": "stdout",
          "text": [
            "Train Epoch: 5 [8960/84843 (11%)]\tLoss: 1.761175\n"
          ]
        },
        {
          "output_type": "stream",
          "name": "stderr",
          "text": [
            " 14%|█▎        | 4.107476635513436/30 [39:35<5:31:20, 767.80s/it] "
          ]
        },
        {
          "output_type": "stream",
          "name": "stdout",
          "text": [
            "Train Epoch: 5 [10240/84843 (12%)]\tLoss: 1.517784\n"
          ]
        },
        {
          "output_type": "stream",
          "name": "stderr",
          "text": [
            " 14%|█▎        | 4.120827770359902/30 [39:42<3:51:02, 535.68s/it]"
          ]
        },
        {
          "output_type": "stream",
          "name": "stdout",
          "text": [
            "Train Epoch: 5 [11520/84843 (14%)]\tLoss: 2.050151\n"
          ]
        },
        {
          "output_type": "stream",
          "name": "stderr",
          "text": [
            " 14%|█▍        | 4.134178905206369/30 [39:50<4:39:37, 648.62s/it] "
          ]
        },
        {
          "output_type": "stream",
          "name": "stdout",
          "text": [
            "Train Epoch: 5 [12800/84843 (15%)]\tLoss: 1.727397\n"
          ]
        },
        {
          "output_type": "stream",
          "name": "stderr",
          "text": [
            " 14%|█▍        | 4.147530040052835/30 [39:57<3:50:46, 535.61s/it]"
          ]
        },
        {
          "output_type": "stream",
          "name": "stdout",
          "text": [
            "Train Epoch: 5 [14080/84843 (17%)]\tLoss: 1.638616\n"
          ]
        },
        {
          "output_type": "stream",
          "name": "stderr",
          "text": [
            " 14%|█▍        | 4.160881174899302/30 [40:05<4:00:05, 557.50s/it]"
          ]
        },
        {
          "output_type": "stream",
          "name": "stdout",
          "text": [
            "Train Epoch: 5 [15360/84843 (18%)]\tLoss: 2.087219\n"
          ]
        },
        {
          "output_type": "stream",
          "name": "stderr",
          "text": [
            " 14%|█▍        | 4.1742323097457685/30 [40:12<3:47:12, 527.88s/it]"
          ]
        },
        {
          "output_type": "stream",
          "name": "stdout",
          "text": [
            "Train Epoch: 5 [16640/84843 (20%)]\tLoss: 2.163702\n"
          ]
        },
        {
          "output_type": "stream",
          "name": "stderr",
          "text": [
            " 14%|█▍        | 4.187583444592235/30 [40:21<3:51:04, 537.14s/it]"
          ]
        },
        {
          "output_type": "stream",
          "name": "stdout",
          "text": [
            "Train Epoch: 5 [17920/84843 (21%)]\tLoss: 1.811275\n"
          ]
        },
        {
          "output_type": "stream",
          "name": "stderr",
          "text": [
            " 14%|█▍        | 4.200934579438702/30 [40:28<3:43:16, 519.28s/it]"
          ]
        },
        {
          "output_type": "stream",
          "name": "stdout",
          "text": [
            "Train Epoch: 5 [19200/84843 (23%)]\tLoss: 1.596114\n"
          ]
        },
        {
          "output_type": "stream",
          "name": "stderr",
          "text": [
            " 14%|█▍        | 4.214285714285168/30 [40:36<3:51:45, 539.26s/it]"
          ]
        },
        {
          "output_type": "stream",
          "name": "stdout",
          "text": [
            "Train Epoch: 5 [20480/84843 (24%)]\tLoss: 2.011497\n"
          ]
        },
        {
          "output_type": "stream",
          "name": "stderr",
          "text": [
            " 14%|█▍        | 4.227636849131635/30 [40:44<4:44:53, 663.27s/it]"
          ]
        },
        {
          "output_type": "stream",
          "name": "stdout",
          "text": [
            "Train Epoch: 5 [21760/84843 (26%)]\tLoss: 1.772570\n"
          ]
        },
        {
          "output_type": "stream",
          "name": "stderr",
          "text": [
            " 14%|█▍        | 4.240987983978101/30 [40:52<3:48:36, 532.51s/it]"
          ]
        },
        {
          "output_type": "stream",
          "name": "stdout",
          "text": [
            "Train Epoch: 5 [23040/84843 (27%)]\tLoss: 1.798849\n"
          ]
        },
        {
          "output_type": "stream",
          "name": "stderr",
          "text": [
            " 14%|█▍        | 4.254339118824568/30 [40:59<5:21:54, 750.22s/it] "
          ]
        },
        {
          "output_type": "stream",
          "name": "stdout",
          "text": [
            "Train Epoch: 5 [24320/84843 (29%)]\tLoss: 1.542855\n"
          ]
        },
        {
          "output_type": "stream",
          "name": "stderr",
          "text": [
            " 14%|█▍        | 4.267690253671034/30 [41:07<3:34:58, 501.24s/it]"
          ]
        },
        {
          "output_type": "stream",
          "name": "stdout",
          "text": [
            "Train Epoch: 5 [25600/84843 (30%)]\tLoss: 2.176392\n"
          ]
        },
        {
          "output_type": "stream",
          "name": "stderr",
          "text": [
            " 14%|█▍        | 4.281041388517501/30 [41:15<5:30:47, 771.72s/it]"
          ]
        },
        {
          "output_type": "stream",
          "name": "stdout",
          "text": [
            "Train Epoch: 5 [26880/84843 (32%)]\tLoss: 2.151268\n"
          ]
        },
        {
          "output_type": "stream",
          "name": "stderr",
          "text": [
            " 14%|█▍        | 4.2943925233639675/30 [41:22<3:46:07, 527.81s/it]"
          ]
        },
        {
          "output_type": "stream",
          "name": "stdout",
          "text": [
            "Train Epoch: 5 [28160/84843 (33%)]\tLoss: 1.932032\n"
          ]
        },
        {
          "output_type": "stream",
          "name": "stderr",
          "text": [
            " 14%|█▍        | 4.307743658210434/30 [41:31<4:22:35, 613.25s/it]"
          ]
        },
        {
          "output_type": "stream",
          "name": "stdout",
          "text": [
            "Train Epoch: 5 [29440/84843 (35%)]\tLoss: 1.676700\n"
          ]
        },
        {
          "output_type": "stream",
          "name": "stderr",
          "text": [
            " 14%|█▍        | 4.321094793056901/30 [41:38<3:50:59, 539.72s/it]"
          ]
        },
        {
          "output_type": "stream",
          "name": "stdout",
          "text": [
            "Train Epoch: 5 [30720/84843 (36%)]\tLoss: 1.950289\n"
          ]
        },
        {
          "output_type": "stream",
          "name": "stderr",
          "text": [
            " 14%|█▍        | 4.334445927903367/30 [41:46<3:50:41, 539.29s/it]"
          ]
        },
        {
          "output_type": "stream",
          "name": "stdout",
          "text": [
            "Train Epoch: 5 [32000/84843 (38%)]\tLoss: 1.761944\n"
          ]
        },
        {
          "output_type": "stream",
          "name": "stderr",
          "text": [
            " 14%|█▍        | 4.347797062749834/30 [41:53<3:41:29, 518.07s/it]"
          ]
        },
        {
          "output_type": "stream",
          "name": "stdout",
          "text": [
            "Train Epoch: 5 [33280/84843 (39%)]\tLoss: 1.787521\n"
          ]
        },
        {
          "output_type": "stream",
          "name": "stderr",
          "text": [
            " 15%|█▍        | 4.3611481975963/30 [42:01<3:53:16, 545.92s/it]  "
          ]
        },
        {
          "output_type": "stream",
          "name": "stdout",
          "text": [
            "Train Epoch: 5 [34560/84843 (41%)]\tLoss: 1.568909\n"
          ]
        },
        {
          "output_type": "stream",
          "name": "stderr",
          "text": [
            " 15%|█▍        | 4.374499332442767/30 [42:08<3:39:57, 515.03s/it] "
          ]
        },
        {
          "output_type": "stream",
          "name": "stdout",
          "text": [
            "Train Epoch: 5 [35840/84843 (42%)]\tLoss: 2.082858\n"
          ]
        },
        {
          "output_type": "stream",
          "name": "stderr",
          "text": [
            " 15%|█▍        | 4.387850467289233/30 [42:17<3:43:57, 524.66s/it]"
          ]
        },
        {
          "output_type": "stream",
          "name": "stdout",
          "text": [
            "Train Epoch: 5 [37120/84843 (44%)]\tLoss: 1.578168\n"
          ]
        },
        {
          "output_type": "stream",
          "name": "stderr",
          "text": [
            " 15%|█▍        | 4.4012016021357/30 [42:24<4:54:33, 690.39s/it]  "
          ]
        },
        {
          "output_type": "stream",
          "name": "stdout",
          "text": [
            "Train Epoch: 5 [38400/84843 (45%)]\tLoss: 1.940231\n"
          ]
        },
        {
          "output_type": "stream",
          "name": "stderr",
          "text": [
            " 15%|█▍        | 4.414552736982166/30 [42:32<3:32:49, 499.10s/it]"
          ]
        },
        {
          "output_type": "stream",
          "name": "stdout",
          "text": [
            "Train Epoch: 5 [39680/84843 (47%)]\tLoss: 1.920455\n"
          ]
        },
        {
          "output_type": "stream",
          "name": "stderr",
          "text": [
            " 15%|█▍        | 4.427903871828633/30 [42:40<5:16:00, 741.44s/it]"
          ]
        },
        {
          "output_type": "stream",
          "name": "stdout",
          "text": [
            "Train Epoch: 5 [40960/84843 (48%)]\tLoss: 2.105958\n"
          ]
        },
        {
          "output_type": "stream",
          "name": "stderr",
          "text": [
            " 15%|█▍        | 4.4412550066750995/30 [42:47<3:44:40, 527.43s/it]"
          ]
        },
        {
          "output_type": "stream",
          "name": "stdout",
          "text": [
            "Train Epoch: 5 [42240/84843 (50%)]\tLoss: 1.863331\n"
          ]
        },
        {
          "output_type": "stream",
          "name": "stderr",
          "text": [
            " 15%|█▍        | 4.454606141521566/30 [42:56<5:27:58, 770.32s/it]"
          ]
        },
        {
          "output_type": "stream",
          "name": "stdout",
          "text": [
            "Train Epoch: 5 [43520/84843 (51%)]\tLoss: 1.780824\n"
          ]
        },
        {
          "output_type": "stream",
          "name": "stderr",
          "text": [
            " 15%|█▍        | 4.467957276368033/30 [43:03<3:41:25, 520.34s/it]"
          ]
        },
        {
          "output_type": "stream",
          "name": "stdout",
          "text": [
            "Train Epoch: 5 [44800/84843 (53%)]\tLoss: 1.784069\n"
          ]
        },
        {
          "output_type": "stream",
          "name": "stderr",
          "text": [
            " 15%|█▍        | 4.481308411214499/30 [43:11<4:25:02, 623.17s/it]"
          ]
        },
        {
          "output_type": "stream",
          "name": "stdout",
          "text": [
            "Train Epoch: 5 [46080/84843 (54%)]\tLoss: 1.756247\n"
          ]
        },
        {
          "output_type": "stream",
          "name": "stderr",
          "text": [
            " 15%|█▍        | 4.494659546060966/30 [43:18<3:40:27, 518.63s/it]"
          ]
        },
        {
          "output_type": "stream",
          "name": "stdout",
          "text": [
            "Train Epoch: 5 [47360/84843 (56%)]\tLoss: 1.768100\n"
          ]
        },
        {
          "output_type": "stream",
          "name": "stderr",
          "text": [
            " 15%|█▌        | 4.508010680907432/30 [43:26<3:58:25, 561.19s/it]"
          ]
        },
        {
          "output_type": "stream",
          "name": "stdout",
          "text": [
            "Train Epoch: 5 [48640/84843 (57%)]\tLoss: 2.056169\n"
          ]
        },
        {
          "output_type": "stream",
          "name": "stderr",
          "text": [
            " 15%|█▌        | 4.521361815753899/30 [43:33<3:38:16, 514.03s/it] "
          ]
        },
        {
          "output_type": "stream",
          "name": "stdout",
          "text": [
            "Train Epoch: 5 [49920/84843 (59%)]\tLoss: 1.938264\n"
          ]
        },
        {
          "output_type": "stream",
          "name": "stderr",
          "text": [
            " 15%|█▌        | 4.534712950600365/30 [43:42<3:41:20, 521.50s/it]"
          ]
        },
        {
          "output_type": "stream",
          "name": "stdout",
          "text": [
            "Train Epoch: 5 [51200/84843 (60%)]\tLoss: 1.825534\n"
          ]
        },
        {
          "output_type": "stream",
          "name": "stderr",
          "text": [
            " 15%|█▌        | 4.548064085446832/30 [43:49<3:39:44, 518.01s/it]"
          ]
        },
        {
          "output_type": "stream",
          "name": "stdout",
          "text": [
            "Train Epoch: 5 [52480/84843 (62%)]\tLoss: 1.801857\n"
          ]
        },
        {
          "output_type": "stream",
          "name": "stderr",
          "text": [
            " 15%|█▌        | 4.5614152202932985/30 [43:57<3:43:04, 526.14s/it]"
          ]
        },
        {
          "output_type": "stream",
          "name": "stdout",
          "text": [
            "Train Epoch: 5 [53760/84843 (63%)]\tLoss: 1.941182\n"
          ]
        },
        {
          "output_type": "stream",
          "name": "stderr",
          "text": [
            " 15%|█▌        | 4.574766355139765/30 [44:04<4:21:16, 616.57s/it]"
          ]
        },
        {
          "output_type": "stream",
          "name": "stdout",
          "text": [
            "Train Epoch: 5 [55040/84843 (65%)]\tLoss: 1.907224\n"
          ]
        },
        {
          "output_type": "stream",
          "name": "stderr",
          "text": [
            " 15%|█▌        | 4.588117489986232/30 [44:12<3:38:33, 516.02s/it]"
          ]
        },
        {
          "output_type": "stream",
          "name": "stdout",
          "text": [
            "Train Epoch: 5 [56320/84843 (66%)]\tLoss: 1.366378\n"
          ]
        },
        {
          "output_type": "stream",
          "name": "stderr",
          "text": [
            " 15%|█▌        | 4.601468624832698/30 [44:20<5:13:55, 741.58s/it]"
          ]
        },
        {
          "output_type": "stream",
          "name": "stdout",
          "text": [
            "Train Epoch: 5 [57600/84843 (68%)]\tLoss: 1.902420\n"
          ]
        },
        {
          "output_type": "stream",
          "name": "stderr",
          "text": [
            " 15%|█▌        | 4.614819759679165/30 [44:27<3:33:54, 505.59s/it]"
          ]
        },
        {
          "output_type": "stream",
          "name": "stdout",
          "text": [
            "Train Epoch: 5 [58880/84843 (69%)]\tLoss: 1.813595\n"
          ]
        },
        {
          "output_type": "stream",
          "name": "stderr",
          "text": [
            " 15%|█▌        | 4.628170894525631/30 [44:36<5:16:05, 747.49s/it]"
          ]
        },
        {
          "output_type": "stream",
          "name": "stdout",
          "text": [
            "Train Epoch: 5 [60160/84843 (71%)]\tLoss: 1.897803\n"
          ]
        },
        {
          "output_type": "stream",
          "name": "stderr",
          "text": [
            " 15%|█▌        | 4.641522029372098/30 [44:43<3:38:28, 516.94s/it] "
          ]
        },
        {
          "output_type": "stream",
          "name": "stdout",
          "text": [
            "Train Epoch: 5 [61440/84843 (72%)]\tLoss: 1.725058\n"
          ]
        },
        {
          "output_type": "stream",
          "name": "stderr",
          "text": [
            " 16%|█▌        | 4.654873164218564/30 [44:51<4:37:09, 656.10s/it]"
          ]
        },
        {
          "output_type": "stream",
          "name": "stdout",
          "text": [
            "Train Epoch: 5 [62720/84843 (74%)]\tLoss: 1.833224\n"
          ]
        },
        {
          "output_type": "stream",
          "name": "stderr",
          "text": [
            " 16%|█▌        | 4.668224299065031/30 [44:58<3:35:48, 511.17s/it]"
          ]
        },
        {
          "output_type": "stream",
          "name": "stdout",
          "text": [
            "Train Epoch: 5 [64000/84843 (75%)]\tLoss: 1.478018\n"
          ]
        },
        {
          "output_type": "stream",
          "name": "stderr",
          "text": [
            " 16%|█▌        | 4.681575433911497/30 [45:06<4:04:24, 579.19s/it]"
          ]
        },
        {
          "output_type": "stream",
          "name": "stdout",
          "text": [
            "Train Epoch: 5 [65280/84843 (77%)]\tLoss: 1.949599\n"
          ]
        },
        {
          "output_type": "stream",
          "name": "stderr",
          "text": [
            " 16%|█▌        | 4.694926568757964/30 [45:13<3:32:33, 503.99s/it]"
          ]
        },
        {
          "output_type": "stream",
          "name": "stdout",
          "text": [
            "Train Epoch: 5 [66560/84843 (78%)]\tLoss: 1.933620\n"
          ]
        },
        {
          "output_type": "stream",
          "name": "stderr",
          "text": [
            " 16%|█▌        | 4.7082777036044305/30 [45:27<6:17:52, 896.44s/it]"
          ]
        },
        {
          "output_type": "stream",
          "name": "stdout",
          "text": [
            "Train Epoch: 5 [67840/84843 (80%)]\tLoss: 1.610592\n"
          ]
        },
        {
          "output_type": "stream",
          "name": "stderr",
          "text": [
            " 16%|█▌        | 4.721628838450897/30 [45:35<5:34:15, 793.38s/it]"
          ]
        },
        {
          "output_type": "stream",
          "name": "stdout",
          "text": [
            "Train Epoch: 5 [69120/84843 (81%)]\tLoss: 1.702435\n"
          ]
        },
        {
          "output_type": "stream",
          "name": "stderr",
          "text": [
            " 16%|█▌        | 4.734979973297364/30 [45:44<4:11:34, 597.46s/it]"
          ]
        },
        {
          "output_type": "stream",
          "name": "stdout",
          "text": [
            "Train Epoch: 5 [70400/84843 (83%)]\tLoss: 1.763999\n"
          ]
        },
        {
          "output_type": "stream",
          "name": "stderr",
          "text": [
            " 16%|█▌        | 4.74833110814383/30 [45:53<4:21:28, 621.27s/it] "
          ]
        },
        {
          "output_type": "stream",
          "name": "stdout",
          "text": [
            "Train Epoch: 5 [71680/84843 (84%)]\tLoss: 1.651305\n"
          ]
        },
        {
          "output_type": "stream",
          "name": "stderr",
          "text": [
            " 16%|█▌        | 4.761682242990297/30 [46:01<4:06:29, 585.98s/it]"
          ]
        },
        {
          "output_type": "stream",
          "name": "stdout",
          "text": [
            "Train Epoch: 5 [72960/84843 (86%)]\tLoss: 2.029870\n"
          ]
        },
        {
          "output_type": "stream",
          "name": "stderr",
          "text": [
            " 16%|█▌        | 4.775033377836763/30 [46:10<3:58:14, 566.69s/it]"
          ]
        },
        {
          "output_type": "stream",
          "name": "stdout",
          "text": [
            "Train Epoch: 5 [74240/84843 (87%)]\tLoss: 2.010059\n"
          ]
        },
        {
          "output_type": "stream",
          "name": "stderr",
          "text": [
            " 16%|█▌        | 4.78838451268323/30 [46:20<5:28:56, 782.82s/it]  "
          ]
        },
        {
          "output_type": "stream",
          "name": "stdout",
          "text": [
            "Train Epoch: 5 [75520/84843 (89%)]\tLoss: 1.735420\n"
          ]
        },
        {
          "output_type": "stream",
          "name": "stderr",
          "text": [
            " 16%|█▌        | 4.7937249666218165/30 [46:23<4:03:54, 580.59s/it]\n"
          ]
        },
        {
          "output_type": "error",
          "ename": "KeyboardInterrupt",
          "evalue": "",
          "traceback": [
            "\u001b[0;31m---------------------------------------------------------------------------\u001b[0m",
            "\u001b[0;31mKeyboardInterrupt\u001b[0m                         Traceback (most recent call last)",
            "\u001b[0;32m<ipython-input-21-96e038784957>\u001b[0m in \u001b[0;36m<cell line: 9>\u001b[0;34m()\u001b[0m\n\u001b[1;32m      9\u001b[0m \u001b[0;32mwith\u001b[0m \u001b[0mtqdm\u001b[0m\u001b[0;34m(\u001b[0m\u001b[0mtotal\u001b[0m\u001b[0;34m=\u001b[0m\u001b[0mn_epoch\u001b[0m\u001b[0;34m)\u001b[0m \u001b[0;32mas\u001b[0m \u001b[0mpbar\u001b[0m\u001b[0;34m:\u001b[0m\u001b[0;34m\u001b[0m\u001b[0;34m\u001b[0m\u001b[0m\n\u001b[1;32m     10\u001b[0m     \u001b[0;32mfor\u001b[0m \u001b[0mepoch\u001b[0m \u001b[0;32min\u001b[0m \u001b[0mrange\u001b[0m\u001b[0;34m(\u001b[0m\u001b[0;36m1\u001b[0m\u001b[0;34m,\u001b[0m \u001b[0mn_epoch\u001b[0m \u001b[0;34m+\u001b[0m \u001b[0;36m1\u001b[0m\u001b[0;34m)\u001b[0m\u001b[0;34m:\u001b[0m\u001b[0;34m\u001b[0m\u001b[0;34m\u001b[0m\u001b[0m\n\u001b[0;32m---> 11\u001b[0;31m         \u001b[0msc_train\u001b[0m\u001b[0;34m(\u001b[0m\u001b[0mmodel\u001b[0m\u001b[0;34m,\u001b[0m \u001b[0mepoch\u001b[0m\u001b[0;34m,\u001b[0m \u001b[0mlog_interval\u001b[0m\u001b[0;34m)\u001b[0m\u001b[0;34m\u001b[0m\u001b[0;34m\u001b[0m\u001b[0m\n\u001b[0m\u001b[1;32m     12\u001b[0m         \u001b[0msc_test\u001b[0m\u001b[0;34m(\u001b[0m\u001b[0mmodel\u001b[0m\u001b[0;34m,\u001b[0m \u001b[0mepoch\u001b[0m\u001b[0;34m)\u001b[0m\u001b[0;34m\u001b[0m\u001b[0;34m\u001b[0m\u001b[0m\n\u001b[1;32m     13\u001b[0m         \u001b[0mscheduler\u001b[0m\u001b[0;34m.\u001b[0m\u001b[0mstep\u001b[0m\u001b[0;34m(\u001b[0m\u001b[0;34m)\u001b[0m\u001b[0;34m\u001b[0m\u001b[0;34m\u001b[0m\u001b[0m\n",
            "\u001b[0;32m<ipython-input-19-08f361484ade>\u001b[0m in \u001b[0;36msc_train\u001b[0;34m(model, epoch, log_interval)\u001b[0m\n\u001b[1;32m      1\u001b[0m \u001b[0;32mdef\u001b[0m \u001b[0msc_train\u001b[0m\u001b[0;34m(\u001b[0m\u001b[0mmodel\u001b[0m\u001b[0;34m,\u001b[0m \u001b[0mepoch\u001b[0m\u001b[0;34m,\u001b[0m \u001b[0mlog_interval\u001b[0m\u001b[0;34m)\u001b[0m\u001b[0;34m:\u001b[0m\u001b[0;34m\u001b[0m\u001b[0;34m\u001b[0m\u001b[0m\n\u001b[1;32m      2\u001b[0m     \u001b[0mmodel\u001b[0m\u001b[0;34m.\u001b[0m\u001b[0mtrain\u001b[0m\u001b[0;34m(\u001b[0m\u001b[0;34m)\u001b[0m\u001b[0;34m\u001b[0m\u001b[0;34m\u001b[0m\u001b[0m\n\u001b[0;32m----> 3\u001b[0;31m     \u001b[0;32mfor\u001b[0m \u001b[0mbatch_idx\u001b[0m\u001b[0;34m,\u001b[0m \u001b[0;34m(\u001b[0m\u001b[0mdata\u001b[0m\u001b[0;34m,\u001b[0m \u001b[0mtarget\u001b[0m\u001b[0;34m)\u001b[0m \u001b[0;32min\u001b[0m \u001b[0menumerate\u001b[0m\u001b[0;34m(\u001b[0m\u001b[0msc_train_loader\u001b[0m\u001b[0;34m)\u001b[0m\u001b[0;34m:\u001b[0m\u001b[0;34m\u001b[0m\u001b[0;34m\u001b[0m\u001b[0m\n\u001b[0m\u001b[1;32m      4\u001b[0m \u001b[0;34m\u001b[0m\u001b[0m\n\u001b[1;32m      5\u001b[0m         \u001b[0mdata\u001b[0m \u001b[0;34m=\u001b[0m \u001b[0mdata\u001b[0m\u001b[0;34m.\u001b[0m\u001b[0mto\u001b[0m\u001b[0;34m(\u001b[0m\u001b[0mdevice\u001b[0m\u001b[0;34m)\u001b[0m\u001b[0;34m\u001b[0m\u001b[0;34m\u001b[0m\u001b[0m\n",
            "\u001b[0;32m/usr/local/lib/python3.10/dist-packages/torch/utils/data/dataloader.py\u001b[0m in \u001b[0;36m__next__\u001b[0;34m(self)\u001b[0m\n\u001b[1;32m    629\u001b[0m                 \u001b[0;31m# TODO(https://github.com/pytorch/pytorch/issues/76750)\u001b[0m\u001b[0;34m\u001b[0m\u001b[0;34m\u001b[0m\u001b[0m\n\u001b[1;32m    630\u001b[0m                 \u001b[0mself\u001b[0m\u001b[0;34m.\u001b[0m\u001b[0m_reset\u001b[0m\u001b[0;34m(\u001b[0m\u001b[0;34m)\u001b[0m  \u001b[0;31m# type: ignore[call-arg]\u001b[0m\u001b[0;34m\u001b[0m\u001b[0;34m\u001b[0m\u001b[0m\n\u001b[0;32m--> 631\u001b[0;31m             \u001b[0mdata\u001b[0m \u001b[0;34m=\u001b[0m \u001b[0mself\u001b[0m\u001b[0;34m.\u001b[0m\u001b[0m_next_data\u001b[0m\u001b[0;34m(\u001b[0m\u001b[0;34m)\u001b[0m\u001b[0;34m\u001b[0m\u001b[0;34m\u001b[0m\u001b[0m\n\u001b[0m\u001b[1;32m    632\u001b[0m             \u001b[0mself\u001b[0m\u001b[0;34m.\u001b[0m\u001b[0m_num_yielded\u001b[0m \u001b[0;34m+=\u001b[0m \u001b[0;36m1\u001b[0m\u001b[0;34m\u001b[0m\u001b[0;34m\u001b[0m\u001b[0m\n\u001b[1;32m    633\u001b[0m             \u001b[0;32mif\u001b[0m \u001b[0mself\u001b[0m\u001b[0;34m.\u001b[0m\u001b[0m_dataset_kind\u001b[0m \u001b[0;34m==\u001b[0m \u001b[0m_DatasetKind\u001b[0m\u001b[0;34m.\u001b[0m\u001b[0mIterable\u001b[0m \u001b[0;32mand\u001b[0m\u001b[0;31m \u001b[0m\u001b[0;31m\\\u001b[0m\u001b[0;34m\u001b[0m\u001b[0;34m\u001b[0m\u001b[0m\n",
            "\u001b[0;32m/usr/local/lib/python3.10/dist-packages/torch/utils/data/dataloader.py\u001b[0m in \u001b[0;36m_next_data\u001b[0;34m(self)\u001b[0m\n\u001b[1;32m    673\u001b[0m     \u001b[0;32mdef\u001b[0m \u001b[0m_next_data\u001b[0m\u001b[0;34m(\u001b[0m\u001b[0mself\u001b[0m\u001b[0;34m)\u001b[0m\u001b[0;34m:\u001b[0m\u001b[0;34m\u001b[0m\u001b[0;34m\u001b[0m\u001b[0m\n\u001b[1;32m    674\u001b[0m         \u001b[0mindex\u001b[0m \u001b[0;34m=\u001b[0m \u001b[0mself\u001b[0m\u001b[0;34m.\u001b[0m\u001b[0m_next_index\u001b[0m\u001b[0;34m(\u001b[0m\u001b[0;34m)\u001b[0m  \u001b[0;31m# may raise StopIteration\u001b[0m\u001b[0;34m\u001b[0m\u001b[0;34m\u001b[0m\u001b[0m\n\u001b[0;32m--> 675\u001b[0;31m         \u001b[0mdata\u001b[0m \u001b[0;34m=\u001b[0m \u001b[0mself\u001b[0m\u001b[0;34m.\u001b[0m\u001b[0m_dataset_fetcher\u001b[0m\u001b[0;34m.\u001b[0m\u001b[0mfetch\u001b[0m\u001b[0;34m(\u001b[0m\u001b[0mindex\u001b[0m\u001b[0;34m)\u001b[0m  \u001b[0;31m# may raise StopIteration\u001b[0m\u001b[0;34m\u001b[0m\u001b[0;34m\u001b[0m\u001b[0m\n\u001b[0m\u001b[1;32m    676\u001b[0m         \u001b[0;32mif\u001b[0m \u001b[0mself\u001b[0m\u001b[0;34m.\u001b[0m\u001b[0m_pin_memory\u001b[0m\u001b[0;34m:\u001b[0m\u001b[0;34m\u001b[0m\u001b[0;34m\u001b[0m\u001b[0m\n\u001b[1;32m    677\u001b[0m             \u001b[0mdata\u001b[0m \u001b[0;34m=\u001b[0m \u001b[0m_utils\u001b[0m\u001b[0;34m.\u001b[0m\u001b[0mpin_memory\u001b[0m\u001b[0;34m.\u001b[0m\u001b[0mpin_memory\u001b[0m\u001b[0;34m(\u001b[0m\u001b[0mdata\u001b[0m\u001b[0;34m,\u001b[0m \u001b[0mself\u001b[0m\u001b[0;34m.\u001b[0m\u001b[0m_pin_memory_device\u001b[0m\u001b[0;34m)\u001b[0m\u001b[0;34m\u001b[0m\u001b[0;34m\u001b[0m\u001b[0m\n",
            "\u001b[0;32m/usr/local/lib/python3.10/dist-packages/torch/utils/data/_utils/fetch.py\u001b[0m in \u001b[0;36mfetch\u001b[0;34m(self, possibly_batched_index)\u001b[0m\n\u001b[1;32m     49\u001b[0m                 \u001b[0mdata\u001b[0m \u001b[0;34m=\u001b[0m \u001b[0mself\u001b[0m\u001b[0;34m.\u001b[0m\u001b[0mdataset\u001b[0m\u001b[0;34m.\u001b[0m\u001b[0m__getitems__\u001b[0m\u001b[0;34m(\u001b[0m\u001b[0mpossibly_batched_index\u001b[0m\u001b[0;34m)\u001b[0m\u001b[0;34m\u001b[0m\u001b[0;34m\u001b[0m\u001b[0m\n\u001b[1;32m     50\u001b[0m             \u001b[0;32melse\u001b[0m\u001b[0;34m:\u001b[0m\u001b[0;34m\u001b[0m\u001b[0;34m\u001b[0m\u001b[0m\n\u001b[0;32m---> 51\u001b[0;31m                 \u001b[0mdata\u001b[0m \u001b[0;34m=\u001b[0m \u001b[0;34m[\u001b[0m\u001b[0mself\u001b[0m\u001b[0;34m.\u001b[0m\u001b[0mdataset\u001b[0m\u001b[0;34m[\u001b[0m\u001b[0midx\u001b[0m\u001b[0;34m]\u001b[0m \u001b[0;32mfor\u001b[0m \u001b[0midx\u001b[0m \u001b[0;32min\u001b[0m \u001b[0mpossibly_batched_index\u001b[0m\u001b[0;34m]\u001b[0m\u001b[0;34m\u001b[0m\u001b[0;34m\u001b[0m\u001b[0m\n\u001b[0m\u001b[1;32m     52\u001b[0m         \u001b[0;32melse\u001b[0m\u001b[0;34m:\u001b[0m\u001b[0;34m\u001b[0m\u001b[0;34m\u001b[0m\u001b[0m\n\u001b[1;32m     53\u001b[0m             \u001b[0mdata\u001b[0m \u001b[0;34m=\u001b[0m \u001b[0mself\u001b[0m\u001b[0;34m.\u001b[0m\u001b[0mdataset\u001b[0m\u001b[0;34m[\u001b[0m\u001b[0mpossibly_batched_index\u001b[0m\u001b[0;34m]\u001b[0m\u001b[0;34m\u001b[0m\u001b[0;34m\u001b[0m\u001b[0m\n",
            "\u001b[0;32m/usr/local/lib/python3.10/dist-packages/torch/utils/data/_utils/fetch.py\u001b[0m in \u001b[0;36m<listcomp>\u001b[0;34m(.0)\u001b[0m\n\u001b[1;32m     49\u001b[0m                 \u001b[0mdata\u001b[0m \u001b[0;34m=\u001b[0m \u001b[0mself\u001b[0m\u001b[0;34m.\u001b[0m\u001b[0mdataset\u001b[0m\u001b[0;34m.\u001b[0m\u001b[0m__getitems__\u001b[0m\u001b[0;34m(\u001b[0m\u001b[0mpossibly_batched_index\u001b[0m\u001b[0;34m)\u001b[0m\u001b[0;34m\u001b[0m\u001b[0;34m\u001b[0m\u001b[0m\n\u001b[1;32m     50\u001b[0m             \u001b[0;32melse\u001b[0m\u001b[0;34m:\u001b[0m\u001b[0;34m\u001b[0m\u001b[0;34m\u001b[0m\u001b[0m\n\u001b[0;32m---> 51\u001b[0;31m                 \u001b[0mdata\u001b[0m \u001b[0;34m=\u001b[0m \u001b[0;34m[\u001b[0m\u001b[0mself\u001b[0m\u001b[0;34m.\u001b[0m\u001b[0mdataset\u001b[0m\u001b[0;34m[\u001b[0m\u001b[0midx\u001b[0m\u001b[0;34m]\u001b[0m \u001b[0;32mfor\u001b[0m \u001b[0midx\u001b[0m \u001b[0;32min\u001b[0m \u001b[0mpossibly_batched_index\u001b[0m\u001b[0;34m]\u001b[0m\u001b[0;34m\u001b[0m\u001b[0;34m\u001b[0m\u001b[0m\n\u001b[0m\u001b[1;32m     52\u001b[0m         \u001b[0;32melse\u001b[0m\u001b[0;34m:\u001b[0m\u001b[0;34m\u001b[0m\u001b[0;34m\u001b[0m\u001b[0m\n\u001b[1;32m     53\u001b[0m             \u001b[0mdata\u001b[0m \u001b[0;34m=\u001b[0m \u001b[0mself\u001b[0m\u001b[0;34m.\u001b[0m\u001b[0mdataset\u001b[0m\u001b[0;34m[\u001b[0m\u001b[0mpossibly_batched_index\u001b[0m\u001b[0;34m]\u001b[0m\u001b[0;34m\u001b[0m\u001b[0;34m\u001b[0m\u001b[0m\n",
            "\u001b[0;32m/usr/local/lib/python3.10/dist-packages/torchaudio/datasets/speechcommands.py\u001b[0m in \u001b[0;36m__getitem__\u001b[0;34m(self, n)\u001b[0m\n\u001b[1;32m    177\u001b[0m         \"\"\"\n\u001b[1;32m    178\u001b[0m         \u001b[0mmetadata\u001b[0m \u001b[0;34m=\u001b[0m \u001b[0mself\u001b[0m\u001b[0;34m.\u001b[0m\u001b[0mget_metadata\u001b[0m\u001b[0;34m(\u001b[0m\u001b[0mn\u001b[0m\u001b[0;34m)\u001b[0m\u001b[0;34m\u001b[0m\u001b[0;34m\u001b[0m\u001b[0m\n\u001b[0;32m--> 179\u001b[0;31m         \u001b[0mwaveform\u001b[0m \u001b[0;34m=\u001b[0m \u001b[0m_load_waveform\u001b[0m\u001b[0;34m(\u001b[0m\u001b[0mself\u001b[0m\u001b[0;34m.\u001b[0m\u001b[0m_archive\u001b[0m\u001b[0;34m,\u001b[0m \u001b[0mmetadata\u001b[0m\u001b[0;34m[\u001b[0m\u001b[0;36m0\u001b[0m\u001b[0;34m]\u001b[0m\u001b[0;34m,\u001b[0m \u001b[0mmetadata\u001b[0m\u001b[0;34m[\u001b[0m\u001b[0;36m1\u001b[0m\u001b[0;34m]\u001b[0m\u001b[0;34m)\u001b[0m\u001b[0;34m\u001b[0m\u001b[0;34m\u001b[0m\u001b[0m\n\u001b[0m\u001b[1;32m    180\u001b[0m         \u001b[0;32mreturn\u001b[0m \u001b[0;34m(\u001b[0m\u001b[0mwaveform\u001b[0m\u001b[0;34m,\u001b[0m\u001b[0;34m)\u001b[0m \u001b[0;34m+\u001b[0m \u001b[0mmetadata\u001b[0m\u001b[0;34m[\u001b[0m\u001b[0;36m1\u001b[0m\u001b[0;34m:\u001b[0m\u001b[0;34m]\u001b[0m\u001b[0;34m\u001b[0m\u001b[0;34m\u001b[0m\u001b[0m\n\u001b[1;32m    181\u001b[0m \u001b[0;34m\u001b[0m\u001b[0m\n",
            "\u001b[0;32m/usr/local/lib/python3.10/dist-packages/torchaudio/datasets/utils.py\u001b[0m in \u001b[0;36m_load_waveform\u001b[0;34m(root, filename, exp_sample_rate)\u001b[0m\n\u001b[1;32m     49\u001b[0m ):\n\u001b[1;32m     50\u001b[0m     \u001b[0mpath\u001b[0m \u001b[0;34m=\u001b[0m \u001b[0mos\u001b[0m\u001b[0;34m.\u001b[0m\u001b[0mpath\u001b[0m\u001b[0;34m.\u001b[0m\u001b[0mjoin\u001b[0m\u001b[0;34m(\u001b[0m\u001b[0mroot\u001b[0m\u001b[0;34m,\u001b[0m \u001b[0mfilename\u001b[0m\u001b[0;34m)\u001b[0m\u001b[0;34m\u001b[0m\u001b[0;34m\u001b[0m\u001b[0m\n\u001b[0;32m---> 51\u001b[0;31m     \u001b[0mwaveform\u001b[0m\u001b[0;34m,\u001b[0m \u001b[0msample_rate\u001b[0m \u001b[0;34m=\u001b[0m \u001b[0mtorchaudio\u001b[0m\u001b[0;34m.\u001b[0m\u001b[0mload\u001b[0m\u001b[0;34m(\u001b[0m\u001b[0mpath\u001b[0m\u001b[0;34m)\u001b[0m\u001b[0;34m\u001b[0m\u001b[0;34m\u001b[0m\u001b[0m\n\u001b[0m\u001b[1;32m     52\u001b[0m     \u001b[0;32mif\u001b[0m \u001b[0mexp_sample_rate\u001b[0m \u001b[0;34m!=\u001b[0m \u001b[0msample_rate\u001b[0m\u001b[0;34m:\u001b[0m\u001b[0;34m\u001b[0m\u001b[0;34m\u001b[0m\u001b[0m\n\u001b[1;32m     53\u001b[0m         \u001b[0;32mraise\u001b[0m \u001b[0mValueError\u001b[0m\u001b[0;34m(\u001b[0m\u001b[0;34mf\"sample rate should be {exp_sample_rate}, but got {sample_rate}\"\u001b[0m\u001b[0;34m)\u001b[0m\u001b[0;34m\u001b[0m\u001b[0;34m\u001b[0m\u001b[0m\n",
            "\u001b[0;32m/usr/local/lib/python3.10/dist-packages/torchaudio/_backend/utils.py\u001b[0m in \u001b[0;36mload\u001b[0;34m(uri, frame_offset, num_frames, normalize, channels_first, format, buffer_size, backend)\u001b[0m\n\u001b[1;32m    203\u001b[0m         \"\"\"\n\u001b[1;32m    204\u001b[0m         \u001b[0mbackend\u001b[0m \u001b[0;34m=\u001b[0m \u001b[0mdispatcher\u001b[0m\u001b[0;34m(\u001b[0m\u001b[0muri\u001b[0m\u001b[0;34m,\u001b[0m \u001b[0mformat\u001b[0m\u001b[0;34m,\u001b[0m \u001b[0mbackend\u001b[0m\u001b[0;34m)\u001b[0m\u001b[0;34m\u001b[0m\u001b[0;34m\u001b[0m\u001b[0m\n\u001b[0;32m--> 205\u001b[0;31m         \u001b[0;32mreturn\u001b[0m \u001b[0mbackend\u001b[0m\u001b[0;34m.\u001b[0m\u001b[0mload\u001b[0m\u001b[0;34m(\u001b[0m\u001b[0muri\u001b[0m\u001b[0;34m,\u001b[0m \u001b[0mframe_offset\u001b[0m\u001b[0;34m,\u001b[0m \u001b[0mnum_frames\u001b[0m\u001b[0;34m,\u001b[0m \u001b[0mnormalize\u001b[0m\u001b[0;34m,\u001b[0m \u001b[0mchannels_first\u001b[0m\u001b[0;34m,\u001b[0m \u001b[0mformat\u001b[0m\u001b[0;34m,\u001b[0m \u001b[0mbuffer_size\u001b[0m\u001b[0;34m)\u001b[0m\u001b[0;34m\u001b[0m\u001b[0;34m\u001b[0m\u001b[0m\n\u001b[0m\u001b[1;32m    206\u001b[0m \u001b[0;34m\u001b[0m\u001b[0m\n\u001b[1;32m    207\u001b[0m     \u001b[0;32mreturn\u001b[0m \u001b[0mload\u001b[0m\u001b[0;34m\u001b[0m\u001b[0;34m\u001b[0m\u001b[0m\n",
            "\u001b[0;32m/usr/local/lib/python3.10/dist-packages/torchaudio/_backend/ffmpeg.py\u001b[0m in \u001b[0;36mload\u001b[0;34m(uri, frame_offset, num_frames, normalize, channels_first, format, buffer_size)\u001b[0m\n\u001b[1;32m    295\u001b[0m         \u001b[0mbuffer_size\u001b[0m\u001b[0;34m:\u001b[0m \u001b[0mint\u001b[0m \u001b[0;34m=\u001b[0m \u001b[0;36m4096\u001b[0m\u001b[0;34m,\u001b[0m\u001b[0;34m\u001b[0m\u001b[0;34m\u001b[0m\u001b[0m\n\u001b[1;32m    296\u001b[0m     ) -> Tuple[torch.Tensor, int]:\n\u001b[0;32m--> 297\u001b[0;31m         \u001b[0;32mreturn\u001b[0m \u001b[0mload_audio\u001b[0m\u001b[0;34m(\u001b[0m\u001b[0muri\u001b[0m\u001b[0;34m,\u001b[0m \u001b[0mframe_offset\u001b[0m\u001b[0;34m,\u001b[0m \u001b[0mnum_frames\u001b[0m\u001b[0;34m,\u001b[0m \u001b[0mnormalize\u001b[0m\u001b[0;34m,\u001b[0m \u001b[0mchannels_first\u001b[0m\u001b[0;34m,\u001b[0m \u001b[0mformat\u001b[0m\u001b[0;34m)\u001b[0m\u001b[0;34m\u001b[0m\u001b[0;34m\u001b[0m\u001b[0m\n\u001b[0m\u001b[1;32m    298\u001b[0m \u001b[0;34m\u001b[0m\u001b[0m\n\u001b[1;32m    299\u001b[0m     \u001b[0;34m@\u001b[0m\u001b[0mstaticmethod\u001b[0m\u001b[0;34m\u001b[0m\u001b[0;34m\u001b[0m\u001b[0m\n",
            "\u001b[0;32m/usr/local/lib/python3.10/dist-packages/torchaudio/_backend/ffmpeg.py\u001b[0m in \u001b[0;36mload_audio\u001b[0;34m(src, frame_offset, num_frames, convert, channels_first, format, buffer_size)\u001b[0m\n\u001b[1;32m     86\u001b[0m     \u001b[0;32mif\u001b[0m \u001b[0mhasattr\u001b[0m\u001b[0;34m(\u001b[0m\u001b[0msrc\u001b[0m\u001b[0;34m,\u001b[0m \u001b[0;34m\"read\"\u001b[0m\u001b[0;34m)\u001b[0m \u001b[0;32mand\u001b[0m \u001b[0mformat\u001b[0m \u001b[0;34m==\u001b[0m \u001b[0;34m\"vorbis\"\u001b[0m\u001b[0;34m:\u001b[0m\u001b[0;34m\u001b[0m\u001b[0;34m\u001b[0m\u001b[0m\n\u001b[1;32m     87\u001b[0m         \u001b[0mformat\u001b[0m \u001b[0;34m=\u001b[0m \u001b[0;34m\"ogg\"\u001b[0m\u001b[0;34m\u001b[0m\u001b[0;34m\u001b[0m\u001b[0m\n\u001b[0;32m---> 88\u001b[0;31m     \u001b[0ms\u001b[0m \u001b[0;34m=\u001b[0m \u001b[0mtorchaudio\u001b[0m\u001b[0;34m.\u001b[0m\u001b[0mio\u001b[0m\u001b[0;34m.\u001b[0m\u001b[0mStreamReader\u001b[0m\u001b[0;34m(\u001b[0m\u001b[0msrc\u001b[0m\u001b[0;34m,\u001b[0m \u001b[0mformat\u001b[0m\u001b[0;34m,\u001b[0m \u001b[0;32mNone\u001b[0m\u001b[0;34m,\u001b[0m \u001b[0mbuffer_size\u001b[0m\u001b[0;34m)\u001b[0m\u001b[0;34m\u001b[0m\u001b[0;34m\u001b[0m\u001b[0m\n\u001b[0m\u001b[1;32m     89\u001b[0m     \u001b[0msample_rate\u001b[0m \u001b[0;34m=\u001b[0m \u001b[0mint\u001b[0m\u001b[0;34m(\u001b[0m\u001b[0ms\u001b[0m\u001b[0;34m.\u001b[0m\u001b[0mget_src_stream_info\u001b[0m\u001b[0;34m(\u001b[0m\u001b[0ms\u001b[0m\u001b[0;34m.\u001b[0m\u001b[0mdefault_audio_stream\u001b[0m\u001b[0;34m)\u001b[0m\u001b[0;34m.\u001b[0m\u001b[0msample_rate\u001b[0m\u001b[0;34m)\u001b[0m\u001b[0;34m\u001b[0m\u001b[0;34m\u001b[0m\u001b[0m\n\u001b[1;32m     90\u001b[0m     \u001b[0mfilter\u001b[0m \u001b[0;34m=\u001b[0m \u001b[0m_get_load_filter\u001b[0m\u001b[0;34m(\u001b[0m\u001b[0mframe_offset\u001b[0m\u001b[0;34m,\u001b[0m \u001b[0mnum_frames\u001b[0m\u001b[0;34m,\u001b[0m \u001b[0mconvert\u001b[0m\u001b[0;34m)\u001b[0m\u001b[0;34m\u001b[0m\u001b[0;34m\u001b[0m\u001b[0m\n",
            "\u001b[0;32m/usr/local/lib/python3.10/dist-packages/torio/io/_streaming_media_decoder.py\u001b[0m in \u001b[0;36m__init__\u001b[0;34m(self, src, format, option, buffer_size)\u001b[0m\n\u001b[1;32m    524\u001b[0m             \u001b[0mself\u001b[0m\u001b[0;34m.\u001b[0m\u001b[0m_be\u001b[0m \u001b[0;34m=\u001b[0m \u001b[0mffmpeg_ext\u001b[0m\u001b[0;34m.\u001b[0m\u001b[0mStreamingMediaDecoderFileObj\u001b[0m\u001b[0;34m(\u001b[0m\u001b[0msrc\u001b[0m\u001b[0;34m,\u001b[0m \u001b[0mformat\u001b[0m\u001b[0;34m,\u001b[0m \u001b[0moption\u001b[0m\u001b[0;34m,\u001b[0m \u001b[0mbuffer_size\u001b[0m\u001b[0;34m)\u001b[0m\u001b[0;34m\u001b[0m\u001b[0;34m\u001b[0m\u001b[0m\n\u001b[1;32m    525\u001b[0m         \u001b[0;32melse\u001b[0m\u001b[0;34m:\u001b[0m\u001b[0;34m\u001b[0m\u001b[0;34m\u001b[0m\u001b[0m\n\u001b[0;32m--> 526\u001b[0;31m             \u001b[0mself\u001b[0m\u001b[0;34m.\u001b[0m\u001b[0m_be\u001b[0m \u001b[0;34m=\u001b[0m \u001b[0mffmpeg_ext\u001b[0m\u001b[0;34m.\u001b[0m\u001b[0mStreamingMediaDecoder\u001b[0m\u001b[0;34m(\u001b[0m\u001b[0mos\u001b[0m\u001b[0;34m.\u001b[0m\u001b[0mpath\u001b[0m\u001b[0;34m.\u001b[0m\u001b[0mnormpath\u001b[0m\u001b[0;34m(\u001b[0m\u001b[0msrc\u001b[0m\u001b[0;34m)\u001b[0m\u001b[0;34m,\u001b[0m \u001b[0mformat\u001b[0m\u001b[0;34m,\u001b[0m \u001b[0moption\u001b[0m\u001b[0;34m)\u001b[0m\u001b[0;34m\u001b[0m\u001b[0;34m\u001b[0m\u001b[0m\n\u001b[0m\u001b[1;32m    527\u001b[0m \u001b[0;34m\u001b[0m\u001b[0m\n\u001b[1;32m    528\u001b[0m         \u001b[0mi\u001b[0m \u001b[0;34m=\u001b[0m \u001b[0mself\u001b[0m\u001b[0;34m.\u001b[0m\u001b[0m_be\u001b[0m\u001b[0;34m.\u001b[0m\u001b[0mfind_best_audio_stream\u001b[0m\u001b[0;34m(\u001b[0m\u001b[0;34m)\u001b[0m\u001b[0;34m\u001b[0m\u001b[0;34m\u001b[0m\u001b[0m\n",
            "\u001b[0;31mKeyboardInterrupt\u001b[0m: "
          ]
        }
      ],
      "source": [
        "log_interval = 20\n",
        "n_epoch = 30\n",
        "\n",
        "pbar_update = 1 / (len(sc_train_loader) + len(sc_test_loader))\n",
        "losses = []\n",
        "\n",
        "# The transform needs to live on the same device as the model and the data.\n",
        "transform = transform.to(device)\n",
        "with tqdm(total=n_epoch) as pbar:\n",
        "    for epoch in range(1, n_epoch + 1):\n",
        "        sc_train(model, epoch, log_interval)\n",
        "        sc_test(model, epoch)\n",
        "        scheduler.step()\n",
        "\n",
        "# Let's plot the training loss versus the number of iteration.\n",
        "# plt.plot(losses);\n",
        "# plt.title(\"training loss\");"
      ]
    },
    {
      "cell_type": "code",
      "execution_count": null,
      "metadata": {
        "id": "bySK4lQXBDV6"
      },
      "outputs": [],
      "source": [
        "def predict(tensor):\n",
        "    # Use the model to predict the label of the waveform\n",
        "    tensor = tensor.to(device)\n",
        "    tensor = transform(tensor)\n",
        "    tensor = model(tensor.unsqueeze(0))\n",
        "    tensor = get_likely_index(tensor)\n",
        "    tensor = index_to_sc_label(tensor.squeeze())\n",
        "    return tensor\n",
        "\n",
        "\n",
        "waveform, sample_rate, utterance, *_ = sc_train_set[-1]\n",
        "ipd.Audio(waveform.numpy(), rate=sample_rate)\n",
        "\n",
        "print(f\"Expected: {utterance}. Predicted: {predict(waveform)}.\")"
      ]
    },
    {
      "cell_type": "code",
      "execution_count": null,
      "metadata": {
        "id": "bD7WF7L_ELCv"
      },
      "outputs": [],
      "source": [
        "torch.save(model.state_dict(), \"sc_pretrained_model.ckpt\")"
      ]
    },
    {
      "cell_type": "markdown",
      "metadata": {
        "id": "gGLpKLs0NajN"
      },
      "source": [
        "# Make a copy of the network, modify the last layer, make a new optimizer"
      ]
    },
    {
      "cell_type": "code",
      "source": [
        "model = M5(n_input = transformed.shape[0], n_output=35)\n",
        "#model.load_state_dict(torch.load(\"sc_pretrained_model.ckpt\", map_location=device))\n"
      ],
      "metadata": {
        "id": "eMLfK-zqZDuS"
      },
      "execution_count": null,
      "outputs": []
    },
    {
      "cell_type": "code",
      "execution_count": null,
      "metadata": {
        "id": "iwL1Hm9mEYLW"
      },
      "outputs": [],
      "source": [
        "# Make a copy of the model for finetuning\n",
        "import copy\n",
        "finetuned_model = copy.deepcopy(model)\n",
        "num_ftrs = finetuned_model.fc1.in_features\n",
        "# Here the size of each output sample is set to 2 (number of classes in new dataset)\n",
        "# Alternatively, it can be generalized to ``nn.Linear(num_ftrs, len(class_names))``.\n",
        "finetuned_model.fc1 = nn.Linear(num_ftrs, 2)"
      ]
    },
    {
      "cell_type": "code",
      "execution_count": null,
      "metadata": {
        "id": "pxhy3dK3LlBH"
      },
      "outputs": [],
      "source": [
        "# Create a new optimizer on the copied model's parameters\n",
        "finetuned_optimizer = optim.Adam(finetuned_model.parameters(), lr=0.01, weight_decay=0.0001)\n",
        "finetuned_scheduler = optim.lr_scheduler.StepLR(finetuned_optimizer, step_size=20, gamma=0.1)  # reduce the learning after 20 epochs by a factor of 10\n"
      ]
    },
    {
      "cell_type": "markdown",
      "metadata": {
        "id": "-KTTQwQMMkXz"
      },
      "source": [
        "# Training and Testing the Network\n",
        "\n",
        "Training function will perform the backward pass and optimization steps. For\n",
        "training, the loss we will use is the negative log-likelihood. The\n",
        "network will then be tested after each epoch to see how the accuracy\n",
        "varies during the training.\n",
        "\n",
        "\n"
      ]
    },
    {
      "cell_type": "code",
      "execution_count": null,
      "metadata": {
        "id": "XUaArSCQMkXz"
      },
      "outputs": [],
      "source": [
        "def train(model, epoch, log_interval):\n",
        "    model.train()\n",
        "    correct = 0\n",
        "    for batch_idx, (data, target) in enumerate(trainloader):\n",
        "\n",
        "        data = data.to(device)\n",
        "        target = target.to(device)\n",
        "        #print(\"Train data shape\", data.shape)\n",
        "        #print(\"Target shape\", target.shape)\n",
        "        # apply transform and model on whole batch directly on device\n",
        "        #data = transform(data) * 100\n",
        "        output = model(data)\n",
        "        #print('\\n======== data ======== \\n')\n",
        "        #print(data.shape)\n",
        "        #print(data[0, 0, 20000:20050])\n",
        "        # print('==================== \\n')\n",
        "        # print(\"Data\", data.shape)\n",
        "        # print(\"Output\", output.shape, output)\n",
        "        # print(\"Target\", target.shape, target)\n",
        "        #print(output)\n",
        "        #print(\"Exp\", torch.exp(output)) ## To make the model less biased towards extreme values, use \"label smoothing\"\n",
        "\n",
        "        # negative log-likelihood for a tensor of size (batch x 1 x n_output)\n",
        "        loss = F.nll_loss(output.squeeze(), target)\n",
        "\n",
        "        finetuned_optimizer.zero_grad()\n",
        "        loss.backward()\n",
        "        finetuned_optimizer.step()\n",
        "\n",
        "        pred = get_likely_index(output)\n",
        "        correct += number_of_correct(pred, target)\n",
        "        #print(output[0:5], target[0:5])\n",
        "\n",
        "        # print training stats\n",
        "        if batch_idx % log_interval == 0:\n",
        "            print(f\"Train Epoch: {epoch} [{batch_idx * len(data)}/{len(trainloader.dataset)} ({100. * batch_idx / len(trainloader):.0f}%)]\\tLoss: {loss.item():.6f} \\tAccuracy: {correct}/{len(trainloader.dataset)} ({100. * correct / len(trainloader.dataset):.0f}%)\")\n",
        "\n",
        "        # update progress bar\n",
        "        pbar.update(pbar_update)\n",
        "        # record loss\n",
        "        losses.append(loss.item())"
      ]
    },
    {
      "cell_type": "code",
      "execution_count": null,
      "metadata": {
        "id": "J5W_9d_8MkX0"
      },
      "outputs": [],
      "source": [
        "def number_of_correct(pred, target):\n",
        "    # count number of correct predictions\n",
        "    return pred.squeeze().eq(target).sum().item()\n",
        "\n",
        "\n",
        "def get_likely_index(tensor):\n",
        "    # find most likely label index for each element in the batch\n",
        "    return tensor.argmax(dim=-1)\n",
        "\n",
        "\n",
        "def test(model, epoch):\n",
        "    model.eval()\n",
        "    correct = 0\n",
        "    for data, target in testloader:\n",
        "\n",
        "        data = data.to(device)\n",
        "        target = target.to(device)\n",
        "        #print(\"Test data shape\", data.shape)\n",
        "        #print(\"Target shape\", target.shape)\n",
        "\n",
        "        # apply transform and model on whole batch directly on device\n",
        "        #data = transform(data) * 100\n",
        "        output = model(data)\n",
        "        #print(\"Predictions\", torch.exp(output))\n",
        "        #print(\"Label\", target)\n",
        "\n",
        "        pred = get_likely_index(output)\n",
        "        correct += number_of_correct(pred, target)\n",
        "\n",
        "        # update progress bar\n",
        "        pbar.update(pbar_update)\n",
        "\n",
        "    print(f\"\\nTest Epoch: {epoch}\\tAccuracy: {correct}/{len(testloader.dataset)} ({100. * correct / len(testloader.dataset):.0f}%)\\n\")\n",
        "    return 100. * correct / len(testloader.dataset)"
      ]
    },
    {
      "cell_type": "code",
      "execution_count": null,
      "metadata": {
        "id": "HMLtqN6uMkX1",
        "colab": {
          "base_uri": "https://localhost:8080/",
          "height": 1000
        },
        "outputId": "1ee26df1-3cce-47d8-861d-2a1143f3df06"
      },
      "outputs": [
        {
          "output_type": "stream",
          "name": "stderr",
          "text": [
            "  0%|          | 0.016666666666666666/50 [00:03<2:58:36, 214.40s/it]"
          ]
        },
        {
          "output_type": "stream",
          "name": "stdout",
          "text": [
            "Train Epoch: 1 [0/3064 (0%)]\tLoss: 0.724904 \tAccuracy: 29/3064 (1%)\n"
          ]
        },
        {
          "output_type": "stream",
          "name": "stderr",
          "text": [
            "  1%|          | 0.35/50 [00:33<1:08:05, 82.30s/it]              "
          ]
        },
        {
          "output_type": "stream",
          "name": "stdout",
          "text": [
            "Train Epoch: 1 [1280/3064 (42%)]\tLoss: 0.621495 \tAccuracy: 782/3064 (26%)\n"
          ]
        },
        {
          "output_type": "stream",
          "name": "stderr",
          "text": [
            "  1%|▏         | 0.6833333333333338/50 [01:03<1:29:42, 109.14s/it]"
          ]
        },
        {
          "output_type": "stream",
          "name": "stdout",
          "text": [
            "Train Epoch: 1 [2560/3064 (83%)]\tLoss: 0.636410 \tAccuracy: 1518/3064 (50%)\n"
          ]
        },
        {
          "output_type": "stream",
          "name": "stderr",
          "text": [
            "  2%|▏         | 1.0000000000000013/50 [01:16<27:49, 34.06s/it]"
          ]
        },
        {
          "output_type": "stream",
          "name": "stdout",
          "text": [
            "\n",
            "Test Epoch: 1\tAccuracy: 443/766 (58%)\n",
            "\n"
          ]
        },
        {
          "output_type": "stream",
          "name": "stderr",
          "text": [
            "\r  2%|▏         | 1.016666666666668/50 [01:19<1:04:30, 79.02s/it]"
          ]
        },
        {
          "output_type": "stream",
          "name": "stdout",
          "text": [
            "Train Epoch: 2 [0/3064 (0%)]\tLoss: 0.658451 \tAccuracy: 42/3064 (1%)\n"
          ]
        },
        {
          "output_type": "stream",
          "name": "stderr",
          "text": [
            "  3%|▎         | 1.35/50 [01:47<1:21:22, 100.36s/it]             "
          ]
        },
        {
          "output_type": "stream",
          "name": "stdout",
          "text": [
            "Train Epoch: 2 [1280/3064 (42%)]\tLoss: 0.634956 \tAccuracy: 775/3064 (25%)\n"
          ]
        },
        {
          "output_type": "stream",
          "name": "stderr",
          "text": [
            "  3%|▎         | 1.6833333333333322/50 [02:13<1:02:42, 77.88s/it]"
          ]
        },
        {
          "output_type": "stream",
          "name": "stdout",
          "text": [
            "Train Epoch: 2 [2560/3064 (83%)]\tLoss: 0.639951 \tAccuracy: 1539/3064 (50%)\n"
          ]
        },
        {
          "output_type": "stream",
          "name": "stderr",
          "text": [
            "  4%|▍         | 1.9999999999999978/50 [02:32<18:17, 22.87s/it]"
          ]
        },
        {
          "output_type": "stream",
          "name": "stdout",
          "text": [
            "\n",
            "Test Epoch: 2\tAccuracy: 473/766 (62%)\n",
            "\n"
          ]
        },
        {
          "output_type": "stream",
          "name": "stderr",
          "text": [
            "\r  4%|▍         | 2.0166666666666644/50 [02:33<20:12, 25.26s/it]"
          ]
        },
        {
          "output_type": "stream",
          "name": "stdout",
          "text": [
            "Train Epoch: 3 [0/3064 (0%)]\tLoss: 0.616237 \tAccuracy: 39/3064 (1%)\n"
          ]
        },
        {
          "output_type": "stream",
          "name": "stderr",
          "text": [
            "  5%|▍         | 2.3499999999999965/50 [03:02<57:26, 72.32s/it]"
          ]
        },
        {
          "output_type": "stream",
          "name": "stdout",
          "text": [
            "Train Epoch: 3 [1280/3064 (42%)]\tLoss: 0.700988 \tAccuracy: 810/3064 (26%)\n"
          ]
        },
        {
          "output_type": "stream",
          "name": "stderr",
          "text": [
            "  5%|▌         | 2.6833333333333287/50 [03:32<1:17:32, 98.33s/it]"
          ]
        },
        {
          "output_type": "stream",
          "name": "stdout",
          "text": [
            "Train Epoch: 3 [2560/3064 (83%)]\tLoss: 0.553241 \tAccuracy: 1659/3064 (54%)\n"
          ]
        },
        {
          "output_type": "stream",
          "name": "stderr",
          "text": [
            "  6%|▌         | 2.9999999999999942/50 [03:47<29:33, 37.73s/it]"
          ]
        },
        {
          "output_type": "stream",
          "name": "stdout",
          "text": [
            "\n",
            "Test Epoch: 3\tAccuracy: 474/766 (62%)\n",
            "\n"
          ]
        },
        {
          "output_type": "stream",
          "name": "stderr",
          "text": [
            "\r  6%|▌         | 3.016666666666661/50 [03:48<35:19, 45.12s/it] "
          ]
        },
        {
          "output_type": "stream",
          "name": "stdout",
          "text": [
            "Train Epoch: 4 [0/3064 (0%)]\tLoss: 0.636170 \tAccuracy: 45/3064 (1%)\n"
          ]
        },
        {
          "output_type": "stream",
          "name": "stderr",
          "text": [
            "  7%|▋         | 3.349999999999993/50 [04:18<1:27:56, 113.10s/it] "
          ]
        },
        {
          "output_type": "stream",
          "name": "stdout",
          "text": [
            "Train Epoch: 4 [1280/3064 (42%)]\tLoss: 0.628393 \tAccuracy: 847/3064 (28%)\n"
          ]
        },
        {
          "output_type": "stream",
          "name": "stderr",
          "text": [
            "  7%|▋         | 3.683333333333325/50 [04:47<1:14:30, 96.53s/it]  "
          ]
        },
        {
          "output_type": "stream",
          "name": "stdout",
          "text": [
            "Train Epoch: 4 [2560/3064 (83%)]\tLoss: 0.574818 \tAccuracy: 1722/3064 (56%)\n"
          ]
        },
        {
          "output_type": "stream",
          "name": "stderr",
          "text": [
            "  8%|▊         | 3.9999999999999907/50 [05:00<20:17, 26.48s/it]"
          ]
        },
        {
          "output_type": "stream",
          "name": "stdout",
          "text": [
            "\n",
            "Test Epoch: 4\tAccuracy: 469/766 (61%)\n",
            "\n"
          ]
        },
        {
          "output_type": "stream",
          "name": "stderr",
          "text": [
            "\r  8%|▊         | 4.016666666666658/50 [05:01<31:14, 40.76s/it] "
          ]
        },
        {
          "output_type": "stream",
          "name": "stdout",
          "text": [
            "Train Epoch: 5 [0/3064 (0%)]\tLoss: 0.629023 \tAccuracy: 43/3064 (1%)\n"
          ]
        },
        {
          "output_type": "stream",
          "name": "stderr",
          "text": [
            "  9%|▊         | 4.34999999999999/50 [05:30<1:02:38, 82.33s/it]"
          ]
        },
        {
          "output_type": "stream",
          "name": "stdout",
          "text": [
            "Train Epoch: 5 [1280/3064 (42%)]\tLoss: 0.565961 \tAccuracy: 839/3064 (27%)\n"
          ]
        },
        {
          "output_type": "stream",
          "name": "stderr",
          "text": [
            "  9%|▉         | 4.683333333333322/50 [05:56<1:05:13, 86.36s/it]"
          ]
        },
        {
          "output_type": "stream",
          "name": "stdout",
          "text": [
            "Train Epoch: 5 [2560/3064 (83%)]\tLoss: 0.619622 \tAccuracy: 1690/3064 (55%)\n"
          ]
        },
        {
          "output_type": "stream",
          "name": "stderr",
          "text": [
            " 10%|▉         | 4.999999999999988/50 [06:10<12:52, 17.16s/it]"
          ]
        },
        {
          "output_type": "stream",
          "name": "stdout",
          "text": [
            "\n",
            "Test Epoch: 5\tAccuracy: 446/766 (58%)\n",
            "\n"
          ]
        },
        {
          "output_type": "stream",
          "name": "stderr",
          "text": [
            "\r 10%|█         | 5.016666666666654/50 [06:11<23:36, 31.49s/it]"
          ]
        },
        {
          "output_type": "stream",
          "name": "stdout",
          "text": [
            "Train Epoch: 6 [0/3064 (0%)]\tLoss: 0.620446 \tAccuracy: 40/3064 (1%)\n"
          ]
        },
        {
          "output_type": "stream",
          "name": "stderr",
          "text": [
            " 11%|█         | 5.349999999999986/50 [06:37<52:25, 70.44s/it]"
          ]
        },
        {
          "output_type": "stream",
          "name": "stdout",
          "text": [
            "Train Epoch: 6 [1280/3064 (42%)]\tLoss: 0.619602 \tAccuracy: 936/3064 (31%)\n"
          ]
        },
        {
          "output_type": "stream",
          "name": "stderr",
          "text": [
            " 11%|█▏        | 5.6833333333333185/50 [07:05<1:12:45, 98.52s/it]"
          ]
        },
        {
          "output_type": "stream",
          "name": "stdout",
          "text": [
            "Train Epoch: 6 [2560/3064 (83%)]\tLoss: 0.673221 \tAccuracy: 1785/3064 (58%)\n"
          ]
        },
        {
          "output_type": "stream",
          "name": "stderr",
          "text": [
            " 12%|█▏        | 5.999999999999984/50 [07:20<21:33, 29.39s/it]"
          ]
        },
        {
          "output_type": "stream",
          "name": "stdout",
          "text": [
            "\n",
            "Test Epoch: 6\tAccuracy: 454/766 (59%)\n",
            "\n"
          ]
        },
        {
          "output_type": "stream",
          "name": "stderr",
          "text": [
            "\r 12%|█▏        | 6.016666666666651/50 [07:21<25:02, 34.17s/it]"
          ]
        },
        {
          "output_type": "stream",
          "name": "stdout",
          "text": [
            "Train Epoch: 7 [0/3064 (0%)]\tLoss: 0.657447 \tAccuracy: 38/3064 (1%)\n"
          ]
        },
        {
          "output_type": "stream",
          "name": "stderr",
          "text": [
            " 13%|█▎        | 6.349999999999983/50 [07:53<1:09:42, 95.82s/it]"
          ]
        },
        {
          "output_type": "stream",
          "name": "stdout",
          "text": [
            "Train Epoch: 7 [1280/3064 (42%)]\tLoss: 0.566644 \tAccuracy: 905/3064 (30%)\n"
          ]
        },
        {
          "output_type": "stream",
          "name": "stderr",
          "text": [
            " 13%|█▎        | 6.683333333333315/50 [08:23<59:13, 82.04s/it]  "
          ]
        },
        {
          "output_type": "stream",
          "name": "stdout",
          "text": [
            "Train Epoch: 7 [2560/3064 (83%)]\tLoss: 0.570372 \tAccuracy: 1791/3064 (58%)\n"
          ]
        },
        {
          "output_type": "stream",
          "name": "stderr",
          "text": [
            " 14%|█▍        | 6.9999999999999805/50 [08:40<21:32, 30.06s/it]"
          ]
        },
        {
          "output_type": "stream",
          "name": "stdout",
          "text": [
            "\n",
            "Test Epoch: 7\tAccuracy: 497/766 (65%)\n",
            "\n"
          ]
        },
        {
          "output_type": "stream",
          "name": "stderr",
          "text": [
            "\r 14%|█▍        | 7.016666666666647/50 [08:42<30:17, 42.29s/it] "
          ]
        },
        {
          "output_type": "stream",
          "name": "stdout",
          "text": [
            "Train Epoch: 8 [0/3064 (0%)]\tLoss: 0.522850 \tAccuracy: 48/3064 (2%)\n"
          ]
        },
        {
          "output_type": "stream",
          "name": "stderr",
          "text": [
            " 15%|█▍        | 7.349999999999979/50 [09:11<48:33, 68.32s/it]"
          ]
        },
        {
          "output_type": "stream",
          "name": "stdout",
          "text": [
            "Train Epoch: 8 [1280/3064 (42%)]\tLoss: 0.644991 \tAccuracy: 954/3064 (31%)\n"
          ]
        },
        {
          "output_type": "stream",
          "name": "stderr",
          "text": [
            " 15%|█▌        | 7.683333333333311/50 [09:43<1:04:20, 91.22s/it]"
          ]
        },
        {
          "output_type": "stream",
          "name": "stdout",
          "text": [
            "Train Epoch: 8 [2560/3064 (83%)]\tLoss: 0.598219 \tAccuracy: 1856/3064 (61%)\n"
          ]
        },
        {
          "output_type": "stream",
          "name": "stderr",
          "text": [
            " 16%|█▌        | 7.999999999999977/50 [10:01<38:25, 54.89s/it]"
          ]
        },
        {
          "output_type": "stream",
          "name": "stdout",
          "text": [
            "\n",
            "Test Epoch: 8\tAccuracy: 338/766 (44%)\n",
            "\n"
          ]
        },
        {
          "output_type": "stream",
          "name": "stderr",
          "text": [
            "\r 16%|█▌        | 8.016666666666644/50 [10:02<47:53, 68.44s/it]"
          ]
        },
        {
          "output_type": "stream",
          "name": "stdout",
          "text": [
            "Train Epoch: 9 [0/3064 (0%)]\tLoss: 0.608493 \tAccuracy: 43/3064 (1%)\n"
          ]
        },
        {
          "output_type": "stream",
          "name": "stderr",
          "text": [
            " 17%|█▋        | 8.349999999999994/50 [10:38<1:22:19, 118.59s/it]"
          ]
        },
        {
          "output_type": "stream",
          "name": "stdout",
          "text": [
            "Train Epoch: 9 [1280/3064 (42%)]\tLoss: 0.613693 \tAccuracy: 878/3064 (29%)\n"
          ]
        },
        {
          "output_type": "stream",
          "name": "stderr",
          "text": [
            " 17%|█▋        | 8.683333333333344/50 [11:06<58:32, 85.01s/it]  "
          ]
        },
        {
          "output_type": "stream",
          "name": "stdout",
          "text": [
            "Train Epoch: 9 [2560/3064 (83%)]\tLoss: 0.544008 \tAccuracy: 1792/3064 (58%)\n"
          ]
        },
        {
          "output_type": "stream",
          "name": "stderr",
          "text": [
            " 18%|█▊        | 9.000000000000027/50 [11:22<19:04, 27.92s/it]"
          ]
        },
        {
          "output_type": "stream",
          "name": "stdout",
          "text": [
            "\n",
            "Test Epoch: 9\tAccuracy: 326/766 (43%)\n",
            "\n"
          ]
        },
        {
          "output_type": "stream",
          "name": "stderr",
          "text": [
            "\r 18%|█▊        | 9.016666666666694/50 [11:22<21:08, 30.95s/it]"
          ]
        },
        {
          "output_type": "stream",
          "name": "stdout",
          "text": [
            "Train Epoch: 10 [0/3064 (0%)]\tLoss: 0.572339 \tAccuracy: 40/3064 (1%)\n"
          ]
        },
        {
          "output_type": "stream",
          "name": "stderr",
          "text": [
            " 19%|█▊        | 9.350000000000044/50 [11:51<43:18, 63.91s/it]"
          ]
        },
        {
          "output_type": "stream",
          "name": "stdout",
          "text": [
            "Train Epoch: 10 [1280/3064 (42%)]\tLoss: 0.622602 \tAccuracy: 874/3064 (29%)\n"
          ]
        },
        {
          "output_type": "stream",
          "name": "stderr",
          "text": [
            " 19%|█▉        | 9.683333333333394/50 [12:22<1:12:48, 108.37s/it]"
          ]
        },
        {
          "output_type": "stream",
          "name": "stdout",
          "text": [
            "Train Epoch: 10 [2560/3064 (83%)]\tLoss: 0.643400 \tAccuracy: 1755/3064 (57%)\n"
          ]
        },
        {
          "output_type": "stream",
          "name": "stderr",
          "text": [
            " 20%|██        | 10.000000000000076/50 [12:36<13:29, 20.24s/it]"
          ]
        },
        {
          "output_type": "stream",
          "name": "stdout",
          "text": [
            "\n",
            "Test Epoch: 10\tAccuracy: 459/766 (60%)\n",
            "\n"
          ]
        },
        {
          "output_type": "stream",
          "name": "stderr",
          "text": [
            "\r 20%|██        | 10.016666666666744/50 [12:39<38:18, 57.50s/it]"
          ]
        },
        {
          "output_type": "stream",
          "name": "stdout",
          "text": [
            "Train Epoch: 11 [0/3064 (0%)]\tLoss: 0.584198 \tAccuracy: 44/3064 (1%)\n"
          ]
        },
        {
          "output_type": "stream",
          "name": "stderr",
          "text": [
            " 21%|██        | 10.350000000000094/50 [13:08<1:02:32, 94.63s/it] "
          ]
        },
        {
          "output_type": "stream",
          "name": "stdout",
          "text": [
            "Train Epoch: 11 [1280/3064 (42%)]\tLoss: 0.618908 \tAccuracy: 904/3064 (30%)\n"
          ]
        },
        {
          "output_type": "stream",
          "name": "stderr",
          "text": [
            " 21%|██▏       | 10.683333333333444/50 [13:35<51:02, 77.90s/it]"
          ]
        },
        {
          "output_type": "stream",
          "name": "stdout",
          "text": [
            "Train Epoch: 11 [2560/3064 (83%)]\tLoss: 0.577597 \tAccuracy: 1831/3064 (60%)\n"
          ]
        },
        {
          "output_type": "stream",
          "name": "stderr",
          "text": [
            " 22%|██▏       | 11.000000000000126/50 [13:52<12:16, 18.88s/it]"
          ]
        },
        {
          "output_type": "stream",
          "name": "stdout",
          "text": [
            "\n",
            "Test Epoch: 11\tAccuracy: 469/766 (61%)\n",
            "\n"
          ]
        },
        {
          "output_type": "stream",
          "name": "stderr",
          "text": [
            "\r 22%|██▏       | 11.016666666666794/50 [13:53<16:52, 25.96s/it]"
          ]
        },
        {
          "output_type": "stream",
          "name": "stdout",
          "text": [
            "Train Epoch: 12 [0/3064 (0%)]\tLoss: 0.609980 \tAccuracy: 43/3064 (1%)\n"
          ]
        },
        {
          "output_type": "stream",
          "name": "stderr",
          "text": [
            " 23%|██▎       | 11.350000000000144/50 [14:21<58:39, 91.06s/it]  "
          ]
        },
        {
          "output_type": "stream",
          "name": "stdout",
          "text": [
            "Train Epoch: 12 [1280/3064 (42%)]\tLoss: 0.540913 \tAccuracy: 950/3064 (31%)\n"
          ]
        },
        {
          "output_type": "stream",
          "name": "stderr",
          "text": [
            " 23%|██▎       | 11.683333333333493/50 [14:53<1:02:58, 98.62s/it]"
          ]
        },
        {
          "output_type": "stream",
          "name": "stdout",
          "text": [
            "Train Epoch: 12 [2560/3064 (83%)]\tLoss: 0.579257 \tAccuracy: 1821/3064 (59%)\n"
          ]
        },
        {
          "output_type": "stream",
          "name": "stderr",
          "text": [
            " 24%|██▍       | 12.000000000000176/50 [15:06<12:56, 20.44s/it]"
          ]
        },
        {
          "output_type": "stream",
          "name": "stdout",
          "text": [
            "\n",
            "Test Epoch: 12\tAccuracy: 493/766 (64%)\n",
            "\n"
          ]
        },
        {
          "output_type": "stream",
          "name": "stderr",
          "text": [
            "\r 24%|██▍       | 12.016666666666843/50 [15:07<26:38, 42.09s/it]"
          ]
        },
        {
          "output_type": "stream",
          "name": "stdout",
          "text": [
            "Train Epoch: 13 [0/3064 (0%)]\tLoss: 0.571732 \tAccuracy: 47/3064 (2%)\n"
          ]
        },
        {
          "output_type": "stream",
          "name": "stderr",
          "text": [
            " 25%|██▍       | 12.350000000000193/50 [15:37<54:41, 87.15s/it]"
          ]
        },
        {
          "output_type": "stream",
          "name": "stdout",
          "text": [
            "Train Epoch: 13 [1280/3064 (42%)]\tLoss: 0.568122 \tAccuracy: 954/3064 (31%)\n"
          ]
        },
        {
          "output_type": "stream",
          "name": "stderr",
          "text": [
            " 25%|██▌       | 12.683333333333543/50 [16:07<53:07, 85.42s/it]"
          ]
        },
        {
          "output_type": "stream",
          "name": "stdout",
          "text": [
            "Train Epoch: 13 [2560/3064 (83%)]\tLoss: 0.555210 \tAccuracy: 1784/3064 (58%)\n"
          ]
        },
        {
          "output_type": "stream",
          "name": "stderr",
          "text": [
            " 26%|██▌       | 13.000000000000226/50 [16:21<13:47, 22.37s/it]"
          ]
        },
        {
          "output_type": "stream",
          "name": "stdout",
          "text": [
            "\n",
            "Test Epoch: 13\tAccuracy: 482/766 (63%)\n",
            "\n"
          ]
        },
        {
          "output_type": "stream",
          "name": "stderr",
          "text": [
            "\r 26%|██▌       | 13.016666666666893/50 [16:21<17:55, 29.07s/it]"
          ]
        },
        {
          "output_type": "stream",
          "name": "stdout",
          "text": [
            "Train Epoch: 14 [0/3064 (0%)]\tLoss: 0.531176 \tAccuracy: 46/3064 (2%)\n"
          ]
        },
        {
          "output_type": "stream",
          "name": "stderr",
          "text": [
            " 27%|██▋       | 13.350000000000243/50 [16:47<48:26, 79.30s/it]  "
          ]
        },
        {
          "output_type": "stream",
          "name": "stdout",
          "text": [
            "Train Epoch: 14 [1280/3064 (42%)]\tLoss: 0.554487 \tAccuracy: 984/3064 (32%)\n"
          ]
        },
        {
          "output_type": "stream",
          "name": "stderr",
          "text": [
            " 27%|██▋       | 13.683333333333593/50 [17:18<50:07, 82.81s/it]"
          ]
        },
        {
          "output_type": "stream",
          "name": "stdout",
          "text": [
            "Train Epoch: 14 [2560/3064 (83%)]\tLoss: 0.527445 \tAccuracy: 1893/3064 (62%)\n"
          ]
        },
        {
          "output_type": "stream",
          "name": "stderr",
          "text": [
            " 28%|██▊       | 14.000000000000275/50 [17:34<12:12, 20.34s/it]"
          ]
        },
        {
          "output_type": "stream",
          "name": "stdout",
          "text": [
            "\n",
            "Test Epoch: 14\tAccuracy: 501/766 (65%)\n",
            "\n"
          ]
        },
        {
          "output_type": "stream",
          "name": "stderr",
          "text": [
            "\r 28%|██▊       | 14.016666666666943/50 [17:37<39:53, 66.53s/it]"
          ]
        },
        {
          "output_type": "stream",
          "name": "stdout",
          "text": [
            "Train Epoch: 15 [0/3064 (0%)]\tLoss: 0.595180 \tAccuracy: 40/3064 (1%)\n"
          ]
        },
        {
          "output_type": "stream",
          "name": "stderr",
          "text": [
            " 29%|██▊       | 14.350000000000293/50 [18:06<52:19, 88.07s/it]   "
          ]
        },
        {
          "output_type": "stream",
          "name": "stdout",
          "text": [
            "Train Epoch: 15 [1280/3064 (42%)]\tLoss: 0.605040 \tAccuracy: 915/3064 (30%)\n"
          ]
        },
        {
          "output_type": "stream",
          "name": "stderr",
          "text": [
            " 29%|██▉       | 14.683333333333643/50 [18:39<45:02, 76.52s/it]"
          ]
        },
        {
          "output_type": "stream",
          "name": "stdout",
          "text": [
            "Train Epoch: 15 [2560/3064 (83%)]\tLoss: 0.522347 \tAccuracy: 1835/3064 (60%)\n"
          ]
        },
        {
          "output_type": "stream",
          "name": "stderr",
          "text": [
            " 30%|███       | 15.000000000000325/50 [18:53<11:03, 18.96s/it]"
          ]
        },
        {
          "output_type": "stream",
          "name": "stdout",
          "text": [
            "\n",
            "Test Epoch: 15\tAccuracy: 497/766 (65%)\n",
            "\n"
          ]
        },
        {
          "output_type": "stream",
          "name": "stderr",
          "text": [
            "\r 30%|███       | 15.016666666666993/50 [18:55<23:08, 39.69s/it]"
          ]
        },
        {
          "output_type": "stream",
          "name": "stdout",
          "text": [
            "Train Epoch: 16 [0/3064 (0%)]\tLoss: 0.482626 \tAccuracy: 49/3064 (2%)\n"
          ]
        },
        {
          "output_type": "stream",
          "name": "stderr",
          "text": [
            " 31%|███       | 15.350000000000342/50 [19:26<41:41, 72.18s/it]"
          ]
        },
        {
          "output_type": "stream",
          "name": "stdout",
          "text": [
            "Train Epoch: 16 [1280/3064 (42%)]\tLoss: 0.485706 \tAccuracy: 980/3064 (32%)\n"
          ]
        },
        {
          "output_type": "stream",
          "name": "stderr",
          "text": [
            " 31%|███▏      | 15.683333333333692/50 [19:59<1:07:26, 117.92s/it]"
          ]
        },
        {
          "output_type": "stream",
          "name": "stdout",
          "text": [
            "Train Epoch: 16 [2560/3064 (83%)]\tLoss: 0.552043 \tAccuracy: 1873/3064 (61%)\n"
          ]
        },
        {
          "output_type": "stream",
          "name": "stderr",
          "text": [
            " 32%|███▏      | 16.000000000000373/50 [20:15<16:15, 28.69s/it]"
          ]
        },
        {
          "output_type": "stream",
          "name": "stdout",
          "text": [
            "\n",
            "Test Epoch: 16\tAccuracy: 523/766 (68%)\n",
            "\n"
          ]
        },
        {
          "output_type": "stream",
          "name": "stderr",
          "text": [
            "\r 32%|███▏      | 16.01666666666704/50 [20:16<19:24, 34.27s/it] "
          ]
        },
        {
          "output_type": "stream",
          "name": "stdout",
          "text": [
            "Train Epoch: 17 [0/3064 (0%)]\tLoss: 0.524019 \tAccuracy: 49/3064 (2%)\n"
          ]
        },
        {
          "output_type": "stream",
          "name": "stderr",
          "text": [
            " 33%|███▎      | 16.350000000000353/50 [20:48<49:37, 88.49s/it]"
          ]
        },
        {
          "output_type": "stream",
          "name": "stdout",
          "text": [
            "Train Epoch: 17 [1280/3064 (42%)]\tLoss: 0.545007 \tAccuracy: 969/3064 (32%)\n"
          ]
        },
        {
          "output_type": "stream",
          "name": "stderr",
          "text": [
            " 33%|███▎      | 16.683333333333668/50 [21:20<50:32, 91.02s/it]"
          ]
        },
        {
          "output_type": "stream",
          "name": "stdout",
          "text": [
            "Train Epoch: 17 [2560/3064 (83%)]\tLoss: 0.498561 \tAccuracy: 1842/3064 (60%)\n"
          ]
        },
        {
          "output_type": "stream",
          "name": "stderr",
          "text": [
            " 34%|███▍      | 17.000000000000316/50 [21:34<13:47, 25.08s/it]"
          ]
        },
        {
          "output_type": "stream",
          "name": "stdout",
          "text": [
            "\n",
            "Test Epoch: 17\tAccuracy: 522/766 (68%)\n",
            "\n"
          ]
        },
        {
          "output_type": "stream",
          "name": "stderr",
          "text": [
            "\r 34%|███▍      | 17.016666666666982/50 [21:36<25:07, 45.70s/it]"
          ]
        },
        {
          "output_type": "stream",
          "name": "stdout",
          "text": [
            "Train Epoch: 18 [0/3064 (0%)]\tLoss: 0.480884 \tAccuracy: 52/3064 (2%)\n"
          ]
        },
        {
          "output_type": "stream",
          "name": "stderr",
          "text": [
            " 35%|███▍      | 17.350000000000296/50 [22:02<36:44, 67.52s/it]"
          ]
        },
        {
          "output_type": "stream",
          "name": "stdout",
          "text": [
            "Train Epoch: 18 [1280/3064 (42%)]\tLoss: 0.462384 \tAccuracy: 1000/3064 (33%)\n"
          ]
        },
        {
          "output_type": "stream",
          "name": "stderr",
          "text": [
            " 35%|███▌      | 17.68333333333361/50 [22:34<43:02, 79.93s/it] "
          ]
        },
        {
          "output_type": "stream",
          "name": "stdout",
          "text": [
            "Train Epoch: 18 [2560/3064 (83%)]\tLoss: 0.593489 \tAccuracy: 1873/3064 (61%)\n"
          ]
        },
        {
          "output_type": "stream",
          "name": "stderr",
          "text": [
            " 36%|███▌      | 18.00000000000026/50 [22:52<18:08, 34.00s/it] "
          ]
        },
        {
          "output_type": "stream",
          "name": "stdout",
          "text": [
            "\n",
            "Test Epoch: 18\tAccuracy: 501/766 (65%)\n",
            "\n"
          ]
        },
        {
          "output_type": "stream",
          "name": "stderr",
          "text": [
            "\r 36%|███▌      | 18.016666666666925/50 [22:53<24:50, 46.60s/it]"
          ]
        },
        {
          "output_type": "stream",
          "name": "stdout",
          "text": [
            "Train Epoch: 19 [0/3064 (0%)]\tLoss: 0.576445 \tAccuracy: 44/3064 (1%)\n"
          ]
        },
        {
          "output_type": "stream",
          "name": "stderr",
          "text": [
            " 37%|███▋      | 18.35000000000024/50 [23:21<48:54, 92.72s/it] "
          ]
        },
        {
          "output_type": "stream",
          "name": "stdout",
          "text": [
            "Train Epoch: 19 [1280/3064 (42%)]\tLoss: 0.490235 \tAccuracy: 972/3064 (32%)\n"
          ]
        },
        {
          "output_type": "stream",
          "name": "stderr",
          "text": [
            " 37%|███▋      | 18.683333333333554/50 [23:53<1:15:57, 145.54s/it]"
          ]
        },
        {
          "output_type": "stream",
          "name": "stdout",
          "text": [
            "Train Epoch: 19 [2560/3064 (83%)]\tLoss: 0.598134 \tAccuracy: 1871/3064 (61%)\n"
          ]
        },
        {
          "output_type": "stream",
          "name": "stderr",
          "text": [
            " 38%|███▊      | 19.000000000000203/50 [24:09<10:34, 20.47s/it]"
          ]
        },
        {
          "output_type": "stream",
          "name": "stdout",
          "text": [
            "\n",
            "Test Epoch: 19\tAccuracy: 511/766 (67%)\n",
            "\n"
          ]
        },
        {
          "output_type": "stream",
          "name": "stderr",
          "text": [
            "\r 38%|███▊      | 19.01666666666687/50 [24:10<19:44, 38.22s/it] "
          ]
        },
        {
          "output_type": "stream",
          "name": "stdout",
          "text": [
            "Train Epoch: 20 [0/3064 (0%)]\tLoss: 0.460981 \tAccuracy: 49/3064 (2%)\n"
          ]
        },
        {
          "output_type": "stream",
          "name": "stderr",
          "text": [
            " 39%|███▊      | 19.350000000000183/50 [24:44<46:52, 91.77s/it]"
          ]
        },
        {
          "output_type": "stream",
          "name": "stdout",
          "text": [
            "Train Epoch: 20 [1280/3064 (42%)]\tLoss: 0.549638 \tAccuracy: 989/3064 (32%)\n"
          ]
        },
        {
          "output_type": "stream",
          "name": "stderr",
          "text": [
            " 39%|███▉      | 19.683333333333497/50 [25:13<43:40, 86.43s/it]"
          ]
        },
        {
          "output_type": "stream",
          "name": "stdout",
          "text": [
            "Train Epoch: 20 [2560/3064 (83%)]\tLoss: 0.514400 \tAccuracy: 1944/3064 (63%)\n"
          ]
        },
        {
          "output_type": "stream",
          "name": "stderr",
          "text": [
            " 40%|████      | 20.000000000000146/50 [25:28<12:21, 24.72s/it]"
          ]
        },
        {
          "output_type": "stream",
          "name": "stdout",
          "text": [
            "\n",
            "Test Epoch: 20\tAccuracy: 537/766 (70%)\n",
            "\n"
          ]
        },
        {
          "output_type": "stream",
          "name": "stderr",
          "text": [
            "\r 40%|████      | 20.01666666666681/50 [25:32<38:37, 77.31s/it] "
          ]
        },
        {
          "output_type": "stream",
          "name": "stdout",
          "text": [
            "Train Epoch: 21 [0/3064 (0%)]\tLoss: 0.538010 \tAccuracy: 45/3064 (1%)\n"
          ]
        },
        {
          "output_type": "stream",
          "name": "stderr",
          "text": [
            " 41%|████      | 20.350000000000126/50 [25:59<41:09, 83.27s/it]"
          ]
        },
        {
          "output_type": "stream",
          "name": "stdout",
          "text": [
            "Train Epoch: 21 [1280/3064 (42%)]\tLoss: 0.437108 \tAccuracy: 977/3064 (32%)\n"
          ]
        },
        {
          "output_type": "stream",
          "name": "stderr",
          "text": [
            " 41%|████▏     | 20.68333333333344/50 [26:30<43:10, 88.35s/it]  "
          ]
        },
        {
          "output_type": "stream",
          "name": "stdout",
          "text": [
            "Train Epoch: 21 [2560/3064 (83%)]\tLoss: 0.469061 \tAccuracy: 1924/3064 (63%)\n"
          ]
        },
        {
          "output_type": "stream",
          "name": "stderr",
          "text": [
            " 42%|████▏     | 21.00000000000009/50 [26:47<16:38, 34.42s/it] "
          ]
        },
        {
          "output_type": "stream",
          "name": "stdout",
          "text": [
            "\n",
            "Test Epoch: 21\tAccuracy: 526/766 (69%)\n",
            "\n"
          ]
        },
        {
          "output_type": "stream",
          "name": "stderr",
          "text": [
            "\r 42%|████▏     | 21.016666666666755/50 [26:48<25:43, 53.24s/it]"
          ]
        },
        {
          "output_type": "stream",
          "name": "stdout",
          "text": [
            "Train Epoch: 22 [0/3064 (0%)]\tLoss: 0.546396 \tAccuracy: 45/3064 (1%)\n"
          ]
        },
        {
          "output_type": "stream",
          "name": "stderr",
          "text": [
            " 43%|████▎     | 21.35000000000007/50 [27:16<43:22, 90.84s/it] "
          ]
        },
        {
          "output_type": "stream",
          "name": "stdout",
          "text": [
            "Train Epoch: 22 [1280/3064 (42%)]\tLoss: 0.541133 \tAccuracy: 970/3064 (32%)\n"
          ]
        },
        {
          "output_type": "stream",
          "name": "stderr",
          "text": [
            " 43%|████▎     | 21.683333333333383/50 [27:46<32:53, 69.68s/it]"
          ]
        },
        {
          "output_type": "stream",
          "name": "stdout",
          "text": [
            "Train Epoch: 22 [2560/3064 (83%)]\tLoss: 0.444528 \tAccuracy: 1933/3064 (63%)\n"
          ]
        },
        {
          "output_type": "stream",
          "name": "stderr",
          "text": [
            " 44%|████▍     | 22.000000000000032/50 [28:00<10:42, 22.95s/it]"
          ]
        },
        {
          "output_type": "stream",
          "name": "stdout",
          "text": [
            "\n",
            "Test Epoch: 22\tAccuracy: 523/766 (68%)\n",
            "\n"
          ]
        },
        {
          "output_type": "stream",
          "name": "stderr",
          "text": [
            "\r 44%|████▍     | 22.016666666666698/50 [28:02<19:36, 42.04s/it]"
          ]
        },
        {
          "output_type": "stream",
          "name": "stdout",
          "text": [
            "Train Epoch: 23 [0/3064 (0%)]\tLoss: 0.508907 \tAccuracy: 55/3064 (2%)\n"
          ]
        },
        {
          "output_type": "stream",
          "name": "stderr",
          "text": [
            " 45%|████▍     | 22.350000000000012/50 [28:32<43:12, 93.77s/it]"
          ]
        },
        {
          "output_type": "stream",
          "name": "stdout",
          "text": [
            "Train Epoch: 23 [1280/3064 (42%)]\tLoss: 0.620430 \tAccuracy: 1032/3064 (34%)\n"
          ]
        },
        {
          "output_type": "stream",
          "name": "stderr",
          "text": [
            " 45%|████▌     | 22.683333333333326/50 [29:07<34:07, 74.97s/it]"
          ]
        },
        {
          "output_type": "stream",
          "name": "stdout",
          "text": [
            "Train Epoch: 23 [2560/3064 (83%)]\tLoss: 0.518748 \tAccuracy: 1986/3064 (65%)\n"
          ]
        },
        {
          "output_type": "stream",
          "name": "stderr",
          "text": [
            " 46%|████▌     | 22.999999999999975/50 [29:21<12:05, 26.86s/it]"
          ]
        },
        {
          "output_type": "stream",
          "name": "stdout",
          "text": [
            "\n",
            "Test Epoch: 23\tAccuracy: 537/766 (70%)\n",
            "\n"
          ]
        },
        {
          "output_type": "stream",
          "name": "stderr",
          "text": [
            "\r 46%|████▌     | 23.01666666666664/50 [29:22<18:16, 40.65s/it] "
          ]
        },
        {
          "output_type": "stream",
          "name": "stdout",
          "text": [
            "Train Epoch: 24 [0/3064 (0%)]\tLoss: 0.447164 \tAccuracy: 48/3064 (2%)\n"
          ]
        },
        {
          "output_type": "stream",
          "name": "stderr",
          "text": [
            " 47%|████▋     | 23.349999999999955/50 [29:51<31:28, 70.85s/it]"
          ]
        },
        {
          "output_type": "stream",
          "name": "stdout",
          "text": [
            "Train Epoch: 24 [1280/3064 (42%)]\tLoss: 0.772022 \tAccuracy: 1016/3064 (33%)\n"
          ]
        },
        {
          "output_type": "stream",
          "name": "stderr",
          "text": [
            " 47%|████▋     | 23.68333333333327/50 [30:18<25:08, 57.31s/it] "
          ]
        },
        {
          "output_type": "stream",
          "name": "stdout",
          "text": [
            "Train Epoch: 24 [2560/3064 (83%)]\tLoss: 0.562299 \tAccuracy: 1944/3064 (63%)\n"
          ]
        },
        {
          "output_type": "stream",
          "name": "stderr",
          "text": [
            " 48%|████▊     | 23.99999999999992/50 [30:35<15:44, 36.31s/it] "
          ]
        },
        {
          "output_type": "stream",
          "name": "stdout",
          "text": [
            "\n",
            "Test Epoch: 24\tAccuracy: 528/766 (69%)\n",
            "\n"
          ]
        },
        {
          "output_type": "stream",
          "name": "stderr",
          "text": [
            "\r 48%|████▊     | 24.016666666666584/50 [30:37<27:57, 64.54s/it]"
          ]
        },
        {
          "output_type": "stream",
          "name": "stdout",
          "text": [
            "Train Epoch: 25 [0/3064 (0%)]\tLoss: 0.598945 \tAccuracy: 43/3064 (1%)\n"
          ]
        },
        {
          "output_type": "stream",
          "name": "stderr",
          "text": [
            " 49%|████▊     | 24.3499999999999/50 [31:05<38:34, 90.25s/it]  "
          ]
        },
        {
          "output_type": "stream",
          "name": "stdout",
          "text": [
            "Train Epoch: 25 [1280/3064 (42%)]\tLoss: 0.499469 \tAccuracy: 999/3064 (33%)\n"
          ]
        },
        {
          "output_type": "stream",
          "name": "stderr",
          "text": [
            " 49%|████▉     | 24.683333333333213/50 [31:39<36:09, 85.70s/it]"
          ]
        },
        {
          "output_type": "stream",
          "name": "stdout",
          "text": [
            "Train Epoch: 25 [2560/3064 (83%)]\tLoss: 0.528827 \tAccuracy: 1951/3064 (64%)\n"
          ]
        },
        {
          "output_type": "stream",
          "name": "stderr",
          "text": [
            " 50%|████▉     | 24.99999999999986/50 [31:54<10:08, 24.33s/it] "
          ]
        },
        {
          "output_type": "stream",
          "name": "stdout",
          "text": [
            "\n",
            "Test Epoch: 25\tAccuracy: 540/766 (70%)\n",
            "\n"
          ]
        },
        {
          "output_type": "stream",
          "name": "stderr",
          "text": [
            "\r 50%|█████     | 25.016666666666527/50 [31:54<13:03, 31.35s/it]"
          ]
        },
        {
          "output_type": "stream",
          "name": "stdout",
          "text": [
            "Train Epoch: 26 [0/3064 (0%)]\tLoss: 0.434857 \tAccuracy: 51/3064 (2%)\n"
          ]
        },
        {
          "output_type": "stream",
          "name": "stderr",
          "text": [
            " 51%|█████     | 25.34999999999984/50 [32:29<40:14, 97.94s/it]  "
          ]
        },
        {
          "output_type": "stream",
          "name": "stdout",
          "text": [
            "Train Epoch: 26 [1280/3064 (42%)]\tLoss: 0.584022 \tAccuracy: 983/3064 (32%)\n"
          ]
        },
        {
          "output_type": "stream",
          "name": "stderr",
          "text": [
            " 51%|█████▏    | 25.683333333333156/50 [32:58<29:34, 72.96s/it]"
          ]
        },
        {
          "output_type": "stream",
          "name": "stdout",
          "text": [
            "Train Epoch: 26 [2560/3064 (83%)]\tLoss: 0.456900 \tAccuracy: 1929/3064 (63%)\n"
          ]
        },
        {
          "output_type": "stream",
          "name": "stderr",
          "text": [
            " 52%|█████▏    | 25.999999999999805/50 [33:13<08:40, 21.68s/it]"
          ]
        },
        {
          "output_type": "stream",
          "name": "stdout",
          "text": [
            "\n",
            "Test Epoch: 26\tAccuracy: 534/766 (70%)\n",
            "\n"
          ]
        },
        {
          "output_type": "stream",
          "name": "stderr",
          "text": [
            "\r 52%|█████▏    | 26.01666666666647/50 [33:14<12:51, 32.15s/it] "
          ]
        },
        {
          "output_type": "stream",
          "name": "stdout",
          "text": [
            "Train Epoch: 27 [0/3064 (0%)]\tLoss: 0.515587 \tAccuracy: 46/3064 (2%)\n"
          ]
        },
        {
          "output_type": "stream",
          "name": "stderr",
          "text": [
            " 53%|█████▎    | 26.349999999999785/50 [33:45<30:22, 77.07s/it]"
          ]
        },
        {
          "output_type": "stream",
          "name": "stdout",
          "text": [
            "Train Epoch: 27 [1280/3064 (42%)]\tLoss: 0.498761 \tAccuracy: 1011/3064 (33%)\n"
          ]
        },
        {
          "output_type": "stream",
          "name": "stderr",
          "text": [
            " 53%|█████▎    | 26.6833333333331/50 [34:16<38:17, 98.55s/it]   "
          ]
        },
        {
          "output_type": "stream",
          "name": "stdout",
          "text": [
            "Train Epoch: 27 [2560/3064 (83%)]\tLoss: 0.532840 \tAccuracy: 1968/3064 (64%)\n"
          ]
        },
        {
          "output_type": "stream",
          "name": "stderr",
          "text": [
            " 54%|█████▍    | 26.999999999999748/50 [34:33<13:04, 34.11s/it]"
          ]
        },
        {
          "output_type": "stream",
          "name": "stdout",
          "text": [
            "\n",
            "Test Epoch: 27\tAccuracy: 531/766 (69%)\n",
            "\n"
          ]
        },
        {
          "output_type": "stream",
          "name": "stderr",
          "text": [
            "\r 54%|█████▍    | 27.016666666666413/50 [34:34<18:30, 48.33s/it]"
          ]
        },
        {
          "output_type": "stream",
          "name": "stdout",
          "text": [
            "Train Epoch: 28 [0/3064 (0%)]\tLoss: 0.486485 \tAccuracy: 45/3064 (1%)\n"
          ]
        },
        {
          "output_type": "stream",
          "name": "stderr",
          "text": [
            " 55%|█████▍    | 27.349999999999728/50 [35:07<36:39, 97.13s/it] "
          ]
        },
        {
          "output_type": "stream",
          "name": "stdout",
          "text": [
            "Train Epoch: 28 [1280/3064 (42%)]\tLoss: 0.470102 \tAccuracy: 993/3064 (32%)\n"
          ]
        },
        {
          "output_type": "stream",
          "name": "stderr",
          "text": [
            " 55%|█████▌    | 27.683333333333042/50 [35:38<31:05, 83.61s/it]"
          ]
        },
        {
          "output_type": "stream",
          "name": "stdout",
          "text": [
            "Train Epoch: 28 [2560/3064 (83%)]\tLoss: 0.533431 \tAccuracy: 1948/3064 (64%)\n"
          ]
        },
        {
          "output_type": "stream",
          "name": "stderr",
          "text": [
            " 56%|█████▌    | 27.99999999999969/50 [35:52<11:47, 32.16s/it] "
          ]
        },
        {
          "output_type": "stream",
          "name": "stdout",
          "text": [
            "\n",
            "Test Epoch: 28\tAccuracy: 537/766 (70%)\n",
            "\n"
          ]
        },
        {
          "output_type": "stream",
          "name": "stderr",
          "text": [
            "\r 56%|█████▌    | 28.016666666666357/50 [35:53<16:31, 45.12s/it]"
          ]
        },
        {
          "output_type": "stream",
          "name": "stdout",
          "text": [
            "Train Epoch: 29 [0/3064 (0%)]\tLoss: 0.451616 \tAccuracy: 46/3064 (2%)\n"
          ]
        },
        {
          "output_type": "stream",
          "name": "stderr",
          "text": [
            " 56%|█████▋    | 28.216666666666345/50 [36:10<27:55, 76.94s/it]\n"
          ]
        },
        {
          "output_type": "error",
          "ename": "KeyboardInterrupt",
          "evalue": "",
          "traceback": [
            "\u001b[0;31m---------------------------------------------------------------------------\u001b[0m",
            "\u001b[0;31mKeyboardInterrupt\u001b[0m                         Traceback (most recent call last)",
            "\u001b[0;32m<ipython-input-18-c291c4da263d>\u001b[0m in \u001b[0;36m<cell line: 15>\u001b[0;34m()\u001b[0m\n\u001b[1;32m     15\u001b[0m \u001b[0;32mwith\u001b[0m \u001b[0mtqdm\u001b[0m\u001b[0;34m(\u001b[0m\u001b[0mtotal\u001b[0m\u001b[0;34m=\u001b[0m\u001b[0mn_epoch\u001b[0m\u001b[0;34m)\u001b[0m \u001b[0;32mas\u001b[0m \u001b[0mpbar\u001b[0m\u001b[0;34m:\u001b[0m\u001b[0;34m\u001b[0m\u001b[0;34m\u001b[0m\u001b[0m\n\u001b[1;32m     16\u001b[0m     \u001b[0;32mfor\u001b[0m \u001b[0mepoch\u001b[0m \u001b[0;32min\u001b[0m \u001b[0mrange\u001b[0m\u001b[0;34m(\u001b[0m\u001b[0;36m1\u001b[0m\u001b[0;34m,\u001b[0m \u001b[0mn_epoch\u001b[0m \u001b[0;34m+\u001b[0m \u001b[0;36m1\u001b[0m\u001b[0;34m)\u001b[0m\u001b[0;34m:\u001b[0m\u001b[0;34m\u001b[0m\u001b[0;34m\u001b[0m\u001b[0m\n\u001b[0;32m---> 17\u001b[0;31m         \u001b[0mtrain\u001b[0m\u001b[0;34m(\u001b[0m\u001b[0mfinetuned_model\u001b[0m\u001b[0;34m,\u001b[0m \u001b[0mepoch\u001b[0m\u001b[0;34m,\u001b[0m \u001b[0mlog_interval\u001b[0m\u001b[0;34m)\u001b[0m\u001b[0;34m\u001b[0m\u001b[0;34m\u001b[0m\u001b[0m\n\u001b[0m\u001b[1;32m     18\u001b[0m         \u001b[0mtest_acc\u001b[0m \u001b[0;34m=\u001b[0m \u001b[0mtest\u001b[0m\u001b[0;34m(\u001b[0m\u001b[0mfinetuned_model\u001b[0m\u001b[0;34m,\u001b[0m \u001b[0mepoch\u001b[0m\u001b[0;34m)\u001b[0m\u001b[0;34m\u001b[0m\u001b[0;34m\u001b[0m\u001b[0m\n\u001b[1;32m     19\u001b[0m         \u001b[0mfinetuned_scheduler\u001b[0m\u001b[0;34m.\u001b[0m\u001b[0mstep\u001b[0m\u001b[0;34m(\u001b[0m\u001b[0;34m)\u001b[0m\u001b[0;34m\u001b[0m\u001b[0;34m\u001b[0m\u001b[0m\n",
            "\u001b[0;32m<ipython-input-16-0ccb682cb250>\u001b[0m in \u001b[0;36mtrain\u001b[0;34m(model, epoch, log_interval)\u001b[0m\n\u001b[1;32m     25\u001b[0m \u001b[0;34m\u001b[0m\u001b[0m\n\u001b[1;32m     26\u001b[0m         \u001b[0mfinetuned_optimizer\u001b[0m\u001b[0;34m.\u001b[0m\u001b[0mzero_grad\u001b[0m\u001b[0;34m(\u001b[0m\u001b[0;34m)\u001b[0m\u001b[0;34m\u001b[0m\u001b[0;34m\u001b[0m\u001b[0m\n\u001b[0;32m---> 27\u001b[0;31m         \u001b[0mloss\u001b[0m\u001b[0;34m.\u001b[0m\u001b[0mbackward\u001b[0m\u001b[0;34m(\u001b[0m\u001b[0;34m)\u001b[0m\u001b[0;34m\u001b[0m\u001b[0;34m\u001b[0m\u001b[0m\n\u001b[0m\u001b[1;32m     28\u001b[0m         \u001b[0mfinetuned_optimizer\u001b[0m\u001b[0;34m.\u001b[0m\u001b[0mstep\u001b[0m\u001b[0;34m(\u001b[0m\u001b[0;34m)\u001b[0m\u001b[0;34m\u001b[0m\u001b[0;34m\u001b[0m\u001b[0m\n\u001b[1;32m     29\u001b[0m \u001b[0;34m\u001b[0m\u001b[0m\n",
            "\u001b[0;32m/usr/local/lib/python3.10/dist-packages/torch/_tensor.py\u001b[0m in \u001b[0;36mbackward\u001b[0;34m(self, gradient, retain_graph, create_graph, inputs)\u001b[0m\n\u001b[1;32m    523\u001b[0m                 \u001b[0minputs\u001b[0m\u001b[0;34m=\u001b[0m\u001b[0minputs\u001b[0m\u001b[0;34m,\u001b[0m\u001b[0;34m\u001b[0m\u001b[0;34m\u001b[0m\u001b[0m\n\u001b[1;32m    524\u001b[0m             )\n\u001b[0;32m--> 525\u001b[0;31m         torch.autograd.backward(\n\u001b[0m\u001b[1;32m    526\u001b[0m             \u001b[0mself\u001b[0m\u001b[0;34m,\u001b[0m \u001b[0mgradient\u001b[0m\u001b[0;34m,\u001b[0m \u001b[0mretain_graph\u001b[0m\u001b[0;34m,\u001b[0m \u001b[0mcreate_graph\u001b[0m\u001b[0;34m,\u001b[0m \u001b[0minputs\u001b[0m\u001b[0;34m=\u001b[0m\u001b[0minputs\u001b[0m\u001b[0;34m\u001b[0m\u001b[0;34m\u001b[0m\u001b[0m\n\u001b[1;32m    527\u001b[0m         )\n",
            "\u001b[0;32m/usr/local/lib/python3.10/dist-packages/torch/autograd/__init__.py\u001b[0m in \u001b[0;36mbackward\u001b[0;34m(tensors, grad_tensors, retain_graph, create_graph, grad_variables, inputs)\u001b[0m\n\u001b[1;32m    265\u001b[0m     \u001b[0;31m# some Python versions print out the first line of a multi-line function\u001b[0m\u001b[0;34m\u001b[0m\u001b[0;34m\u001b[0m\u001b[0m\n\u001b[1;32m    266\u001b[0m     \u001b[0;31m# calls in the traceback and some print out the last line\u001b[0m\u001b[0;34m\u001b[0m\u001b[0;34m\u001b[0m\u001b[0m\n\u001b[0;32m--> 267\u001b[0;31m     _engine_run_backward(\n\u001b[0m\u001b[1;32m    268\u001b[0m         \u001b[0mtensors\u001b[0m\u001b[0;34m,\u001b[0m\u001b[0;34m\u001b[0m\u001b[0;34m\u001b[0m\u001b[0m\n\u001b[1;32m    269\u001b[0m         \u001b[0mgrad_tensors_\u001b[0m\u001b[0;34m,\u001b[0m\u001b[0;34m\u001b[0m\u001b[0;34m\u001b[0m\u001b[0m\n",
            "\u001b[0;32m/usr/local/lib/python3.10/dist-packages/torch/autograd/graph.py\u001b[0m in \u001b[0;36m_engine_run_backward\u001b[0;34m(t_outputs, *args, **kwargs)\u001b[0m\n\u001b[1;32m    742\u001b[0m         \u001b[0munregister_hooks\u001b[0m \u001b[0;34m=\u001b[0m \u001b[0m_register_logging_hooks_on_whole_graph\u001b[0m\u001b[0;34m(\u001b[0m\u001b[0mt_outputs\u001b[0m\u001b[0;34m)\u001b[0m\u001b[0;34m\u001b[0m\u001b[0;34m\u001b[0m\u001b[0m\n\u001b[1;32m    743\u001b[0m     \u001b[0;32mtry\u001b[0m\u001b[0;34m:\u001b[0m\u001b[0;34m\u001b[0m\u001b[0;34m\u001b[0m\u001b[0m\n\u001b[0;32m--> 744\u001b[0;31m         return Variable._execution_engine.run_backward(  # Calls into the C++ engine to run the backward pass\n\u001b[0m\u001b[1;32m    745\u001b[0m             \u001b[0mt_outputs\u001b[0m\u001b[0;34m,\u001b[0m \u001b[0;34m*\u001b[0m\u001b[0margs\u001b[0m\u001b[0;34m,\u001b[0m \u001b[0;34m**\u001b[0m\u001b[0mkwargs\u001b[0m\u001b[0;34m\u001b[0m\u001b[0;34m\u001b[0m\u001b[0m\n\u001b[1;32m    746\u001b[0m         )  # Calls into the C++ engine to run the backward pass\n",
            "\u001b[0;31mKeyboardInterrupt\u001b[0m: "
          ]
        }
      ],
      "source": [
        "### The output is [probability of being 0, probability of being 1]\n",
        "\n",
        "\n",
        "log_interval = 20\n",
        "n_epoch = 50\n",
        "\n",
        "\n",
        "pbar_update = 1 / (len(trainloader) + len(testloader))\n",
        "losses = []\n",
        "best_test_acc = -9999\n",
        "best_epoch = None\n",
        "\n",
        "# The transform needs to live on the same device as the model and the data.\n",
        "transform = transform.to(device)\n",
        "with tqdm(total=n_epoch) as pbar:\n",
        "    for epoch in range(1, n_epoch + 1):\n",
        "        train(finetuned_model, epoch, log_interval)\n",
        "        test_acc = test(finetuned_model, epoch)\n",
        "        finetuned_scheduler.step()\n",
        "        if test_acc > best_test_acc:\n",
        "          best_test_acc = test_acc\n",
        "          best_epoch = epoch\n",
        "          torch.save(finetuned_model.state_dict(), \"trained_model_best.ckpt\")\n",
        "\n",
        "\n",
        "# Plot the training loss versus the number of iteration.\n",
        "plt.plot(losses);\n",
        "plt.title(\"training loss\")"
      ]
    },
    {
      "cell_type": "code",
      "execution_count": null,
      "metadata": {
        "id": "SneP8cFIMkX2"
      },
      "outputs": [],
      "source": [
        "def predict(tensor):\n",
        "    # Use the model to predict the label of the waveform\n",
        "    tensor = tensor.to(device)\n",
        "    tensor = transform(tensor)\n",
        "    tensor = finetuned_model(tensor.unsqueeze(0))\n",
        "    tensor = get_likely_index(tensor)\n",
        "    return tensor\n",
        "\n",
        "\n",
        "waveform, sample_rate, utterance, *_ = train_dataset[-1]\n",
        "ipd.Audio(waveform.numpy(), rate=sample_rate)\n",
        "\n",
        "print(f\"Expected: {utterance}. Predicted: {predict(waveform)}.\")"
      ]
    },
    {
      "cell_type": "code",
      "execution_count": null,
      "metadata": {
        "id": "xxuVoHckMkX4"
      },
      "outputs": [],
      "source": [
        "for i, (waveform, sample_rate, utterance, *_) in enumerate(test_dataset):\n",
        "    output = predict(waveform)\n",
        "    if output != utterance:\n",
        "        ipd.Audio(waveform.numpy(), rate=sample_rate)\n",
        "        print(f\"Expected: {utterance}. Predicted: {output}.\")\n",
        "        break\n",
        "    else:\n",
        "        print(\"All examples in this dataset were correctly classified!\")\n",
        "        print(\"In this case, let's just look at the last data point\")\n",
        "        ipd.Audio(waveform.numpy(), rate=sample_rate)\n",
        "        print(f\"Expected: {utterance}. Predicted: {output}.\")"
      ]
    },
    {
      "cell_type": "code",
      "execution_count": null,
      "metadata": {
        "id": "CghaRgoOzRFu"
      },
      "outputs": [],
      "source": [
        "# Save model to a file\n",
        "torch.save(finetuned_model.state_dict(), \"trained_model081324.ckpt\")"
      ]
    },
    {
      "cell_type": "markdown",
      "metadata": {
        "id": "jlDes4mFWXwu"
      },
      "source": [
        "# Visualization"
      ]
    },
    {
      "cell_type": "code",
      "execution_count": null,
      "metadata": {
        "id": "gOQmUO_zh8Nq"
      },
      "outputs": [],
      "source": [
        "def plot_specgram(waveform, sample_rate, title=\"Spectrogram\", xlim=None):\n",
        "  waveform = waveform.numpy()\n",
        "\n",
        "  num_channels, num_frames = waveform.shape\n",
        "  time_axis = torch.arange(0, num_frames) / sample_rate\n",
        "\n",
        "  figure, axes = plt.subplots(num_channels, 1)\n",
        "  if num_channels == 1:\n",
        "    axes = [axes]\n",
        "  for c in range(num_channels):\n",
        "    axes[c].specgram(waveform[c], Fs=sample_rate)\n",
        "    if num_channels > 1:\n",
        "      axes[c].set_ylabel(f'Channel {c+1}')\n",
        "    if xlim:\n",
        "      axes[c].set_xlim(xlim)\n",
        "  figure.suptitle(title)\n",
        "  plt.show(block=False)"
      ]
    }
  ],
  "metadata": {
    "colab": {
      "collapsed_sections": [
        "CoCQnzyngrdi",
        "C4e9onfbMkXm",
        "e0ajxL32YkBX",
        "k8bPj-Pp9Las",
        "5rroiB9JORbX"
      ],
      "provenance": []
    },
    "kernelspec": {
      "display_name": "Python 3",
      "language": "python",
      "name": "python3"
    },
    "language_info": {
      "codemirror_mode": {
        "name": "ipython",
        "version": 3
      },
      "file_extension": ".py",
      "mimetype": "text/x-python",
      "name": "python",
      "nbconvert_exporter": "python",
      "pygments_lexer": "ipython3",
      "version": "3.10.4"
    }
  },
  "nbformat": 4,
  "nbformat_minor": 0
}